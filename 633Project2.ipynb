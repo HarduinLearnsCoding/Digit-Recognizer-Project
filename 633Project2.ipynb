{
  "nbformat": 4,
  "nbformat_minor": 0,
  "metadata": {
    "colab": {
      "name": "633Project2.ipynb",
      "provenance": [],
      "collapsed_sections": [
        "SKN8sA9lkZo0",
        "56mMmV5QBoeJ",
        "QsAtoAC_kglY"
      ]
    },
    "kernelspec": {
      "name": "python3",
      "display_name": "Python 3"
    },
    "language_info": {
      "name": "python"
    },
    "accelerator": "GPU"
  },
  "cells": [
    {
      "cell_type": "markdown",
      "metadata": {
        "id": "SKN8sA9lkZo0"
      },
      "source": [
        "#NOT WORKING STUFF\n",
        "\n"
      ]
    },
    {
      "cell_type": "markdown",
      "metadata": {
        "id": "NMgtAL1C7ZrZ"
      },
      "source": [
        "Installing dependencies"
      ]
    },
    {
      "cell_type": "code",
      "metadata": {
        "id": "MrEMVTxR7Tjn"
      },
      "source": [
        "!pip install tensorflow\n",
        "!pip install scikit.learn\n",
        "!pip install pandas\n",
        "!pip install numpy"
      ],
      "execution_count": null,
      "outputs": []
    },
    {
      "cell_type": "code",
      "metadata": {
        "id": "rguT99qb5IEb"
      },
      "source": [
        "import tensorflow as tf\n",
        "import tensorflow_datasets as tfds\n",
        "import numpy as np\n",
        "import pandas as pd\n",
        "import matplotlib.pylab as plt\n",
        "from sklearn import svm\n",
        "from sklearn.preprocessing import StandardScaler\n",
        "from sklearn.decomposition import PCA\n",
        "from sklearn.model_selection import GridSearchCV"
      ],
      "execution_count": null,
      "outputs": []
    },
    {
      "cell_type": "code",
      "metadata": {
        "id": "VuK-wvkVKyXy"
      },
      "source": [
        "def convert(imgf, labelf, outf, n):\n",
        "    f = open(imgf, \"rb\")\n",
        "    o = open(outf, \"w\")\n",
        "    l = open(labelf, \"rb\")\n",
        "\n",
        "    f.read(16)\n",
        "    l.read(8)\n",
        "    images = []\n",
        "\n",
        "    for i in range(n):\n",
        "        image = [ord(l.read(1))]\n",
        "        for j in range(28*28):\n",
        "            image.append(ord(f.read(1)))\n",
        "        images.append(image)\n",
        "\n",
        "    for image in images:\n",
        "        o.write(\",\".join(str(pix) for pix in image)+\"\\n\")\n",
        "    f.close()\n",
        "    o.close()\n",
        "    l.close()\n",
        "\n",
        "convert(\"train-images-idx3-ubyte\", \"train-labels-idx1-ubyte\",\n",
        "\"mnist_train.csv\", 60000)\n",
        "convert(\"t10k-images-idx3-ubyte\", \"t10k-labels-idx1-ubyte\",\n",
        "\"mnist_test.csv\", 10000)"
      ],
      "execution_count": null,
      "outputs": []
    },
    {
      "cell_type": "code",
      "metadata": {
        "id": "f0VxixHSKzAy"
      },
      "source": [
        "df_orig_train = pd.read_csv('mnist_train.csv')\n",
        "df_orig_test = pd.read_csv('mnist_test.csv')"
      ],
      "execution_count": null,
      "outputs": []
    },
    {
      "cell_type": "code",
      "metadata": {
        "id": "Fzt0OYW8K1CB"
      },
      "source": [
        "df_orig_train.rename(columns={'5':'label'}, inplace=True)\n",
        "df_orig_test.rename(columns={'7':'label'}, inplace=True)"
      ],
      "execution_count": null,
      "outputs": []
    },
    {
      "cell_type": "code",
      "metadata": {
        "colab": {
          "base_uri": "https://localhost:8080/"
        },
        "id": "r0ON49rxLGPZ",
        "outputId": "5e5834c4-4738-4ad6-ed46-daee2b9fccf9"
      },
      "source": [
        "df_orig_train = pd.read_csv('mnist_train_final.csv')\n",
        "df_orig_test = pd.read_csv('mnist_test_final.csv')\n",
        "df_orig_train.head"
      ],
      "execution_count": null,
      "outputs": [
        {
          "output_type": "execute_result",
          "data": {
            "text/plain": [
              "<bound method NDFrame.head of        label  0  0.1  0.2  0.3  0.4  ...  0.612  0.613  0.614  0.615  0.616  0.617\n",
              "0          0  0    0    0    0    0  ...      0      0      0      0      0      0\n",
              "1          4  0    0    0    0    0  ...      0      0      0      0      0      0\n",
              "2          1  0    0    0    0    0  ...      0      0      0      0      0      0\n",
              "3          9  0    0    0    0    0  ...      0      0      0      0      0      0\n",
              "4          2  0    0    0    0    0  ...      0      0      0      0      0      0\n",
              "...      ... ..  ...  ...  ...  ...  ...    ...    ...    ...    ...    ...    ...\n",
              "59994      8  0    0    0    0    0  ...      0      0      0      0      0      0\n",
              "59995      3  0    0    0    0    0  ...      0      0      0      0      0      0\n",
              "59996      5  0    0    0    0    0  ...      0      0      0      0      0      0\n",
              "59997      6  0    0    0    0    0  ...      0      0      0      0      0      0\n",
              "59998      8  0    0    0    0    0  ...      0      0      0      0      0      0\n",
              "\n",
              "[59999 rows x 785 columns]>"
            ]
          },
          "metadata": {},
          "execution_count": 5
        }
      ]
    },
    {
      "cell_type": "code",
      "metadata": {
        "id": "iyBSjM05LO8z"
      },
      "source": [
        "labels_train = df_orig_train['label'].to_numpy()\n",
        "df_digits = df_orig_train.drop('label',axis=1)\n",
        "labels_test = df_orig_test['label'].to_numpy()\n",
        "df_digits_test = df_orig_test.drop('label',axis=1)\n",
        "# ind = 3\n",
        "# digits_data_train = df_digits.to_numpy()\n",
        "# digit = digits_data_train[ind]\n",
        "# digit = digit.reshape(28,28)\n",
        "# plt.title('this is  --->   ' + str(labels_train[ind]))\n",
        "# plt.imshow(digit, cmap='gray')"
      ],
      "execution_count": null,
      "outputs": []
    },
    {
      "cell_type": "code",
      "metadata": {
        "id": "iZEeVSIBK2Px"
      },
      "source": [
        "df_orig_train.to_csv('mnist_train_final.csv', index=False)\n",
        "df_orig_test.to_csv('mnist_test_final.csv', index=False)"
      ],
      "execution_count": null,
      "outputs": []
    },
    {
      "cell_type": "markdown",
      "metadata": {
        "id": "_YpGbf8FAM6G"
      },
      "source": [
        "PCA testing"
      ]
    },
    {
      "cell_type": "code",
      "metadata": {
        "id": "vqrdjSPz__1u"
      },
      "source": [
        "dim_red = 4\n",
        "df_digits=StandardScaler().fit_transform(df_digits)\n",
        "pca = PCA(n_components=dim_red, svd_solver='randomized',\n",
        "          whiten=True).fit(df_digits)\n",
        "data_train_pca = pca.transform(df_digits)"
      ],
      "execution_count": null,
      "outputs": []
    },
    {
      "cell_type": "code",
      "metadata": {
        "id": "MJ1Twa6XAJnA"
      },
      "source": [
        "df_digits_test=StandardScaler().fit_transform(df_digits_test)\n",
        "pca = PCA(n_components=dim_red, svd_solver='randomized',\n",
        "          whiten=True).fit(df_digits_test)\n",
        "data_test_pca = pca.transform(df_digits_test)"
      ],
      "execution_count": null,
      "outputs": []
    },
    {
      "cell_type": "code",
      "metadata": {
        "colab": {
          "base_uri": "https://localhost:8080/"
        },
        "id": "TM8nc8uUAV2-",
        "outputId": "c2cd5c1b-69be-4381-e48f-411071740745"
      },
      "source": [
        "# param_grid = { \"C\" : [2]\n",
        "#               , \"gamma\" : [2]}\n",
        "# rf = svm.SVC()\n",
        "# gs = GridSearchCV(estimator=rf, param_grid=param_grid, scoring='accuracy', cv=2, n_jobs=-1, verbose=1)\n",
        "# gs = gs.fit(data_train_pca, labels_train)\n",
        "\n",
        "# print(gs.best_score_)\n",
        "# print(gs.best_params_)"
      ],
      "execution_count": null,
      "outputs": [
        {
          "output_type": "stream",
          "name": "stdout",
          "text": [
            "Fitting 2 folds for each of 1 candidates, totalling 2 fits\n"
          ]
        }
      ]
    },
    {
      "cell_type": "code",
      "metadata": {
        "id": "jCGnksjVAc0k"
      },
      "source": [
        "# bp = gs.best_params_\n",
        "# clf = svm.SVC(C=bp['C'], kernel='rbf', gamma=bp['gamma'])\n",
        "clf = svm.SVC().fit(data_train_pca, labels_train)\n"
      ],
      "execution_count": null,
      "outputs": []
    },
    {
      "cell_type": "code",
      "metadata": {
        "colab": {
          "base_uri": "https://localhost:8080/"
        },
        "id": "mS7w87cyjH3R",
        "outputId": "4cc0381f-aa11-4161-9dcb-826c16138eb1"
      },
      "source": [
        "clf.score(data_test_pca,labels_test)"
      ],
      "execution_count": null,
      "outputs": [
        {
          "output_type": "execute_result",
          "data": {
            "text/plain": [
              "0.4955495549554956"
            ]
          },
          "metadata": {},
          "execution_count": 11
        }
      ]
    },
    {
      "cell_type": "markdown",
      "metadata": {
        "id": "56mMmV5QBoeJ"
      },
      "source": [
        "## My code "
      ]
    },
    {
      "cell_type": "markdown",
      "metadata": {
        "id": "fBdDUnVe5Mto"
      },
      "source": [
        "Importing Dataset"
      ]
    },
    {
      "cell_type": "code",
      "metadata": {
        "id": "e8gsf4yg8ljg"
      },
      "source": [
        "ds = tfds.load('mnist', split='train', as_supervised=True)\n",
        "dstest = tfds.load('mnist', split='test', as_supervised=True)"
      ],
      "execution_count": null,
      "outputs": []
    },
    {
      "cell_type": "code",
      "metadata": {
        "id": "7DCkjQ1pBkj9"
      },
      "source": [
        "dsinfo=tfds.builder('mnist').info\n",
        "mnist_frame_train=tfds.as_dataframe(ds,dsinfo)\n",
        "mnist_frame_test=tfds.as_dataframe(dstest,dsinfo)"
      ],
      "execution_count": null,
      "outputs": []
    },
    {
      "cell_type": "code",
      "metadata": {
        "colab": {
          "base_uri": "https://localhost:8080/"
        },
        "id": "iuBTrvxG_Dzp",
        "outputId": "08e3f8f8-8d2f-43e6-f994-9f0b8f9f4e0f"
      },
      "source": [
        "data_train = mnist_frame_train.drop(['label'], axis='columns', inplace=False)\n",
        "label_train = mnist_frame_train['label']\n",
        "data_test= mnist_frame_test.drop(['label'], axis='columns', inplace=False)\n",
        "label_test = mnist_frame_test['label']\n",
        "data_train.image.shape"
      ],
      "execution_count": null,
      "outputs": [
        {
          "output_type": "execute_result",
          "data": {
            "text/plain": [
              "(60000,)"
            ]
          },
          "metadata": {},
          "execution_count": 6
        }
      ]
    },
    {
      "cell_type": "markdown",
      "metadata": {
        "id": "Vo1xgGJLAOZf"
      },
      "source": [
        "PCA self"
      ]
    },
    {
      "cell_type": "code",
      "metadata": {
        "colab": {
          "base_uri": "https://localhost:8080/"
        },
        "id": "NGC47ki2LamT",
        "outputId": "01f37383-8b42-4be4-c6cf-8020d6ab08ba"
      },
      "source": [
        "size_data=60000\n",
        "dim_number=28*28\n",
        "reduced_dim=16\n",
        "\n",
        "dataarraymnist=np.zeros((size_data,dim_number))\n",
        "labelarraymnist=np.zeros((size_data,1))\n",
        "count=0\n",
        "\n",
        "for i in mnist_frame_train.image:\n",
        "  dataarraymnist[count][:]=np.reshape(i,(1,28*28))\n",
        "  count=count+1\n",
        "\n",
        "counttemp=0\n",
        "for i in mnist_frame_train.label:\n",
        "  labelarraymnist[counttemp][:]=i\n",
        "  counttemp+=1\n",
        "\n",
        "for i in range(len(labelarraymnist)):\n",
        "  labelarraymnist[i][0]=int(labelarraymnist[i][0])\n",
        "\n",
        "labelarraymnist=labelarraymnist.flatten()\n",
        "\n",
        "dataPCA=StandardScaler().fit_transform(dataarraymnist)\n",
        "\n",
        "pca=PCA(n_components=reduced_dim)\n",
        "\n",
        "dataarraymnistPCA = pca.fit_transform(dataPCA)\n",
        "\n",
        "print(dataarraymnistPCA.shape)\n",
        "print(labelarraymnist.shape)"
      ],
      "execution_count": null,
      "outputs": [
        {
          "output_type": "stream",
          "name": "stdout",
          "text": [
            "(60000, 16)\n",
            "(60000,)\n"
          ]
        }
      ]
    },
    {
      "cell_type": "code",
      "metadata": {
        "id": "C-4wTHYDNVEi"
      },
      "source": [
        "cl=svm.SVC(kernel='rbf',gamma='scale').fit(dataarraymnistPCA,labelarraymnist)"
      ],
      "execution_count": null,
      "outputs": []
    },
    {
      "cell_type": "code",
      "metadata": {
        "id": "-54nuFBMmurZ",
        "colab": {
          "base_uri": "https://localhost:8080/"
        },
        "outputId": "75d02a99-4118-4f7c-cd48-7af26363d814"
      },
      "source": [
        "size_test=10000\n",
        "dataarraymnisttest=np.zeros((size_test,dim_number))\n",
        "labelarraymnisttest=np.zeros((size_test,1))\n",
        "\n",
        "count=0\n",
        "for i in mnist_frame_test.image:\n",
        "  dataarraymnisttest[count][:]=np.reshape(i,(1,28*28))\n",
        "  count=count+1\n",
        "\n",
        "counttemp=0\n",
        "for i in mnist_frame_test.label:\n",
        "  labelarraymnisttest[counttemp][:]=i\n",
        "  counttemp+=1\n",
        "\n",
        "for i in range(len(labelarraymnisttest)):\n",
        "  labelarraymnisttest[i][0]=int(labelarraymnisttest[i][0])\n",
        "\n",
        "labelarraymnisttest=labelarraymnisttest.flatten()\n",
        "\n",
        "dataPCAtest=StandardScaler().fit_transform(dataarraymnisttest)\n",
        "\n",
        "pca=PCA(n_components=reduced_dim)\n",
        "\n",
        "dataarraymnistPCAtest = pca.fit_transform(dataPCAtest)\n",
        "\n",
        "print(dataarraymnistPCAtest.shape)"
      ],
      "execution_count": null,
      "outputs": [
        {
          "output_type": "stream",
          "name": "stdout",
          "text": [
            "(10000, 16)\n"
          ]
        }
      ]
    },
    {
      "cell_type": "code",
      "metadata": {
        "id": "9jTnX9L1t9yD"
      },
      "source": [
        "predictedlabels=cl.predict(dataarraymnistPCAtest)"
      ],
      "execution_count": null,
      "outputs": []
    },
    {
      "cell_type": "code",
      "metadata": {
        "colab": {
          "base_uri": "https://localhost:8080/"
        },
        "id": "BVn2pdAKvE-N",
        "outputId": "761198dd-e7c0-4c00-8bcf-2070e9550a08"
      },
      "source": [
        "count=0;\n",
        "\n",
        "for i in range(len(predictedlabels)):\n",
        "  if predictedlabels[i]!=labelarraymnisttest[i]:\n",
        "    count+=1\n",
        "\n",
        "print(count*100/len(predictedlabels))\n",
        "\n",
        "print(predictedlabels)\n",
        "print(labelarraymnisttest)"
      ],
      "execution_count": null,
      "outputs": [
        {
          "output_type": "stream",
          "name": "stdout",
          "text": [
            "50.88\n",
            "[2. 0. 4. ... 8. 0. 8.]\n",
            "[2. 0. 4. ... 8. 0. 5.]\n"
          ]
        }
      ]
    },
    {
      "cell_type": "markdown",
      "metadata": {
        "id": "QsAtoAC_kglY"
      },
      "source": [
        "#TRYING AGAIN"
      ]
    },
    {
      "cell_type": "code",
      "metadata": {
        "id": "2imwDP9JkjPh"
      },
      "source": [
        "import tensorflow as tf\n",
        "import tensorflow_datasets as tfds\n",
        "import numpy as np\n",
        "import pandas as pd\n",
        "import matplotlib.pylab as plt\n",
        "from sklearn import svm\n",
        "from sklearn.preprocessing import StandardScaler\n",
        "from sklearn.decomposition import PCA\n",
        "from sklearn.model_selection import GridSearchCV\n",
        "from sklearn.metrics import accuracy_score"
      ],
      "execution_count": null,
      "outputs": []
    },
    {
      "cell_type": "code",
      "metadata": {
        "id": "km8oqMDylw1B"
      },
      "source": [
        "data_train=pd.read_csv('mnist_train.csv',header=None)\n",
        "data_test=pd.read_csv('mnist_test.csv',header=None)"
      ],
      "execution_count": null,
      "outputs": []
    },
    {
      "cell_type": "code",
      "metadata": {
        "id": "TtfcSY-Kl964"
      },
      "source": [
        "size_train=60000\n",
        "size_test=10000"
      ],
      "execution_count": null,
      "outputs": []
    },
    {
      "cell_type": "code",
      "metadata": {
        "id": "my2j2qFguixc"
      },
      "source": [
        "label_train=data_train.iloc[:, [0]]\n",
        "data_train=data_train.drop(data_train.columns[0],axis=1)\n",
        "label_test=data_test.iloc[:, [0]]\n",
        "data_test=data_test.drop(data_train.columns[0],axis=1)\n",
        "# label_train\n",
        "# data_train"
      ],
      "execution_count": null,
      "outputs": []
    },
    {
      "cell_type": "code",
      "metadata": {
        "id": "OXTnBAldxrV2"
      },
      "source": [
        "data_train=data_train.to_numpy()\n",
        "label_train=label_train.to_numpy()\n",
        "data_test=data_test.to_numpy()\n",
        "label_test=label_test.to_numpy()"
      ],
      "execution_count": null,
      "outputs": []
    },
    {
      "cell_type": "markdown",
      "metadata": {
        "id": "RokmcXi9x9gf"
      },
      "source": [
        "PCA"
      ]
    },
    {
      "cell_type": "code",
      "metadata": {
        "id": "xPP9sXpJx6WW"
      },
      "source": [
        "dim_redn = 4\n",
        "pca = PCA(n_components=dim_redn, svd_solver='randomized',\n",
        "          whiten=True).fit(data_train)\n",
        "data_train_pca = pca.transform(data_train)\n",
        "pca = PCA(n_components=dim_redn, svd_solver='randomized',\n",
        "          whiten=True).fit(data_test)\n",
        "data_test_pca = pca.transform(data_test)"
      ],
      "execution_count": null,
      "outputs": []
    },
    {
      "cell_type": "markdown",
      "metadata": {
        "id": "4Ep9aJjcyckQ"
      },
      "source": [
        "SVM"
      ]
    },
    {
      "cell_type": "code",
      "metadata": {
        "id": "bVPyZo9sycOI"
      },
      "source": [
        "label_train=label_train.flatten()\n",
        "modelSVM=svm.SVC(gamma='scale').fit(data_train,label_train)\n",
        "modelSVM.score(data_test,label_test)"
      ],
      "execution_count": null,
      "outputs": []
    },
    {
      "cell_type": "markdown",
      "metadata": {
        "id": "ZK0hcprH539p"
      },
      "source": [
        "#AGANE\n"
      ]
    },
    {
      "cell_type": "code",
      "metadata": {
        "id": "gFCs3LPu55_5"
      },
      "source": [
        "import tensorflow as tf\n",
        "import numpy as np\n",
        "import pandas as pd\n",
        "from sklearn.decomposition import PCA\n",
        "from sklearn.discriminant_analysis import LinearDiscriminantAnalysis as LDA\n",
        "from sklearn.svm import SVC"
      ],
      "execution_count": 1,
      "outputs": []
    },
    {
      "cell_type": "code",
      "metadata": {
        "id": "HUWXFddl6Gg7",
        "colab": {
          "base_uri": "https://localhost:8080/"
        },
        "outputId": "32bf7d54-dd9e-444c-bf12-9d5408ea9570"
      },
      "source": [
        "from keras.datasets import mnist\n",
        "(data_train,label_train),(data_test,label_test)=mnist.load_data()\n",
        "data_train= data_train.reshape(data_train.shape[0], -1)\n",
        "data_test= data_test.reshape(data_test.shape[0], -1)"
      ],
      "execution_count": 2,
      "outputs": [
        {
          "output_type": "stream",
          "name": "stdout",
          "text": [
            "Downloading data from https://storage.googleapis.com/tensorflow/tf-keras-datasets/mnist.npz\n",
            "11493376/11490434 [==============================] - 0s 0us/step\n",
            "11501568/11490434 [==============================] - 0s 0us/step\n"
          ]
        }
      ]
    },
    {
      "cell_type": "code",
      "metadata": {
        "id": "RO1d-7dv-NnV"
      },
      "source": [
        "data_train=data_train/255.0\n",
        "data_test=data_test/255.0"
      ],
      "execution_count": 3,
      "outputs": []
    },
    {
      "cell_type": "code",
      "metadata": {
        "id": "aak_tc9d-cyr"
      },
      "source": [
        "from sklearn.preprocessing import scale\n",
        "data_train = scale(data_train)\n",
        "data_test=scale(data_test)\n",
        "data_train=data_train.tolist()\n",
        "data_test=data_test.tolist()"
      ],
      "execution_count": 4,
      "outputs": []
    },
    {
      "cell_type": "code",
      "metadata": {
        "id": "oYHtSD366VwQ"
      },
      "source": [
        "dim_redn=2\n",
        "pca=PCA(n_components=dim_redn)\n",
        "data_PCA_train=pca.fit_transform(data_train)\n",
        "data_PCA_test=pca.fit_transform(data_test)"
      ],
      "execution_count": 5,
      "outputs": []
    },
    {
      "cell_type": "code",
      "metadata": {
        "id": "KlmvCvOW7WwK"
      },
      "source": [
        "dim_redn_LDA=9\n",
        "lda=LDA(n_components=dim_redn_LDA)\n",
        "data_LDA_train=lda.fit_transform(data_train,label_train)\n",
        "data_LDA_test=lda.fit_transform(data_test,label_test)"
      ],
      "execution_count": 6,
      "outputs": []
    },
    {
      "cell_type": "markdown",
      "metadata": {
        "id": "4Tgaw0oDQ5zM"
      },
      "source": [
        "Without Dimn Redn"
      ]
    },
    {
      "cell_type": "code",
      "metadata": {
        "colab": {
          "base_uri": "https://localhost:8080/"
        },
        "id": "vhDBOkAx76Sc",
        "outputId": "677d4f3d-e804-4b52-df42-deec0c07f36f"
      },
      "source": [
        "model_svm_linear=SVC(kernel='linear').fit(data_train,label_train)\n",
        "model_svm_linear.score(data_test,label_test)"
      ],
      "execution_count": null,
      "outputs": [
        {
          "output_type": "execute_result",
          "data": {
            "text/plain": [
              "0.928"
            ]
          },
          "metadata": {},
          "execution_count": 9
        }
      ]
    },
    {
      "cell_type": "code",
      "metadata": {
        "colab": {
          "base_uri": "https://localhost:8080/"
        },
        "id": "DDfgh4edDC-Z",
        "outputId": "04797f4d-9a59-416f-ad19-e860010c1f35"
      },
      "source": [
        "model_svm_linear.score(data_train,label_train )"
      ],
      "execution_count": null,
      "outputs": [
        {
          "output_type": "execute_result",
          "data": {
            "text/plain": [
              "0.9821"
            ]
          },
          "metadata": {},
          "execution_count": 12
        }
      ]
    },
    {
      "cell_type": "markdown",
      "metadata": {
        "id": "p5NxPCy8Q7xh"
      },
      "source": [
        "With PCA"
      ]
    },
    {
      "cell_type": "code",
      "metadata": {
        "id": "Eds9sDQ3Q83t"
      },
      "source": [
        "model_svm_linear=SVC(kernel='linear').fit(data_PCA_train,label_train)\n",
        "model_svm_linear.score(data_PCA_test,label_test)"
      ],
      "execution_count": null,
      "outputs": []
    },
    {
      "cell_type": "markdown",
      "metadata": {
        "id": "3prKlhiSQ9RR"
      },
      "source": [
        "With LDA"
      ]
    },
    {
      "cell_type": "code",
      "metadata": {
        "id": "9np7LGNtRAA7"
      },
      "source": [
        "model_svm_linear=SVC(kernel='linear').fit(data_LDA_train,label_train)\n",
        "model_svm_linear.score(data_LDA_test,label_test)"
      ],
      "execution_count": null,
      "outputs": []
    }
  ]
}