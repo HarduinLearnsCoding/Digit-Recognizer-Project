{
  "cells": [
    {
      "cell_type": "markdown",
      "metadata": {
        "id": "SKN8sA9lkZo0"
      },
      "source": [
        "#NOT WORKING STUFF\n",
        "\n"
      ]
    },
    {
      "cell_type": "markdown",
      "metadata": {
        "id": "NMgtAL1C7ZrZ"
      },
      "source": [
        "Installing dependencies"
      ]
    },
    {
      "cell_type": "code",
      "execution_count": null,
      "metadata": {
        "id": "MrEMVTxR7Tjn"
      },
      "outputs": [],
      "source": [
        "!pip install tensorflow\n",
        "!pip install scikit.learn\n",
        "!pip install pandas\n",
        "!pip install numpy"
      ]
    },
    {
      "cell_type": "code",
      "execution_count": null,
      "metadata": {
        "id": "rguT99qb5IEb"
      },
      "outputs": [],
      "source": [
        "import tensorflow as tf\n",
        "import tensorflow_datasets as tfds\n",
        "import numpy as np\n",
        "import pandas as pd\n",
        "import matplotlib.pylab as plt\n",
        "from sklearn import svm\n",
        "from sklearn.preprocessing import StandardScaler\n",
        "from sklearn.decomposition import PCA\n",
        "from sklearn.model_selection import GridSearchCV"
      ]
    },
    {
      "cell_type": "code",
      "execution_count": null,
      "metadata": {
        "id": "VuK-wvkVKyXy"
      },
      "outputs": [],
      "source": [
        "def convert(imgf, labelf, outf, n):\n",
        "    f = open(imgf, \"rb\")\n",
        "    o = open(outf, \"w\")\n",
        "    l = open(labelf, \"rb\")\n",
        "\n",
        "    f.read(16)\n",
        "    l.read(8)\n",
        "    images = []\n",
        "\n",
        "    for i in range(n):\n",
        "        image = [ord(l.read(1))]\n",
        "        for j in range(28*28):\n",
        "            image.append(ord(f.read(1)))\n",
        "        images.append(image)\n",
        "\n",
        "    for image in images:\n",
        "        o.write(\",\".join(str(pix) for pix in image)+\"\\n\")\n",
        "    f.close()\n",
        "    o.close()\n",
        "    l.close()\n",
        "\n",
        "convert(\"train-images-idx3-ubyte\", \"train-labels-idx1-ubyte\",\n",
        "\"mnist_train.csv\", 60000)\n",
        "convert(\"t10k-images-idx3-ubyte\", \"t10k-labels-idx1-ubyte\",\n",
        "\"mnist_test.csv\", 10000)"
      ]
    },
    {
      "cell_type": "code",
      "execution_count": null,
      "metadata": {
        "id": "f0VxixHSKzAy"
      },
      "outputs": [],
      "source": [
        "df_orig_train = pd.read_csv('mnist_train.csv')\n",
        "df_orig_test = pd.read_csv('mnist_test.csv')"
      ]
    },
    {
      "cell_type": "code",
      "execution_count": null,
      "metadata": {
        "id": "Fzt0OYW8K1CB"
      },
      "outputs": [],
      "source": [
        "df_orig_train.rename(columns={'5':'label'}, inplace=True)\n",
        "df_orig_test.rename(columns={'7':'label'}, inplace=True)"
      ]
    },
    {
      "cell_type": "code",
      "execution_count": null,
      "metadata": {
        "colab": {
          "base_uri": "https://localhost:8080/"
        },
        "id": "r0ON49rxLGPZ",
        "outputId": "5e5834c4-4738-4ad6-ed46-daee2b9fccf9"
      },
      "outputs": [],
      "source": [
        "df_orig_train = pd.read_csv('mnist_train_final.csv')\n",
        "df_orig_test = pd.read_csv('mnist_test_final.csv')\n",
        "df_orig_train.head"
      ]
    },
    {
      "cell_type": "code",
      "execution_count": null,
      "metadata": {
        "id": "iyBSjM05LO8z"
      },
      "outputs": [],
      "source": [
        "labels_train = df_orig_train['label'].to_numpy()\n",
        "df_digits = df_orig_train.drop('label',axis=1)\n",
        "labels_test = df_orig_test['label'].to_numpy()\n",
        "df_digits_test = df_orig_test.drop('label',axis=1)\n",
        "# ind = 3\n",
        "# digits_data_train = df_digits.to_numpy()\n",
        "# digit = digits_data_train[ind]\n",
        "# digit = digit.reshape(28,28)\n",
        "# plt.title('this is  --->   ' + str(labels_train[ind]))\n",
        "# plt.imshow(digit, cmap='gray')"
      ]
    },
    {
      "cell_type": "code",
      "execution_count": null,
      "metadata": {
        "id": "iZEeVSIBK2Px"
      },
      "outputs": [],
      "source": [
        "df_orig_train.to_csv('mnist_train_final.csv', index=False)\n",
        "df_orig_test.to_csv('mnist_test_final.csv', index=False)"
      ]
    },
    {
      "cell_type": "markdown",
      "metadata": {
        "id": "_YpGbf8FAM6G"
      },
      "source": [
        "PCA testing"
      ]
    },
    {
      "cell_type": "code",
      "execution_count": null,
      "metadata": {
        "id": "vqrdjSPz__1u"
      },
      "outputs": [],
      "source": [
        "dim_red = 4\n",
        "df_digits=StandardScaler().fit_transform(df_digits)\n",
        "pca = PCA(n_components=dim_red, svd_solver='randomized',\n",
        "          whiten=True).fit(df_digits)\n",
        "data_train_pca = pca.transform(df_digits)"
      ]
    },
    {
      "cell_type": "code",
      "execution_count": null,
      "metadata": {
        "id": "MJ1Twa6XAJnA"
      },
      "outputs": [],
      "source": [
        "df_digits_test=StandardScaler().fit_transform(df_digits_test)\n",
        "pca = PCA(n_components=dim_red, svd_solver='randomized',\n",
        "          whiten=True).fit(df_digits_test)\n",
        "data_test_pca = pca.transform(df_digits_test)"
      ]
    },
    {
      "cell_type": "code",
      "execution_count": null,
      "metadata": {
        "colab": {
          "base_uri": "https://localhost:8080/"
        },
        "id": "TM8nc8uUAV2-",
        "outputId": "c2cd5c1b-69be-4381-e48f-411071740745"
      },
      "outputs": [],
      "source": [
        "# param_grid = { \"C\" : [2]\n",
        "#               , \"gamma\" : [2]}\n",
        "# rf = svm.SVC()\n",
        "# gs = GridSearchCV(estimator=rf, param_grid=param_grid, scoring='accuracy', cv=2, n_jobs=-1, verbose=1)\n",
        "# gs = gs.fit(data_train_pca, labels_train)\n",
        "\n",
        "# print(gs.best_score_)\n",
        "# print(gs.best_params_)"
      ]
    },
    {
      "cell_type": "code",
      "execution_count": null,
      "metadata": {
        "id": "jCGnksjVAc0k"
      },
      "outputs": [],
      "source": [
        "# bp = gs.best_params_\n",
        "# clf = svm.SVC(C=bp['C'], kernel='rbf', gamma=bp['gamma'])\n",
        "clf = svm.SVC().fit(data_train_pca, labels_train)\n"
      ]
    },
    {
      "cell_type": "code",
      "execution_count": null,
      "metadata": {
        "colab": {
          "base_uri": "https://localhost:8080/"
        },
        "id": "mS7w87cyjH3R",
        "outputId": "4cc0381f-aa11-4161-9dcb-826c16138eb1"
      },
      "outputs": [],
      "source": [
        "clf.score(data_test_pca,labels_test)"
      ]
    },
    {
      "cell_type": "markdown",
      "metadata": {
        "id": "56mMmV5QBoeJ"
      },
      "source": [
        "## My code "
      ]
    },
    {
      "cell_type": "markdown",
      "metadata": {
        "id": "fBdDUnVe5Mto"
      },
      "source": [
        "Importing Dataset"
      ]
    },
    {
      "cell_type": "code",
      "execution_count": null,
      "metadata": {
        "id": "e8gsf4yg8ljg"
      },
      "outputs": [],
      "source": [
        "ds = tfds.load('mnist', split='train', as_supervised=True)\n",
        "dstest = tfds.load('mnist', split='test', as_supervised=True)"
      ]
    },
    {
      "cell_type": "code",
      "execution_count": null,
      "metadata": {
        "id": "7DCkjQ1pBkj9"
      },
      "outputs": [],
      "source": [
        "dsinfo=tfds.builder('mnist').info\n",
        "mnist_frame_train=tfds.as_dataframe(ds,dsinfo)\n",
        "mnist_frame_test=tfds.as_dataframe(dstest,dsinfo)"
      ]
    },
    {
      "cell_type": "code",
      "execution_count": null,
      "metadata": {
        "colab": {
          "base_uri": "https://localhost:8080/"
        },
        "id": "iuBTrvxG_Dzp",
        "outputId": "08e3f8f8-8d2f-43e6-f994-9f0b8f9f4e0f"
      },
      "outputs": [],
      "source": [
        "data_train = mnist_frame_train.drop(['label'], axis='columns', inplace=False)\n",
        "label_train = mnist_frame_train['label']\n",
        "data_test= mnist_frame_test.drop(['label'], axis='columns', inplace=False)\n",
        "label_test = mnist_frame_test['label']\n",
        "data_train.image.shape"
      ]
    },
    {
      "cell_type": "markdown",
      "metadata": {
        "id": "Vo1xgGJLAOZf"
      },
      "source": [
        "PCA self"
      ]
    },
    {
      "cell_type": "code",
      "execution_count": null,
      "metadata": {
        "colab": {
          "base_uri": "https://localhost:8080/"
        },
        "id": "NGC47ki2LamT",
        "outputId": "01f37383-8b42-4be4-c6cf-8020d6ab08ba"
      },
      "outputs": [],
      "source": [
        "size_data=60000\n",
        "dim_number=28*28\n",
        "reduced_dim=16\n",
        "\n",
        "dataarraymnist=np.zeros((size_data,dim_number))\n",
        "labelarraymnist=np.zeros((size_data,1))\n",
        "count=0\n",
        "\n",
        "for i in mnist_frame_train.image:\n",
        "  dataarraymnist[count][:]=np.reshape(i,(1,28*28))\n",
        "  count=count+1\n",
        "\n",
        "counttemp=0\n",
        "for i in mnist_frame_train.label:\n",
        "  labelarraymnist[counttemp][:]=i\n",
        "  counttemp+=1\n",
        "\n",
        "for i in range(len(labelarraymnist)):\n",
        "  labelarraymnist[i][0]=int(labelarraymnist[i][0])\n",
        "\n",
        "labelarraymnist=labelarraymnist.flatten()\n",
        "\n",
        "dataPCA=StandardScaler().fit_transform(dataarraymnist)\n",
        "\n",
        "pca=PCA(n_components=reduced_dim)\n",
        "\n",
        "dataarraymnistPCA = pca.fit_transform(dataPCA)\n",
        "\n",
        "print(dataarraymnistPCA.shape)\n",
        "print(labelarraymnist.shape)"
      ]
    },
    {
      "cell_type": "code",
      "execution_count": null,
      "metadata": {
        "id": "C-4wTHYDNVEi"
      },
      "outputs": [],
      "source": [
        "cl=svm.SVC(kernel='rbf',gamma='scale').fit(dataarraymnistPCA,labelarraymnist)"
      ]
    },
    {
      "cell_type": "code",
      "execution_count": null,
      "metadata": {
        "colab": {
          "base_uri": "https://localhost:8080/"
        },
        "id": "-54nuFBMmurZ",
        "outputId": "75d02a99-4118-4f7c-cd48-7af26363d814"
      },
      "outputs": [],
      "source": [
        "size_test=10000\n",
        "dataarraymnisttest=np.zeros((size_test,dim_number))\n",
        "labelarraymnisttest=np.zeros((size_test,1))\n",
        "\n",
        "count=0\n",
        "for i in mnist_frame_test.image:\n",
        "  dataarraymnisttest[count][:]=np.reshape(i,(1,28*28))\n",
        "  count=count+1\n",
        "\n",
        "counttemp=0\n",
        "for i in mnist_frame_test.label:\n",
        "  labelarraymnisttest[counttemp][:]=i\n",
        "  counttemp+=1\n",
        "\n",
        "for i in range(len(labelarraymnisttest)):\n",
        "  labelarraymnisttest[i][0]=int(labelarraymnisttest[i][0])\n",
        "\n",
        "labelarraymnisttest=labelarraymnisttest.flatten()\n",
        "\n",
        "dataPCAtest=StandardScaler().fit_transform(dataarraymnisttest)\n",
        "\n",
        "pca=PCA(n_components=reduced_dim)\n",
        "\n",
        "dataarraymnistPCAtest = pca.fit_transform(dataPCAtest)\n",
        "\n",
        "print(dataarraymnistPCAtest.shape)"
      ]
    },
    {
      "cell_type": "code",
      "execution_count": null,
      "metadata": {
        "id": "9jTnX9L1t9yD"
      },
      "outputs": [],
      "source": [
        "predictedlabels=cl.predict(dataarraymnistPCAtest)"
      ]
    },
    {
      "cell_type": "code",
      "execution_count": null,
      "metadata": {
        "colab": {
          "base_uri": "https://localhost:8080/"
        },
        "id": "BVn2pdAKvE-N",
        "outputId": "761198dd-e7c0-4c00-8bcf-2070e9550a08"
      },
      "outputs": [],
      "source": [
        "count=0;\n",
        "\n",
        "for i in range(len(predictedlabels)):\n",
        "  if predictedlabels[i]!=labelarraymnisttest[i]:\n",
        "    count+=1\n",
        "\n",
        "print(count*100/len(predictedlabels))\n",
        "\n",
        "print(predictedlabels)\n",
        "print(labelarraymnisttest)"
      ]
    },
    {
      "cell_type": "markdown",
      "metadata": {
        "id": "QsAtoAC_kglY"
      },
      "source": [
        "#TRYING AGAIN"
      ]
    },
    {
      "cell_type": "code",
      "execution_count": null,
      "metadata": {
        "id": "2imwDP9JkjPh"
      },
      "outputs": [],
      "source": [
        "import tensorflow as tf\n",
        "import tensorflow_datasets as tfds\n",
        "import numpy as np\n",
        "import pandas as pd\n",
        "import matplotlib.pylab as plt\n",
        "from sklearn import svm\n",
        "from sklearn.preprocessing import StandardScaler\n",
        "from sklearn.decomposition import PCA\n",
        "from sklearn.model_selection import GridSearchCV\n",
        "from sklearn.metrics import accuracy_score"
      ]
    },
    {
      "cell_type": "code",
      "execution_count": null,
      "metadata": {
        "id": "km8oqMDylw1B"
      },
      "outputs": [],
      "source": [
        "data_train=pd.read_csv('mnist_train.csv',header=None)\n",
        "data_test=pd.read_csv('mnist_test.csv',header=None)"
      ]
    },
    {
      "cell_type": "code",
      "execution_count": null,
      "metadata": {
        "id": "TtfcSY-Kl964"
      },
      "outputs": [],
      "source": [
        "size_train=60000\n",
        "size_test=10000"
      ]
    },
    {
      "cell_type": "code",
      "execution_count": null,
      "metadata": {
        "id": "my2j2qFguixc"
      },
      "outputs": [],
      "source": [
        "label_train=data_train.iloc[:, [0]]\n",
        "data_train=data_train.drop(data_train.columns[0],axis=1)\n",
        "label_test=data_test.iloc[:, [0]]\n",
        "data_test=data_test.drop(data_train.columns[0],axis=1)\n",
        "# label_train\n",
        "# data_train"
      ]
    },
    {
      "cell_type": "code",
      "execution_count": null,
      "metadata": {
        "id": "OXTnBAldxrV2"
      },
      "outputs": [],
      "source": [
        "data_train=data_train.to_numpy()\n",
        "label_train=label_train.to_numpy()\n",
        "data_test=data_test.to_numpy()\n",
        "label_test=label_test.to_numpy()"
      ]
    },
    {
      "cell_type": "markdown",
      "metadata": {
        "id": "RokmcXi9x9gf"
      },
      "source": [
        "PCA"
      ]
    },
    {
      "cell_type": "code",
      "execution_count": null,
      "metadata": {
        "id": "xPP9sXpJx6WW"
      },
      "outputs": [],
      "source": [
        "dim_redn = 4\n",
        "pca = PCA(n_components=dim_redn, svd_solver='randomized',\n",
        "          whiten=True).fit(data_train)\n",
        "data_train_pca = pca.transform(data_train)\n",
        "pca = PCA(n_components=dim_redn, svd_solver='randomized',\n",
        "          whiten=True).fit(data_test)\n",
        "data_test_pca = pca.transform(data_test)"
      ]
    },
    {
      "cell_type": "markdown",
      "metadata": {
        "id": "4Ep9aJjcyckQ"
      },
      "source": [
        "SVM"
      ]
    },
    {
      "cell_type": "code",
      "execution_count": null,
      "metadata": {
        "id": "bVPyZo9sycOI"
      },
      "outputs": [],
      "source": [
        "label_train=label_train.flatten()\n",
        "modelSVM=svm.SVC(gamma='scale').fit(data_train,label_train)\n",
        "modelSVM.score(data_test,label_test)"
      ]
    },
    {
      "cell_type": "markdown",
      "metadata": {
        "id": "ZK0hcprH539p"
      },
      "source": [
        "#AGANE\n"
      ]
    },
    {
      "cell_type": "markdown",
      "metadata": {},
      "source": [
        "### SVM and Preprocessing"
      ]
    },
    {
      "cell_type": "code",
      "execution_count": 1,
      "metadata": {
        "id": "gFCs3LPu55_5"
      },
      "outputs": [],
      "source": [
        "import tensorflow as tf\n",
        "import numpy as np\n",
        "import pandas as pd\n",
        "from sklearn.decomposition import PCA\n",
        "from sklearn.discriminant_analysis import LinearDiscriminantAnalysis as LDA\n",
        "from sklearn.svm import SVC\n",
        "from keras.datasets import mnist\n",
        "from sklearn.preprocessing import scale\n",
        "from sklearn.model_selection import GridSearchCV"
      ]
    },
    {
      "cell_type": "code",
      "execution_count": null,
      "metadata": {
        "colab": {
          "base_uri": "https://localhost:8080/"
        },
        "id": "HUWXFddl6Gg7",
        "outputId": "32bf7d54-dd9e-444c-bf12-9d5408ea9570"
      },
      "outputs": [
        {
          "ename": "Error",
          "evalue": "Session cannot generate requests",
          "output_type": "error",
          "traceback": [
            "Error: Session cannot generate requests",
            "at S.executeCodeCell (/Users/harduin/.vscode/extensions/ms-toolsai.jupyter-2021.10.1101450599/out/client/extension.js:66:301742)",
            "at S.execute (/Users/harduin/.vscode/extensions/ms-toolsai.jupyter-2021.10.1101450599/out/client/extension.js:66:300732)",
            "at S.start (/Users/harduin/.vscode/extensions/ms-toolsai.jupyter-2021.10.1101450599/out/client/extension.js:66:296408)",
            "at processTicksAndRejections (internal/process/task_queues.js:93:5)",
            "at async t.CellExecutionQueue.executeQueuedCells (/Users/harduin/.vscode/extensions/ms-toolsai.jupyter-2021.10.1101450599/out/client/extension.js:66:312326)",
            "at async t.CellExecutionQueue.start (/Users/harduin/.vscode/extensions/ms-toolsai.jupyter-2021.10.1101450599/out/client/extension.js:66:311862)"
          ]
        }
      ],
      "source": [
        "(data_train,label_train),(data_test,label_test)=mnist.load_data()\n",
        "data_train_reshaped= data_train.reshape(data_train.shape[0], -1)\n",
        "data_test_reshaped= data_test.reshape(data_test.shape[0], -1)"
      ]
    },
    {
      "cell_type": "code",
      "execution_count": 4,
      "metadata": {},
      "outputs": [],
      "source": [
        "data_complete=np.concatenate((data_train_reshaped,data_test_reshaped))\n",
        "data_complete=data_complete/255.0\n",
        "data_complete=scale(data_complete)\n",
        "data_complete=data_complete.tolist()"
      ]
    },
    {
      "cell_type": "markdown",
      "metadata": {},
      "source": [
        "Linear Kernel"
      ]
    },
    {
      "cell_type": "markdown",
      "metadata": {
        "id": "4Tgaw0oDQ5zM"
      },
      "source": [
        "Without Dimn Redn"
      ]
    },
    {
      "cell_type": "code",
      "execution_count": null,
      "metadata": {
        "colab": {
          "base_uri": "https://localhost:8080/"
        },
        "id": "vhDBOkAx76Sc",
        "outputId": "677d4f3d-e804-4b52-df42-deec0c07f36f"
      },
      "outputs": [],
      "source": [
        "model_svm_linear=SVC(kernel='linear').fit(data_train_reshaped,label_train)\n",
        "model_svm_linear.score(data_test_reshaped,label_test)"
      ]
    },
    {
      "cell_type": "code",
      "execution_count": null,
      "metadata": {
        "colab": {
          "base_uri": "https://localhost:8080/"
        },
        "id": "DDfgh4edDC-Z",
        "outputId": "04797f4d-9a59-416f-ad19-e860010c1f35"
      },
      "outputs": [],
      "source": [
        "model_svm_linear.score(data_train_reshaped,label_train )"
      ]
    },
    {
      "cell_type": "markdown",
      "metadata": {},
      "source": [
        "PCA"
      ]
    },
    {
      "cell_type": "code",
      "execution_count": null,
      "metadata": {},
      "outputs": [],
      "source": [
        "dim_redn=331 #Maybe try to convert to variance I want estimated\n",
        "pca=PCA(n_components=dim_redn)\n",
        "data_PCA_complete=pca.fit_transform(data_complete)"
      ]
    },
    {
      "cell_type": "code",
      "execution_count": null,
      "metadata": {},
      "outputs": [],
      "source": [
        "data_PCA_train=data_PCA_complete[:60000][:]\n",
        "data_PCA_test=data_PCA_complete[60000:][:]"
      ]
    },
    {
      "cell_type": "code",
      "execution_count": null,
      "metadata": {},
      "outputs": [],
      "source": [
        "data_PCA_complete.shape\n",
        "data_PCA_train.shape\n",
        "data_PCA_test.shape"
      ]
    },
    {
      "cell_type": "markdown",
      "metadata": {},
      "source": [
        "With PCA"
      ]
    },
    {
      "cell_type": "code",
      "execution_count": null,
      "metadata": {},
      "outputs": [],
      "source": [
        "model_svm_linear=SVC(kernel='linear').fit(data_PCA_train,label_train)\n",
        "model_svm_linear.score(data_PCA_test,label_test)"
      ]
    },
    {
      "cell_type": "markdown",
      "metadata": {},
      "source": [
        "Possibly wrong LDA since didnt consider whole dataset"
      ]
    },
    {
      "cell_type": "code",
      "execution_count": null,
      "metadata": {
        "id": "KlmvCvOW7WwK"
      },
      "outputs": [],
      "source": [
        "dim_redn_LDA=9\n",
        "lda=LDA(n_components=dim_redn_LDA)\n",
        "data_LDA_train=lda.fit_transform(data_train_reshaped,label_train)\n",
        "data_LDA_test=lda.fit_transform(data_test_reshaped,label_test)"
      ]
    },
    {
      "cell_type": "markdown",
      "metadata": {
        "id": "3prKlhiSQ9RR"
      },
      "source": [
        "With LDA"
      ]
    },
    {
      "cell_type": "code",
      "execution_count": null,
      "metadata": {
        "id": "9np7LGNtRAA7"
      },
      "outputs": [],
      "source": [
        "model_svm_linear=SVC(kernel='linear').fit(data_LDA_train,label_train)\n",
        "model_svm_linear.score(data_LDA_test,label_test)"
      ]
    },
    {
      "cell_type": "markdown",
      "metadata": {},
      "source": [
        "RBF Kernel"
      ]
    },
    {
      "cell_type": "markdown",
      "metadata": {},
      "source": [
        "With PCA"
      ]
    },
    {
      "cell_type": "code",
      "execution_count": null,
      "metadata": {},
      "outputs": [],
      "source": [
        "#Searching for optimal parameters\n",
        "\n",
        "# param_grid = { \"C\" : [0.1]\n",
        "#               , \"gamma\" : [0.1]}\n",
        "# rf = SVC()\n",
        "# gs = GridSearchCV(estimator=rf, param_grid=param_grid, scoring='accuracy', cv=2, n_jobs=-1, verbose=1)\n",
        "# gs = gs.fit(data_PCA_train, label_train)\n",
        "# bp = gs.best_params_"
      ]
    },
    {
      "cell_type": "code",
      "execution_count": null,
      "metadata": {},
      "outputs": [],
      "source": [
        "# model_svm_linear=SVC(C=bp['C'], kernel='rbf', gamma=bp['gamma']).fit(data_PCA_train,label_train)\n",
        "model_svm_linear=SVC( kernel='rbf' ).fit(data_PCA_train,label_train)\n",
        "model_svm_linear.score(data_PCA_test,label_test)"
      ]
    },
    {
      "cell_type": "markdown",
      "metadata": {},
      "source": [
        "Polynomical Kernel"
      ]
    },
    {
      "cell_type": "markdown",
      "metadata": {},
      "source": [
        "With PCA"
      ]
    },
    {
      "cell_type": "code",
      "execution_count": null,
      "metadata": {},
      "outputs": [],
      "source": [
        "model_svm_linear=SVC(kernel='poly').fit(data_PCA_train,label_train)\n",
        "model_svm_linear.score(data_PCA_test,label_test)"
      ]
    },
    {
      "cell_type": "markdown",
      "metadata": {},
      "source": [
        "## CNN Trying\n"
      ]
    },
    {
      "cell_type": "code",
      "execution_count": 4,
      "metadata": {},
      "outputs": [
        {
          "name": "stderr",
          "output_type": "stream",
          "text": [
            "2021-11-25 20:25:44.635820: I tensorflow/core/platform/cpu_feature_guard.cc:151] This TensorFlow binary is optimized with oneAPI Deep Neural Network Library (oneDNN) to use the following CPU instructions in performance-critical operations:  AVX2 FMA\n",
            "To enable them in other operations, rebuild TensorFlow with the appropriate compiler flags.\n"
          ]
        },
        {
          "data": {
            "text/plain": [
              "TensorShape([10000, 32, 32])"
            ]
          },
          "execution_count": 4,
          "metadata": {},
          "output_type": "execute_result"
        }
      ],
      "source": [
        "paddings=tf.constant([[0,0],[2,2],[2,2]])\n",
        "data_train_padded=tf.pad(data_train,paddings,\"CONSTANT\")\n",
        "data_train_padded.shape\n",
        "data_test_padded=tf.pad(data_test,paddings,\"CONSTANT\")\n",
        "data_test_padded.shape"
      ]
    },
    {
      "cell_type": "code",
      "execution_count": 5,
      "metadata": {},
      "outputs": [],
      "source": [
        "data_train_padded=data_train_padded/255\n",
        "data_test_padded=data_test_padded/255"
      ]
    },
    {
      "cell_type": "code",
      "execution_count": 6,
      "metadata": {},
      "outputs": [],
      "source": [
        "data_train_padded_array=np.array(data_train_padded)/255.0\n",
        "data_test_padded_array=np.array(data_test_padded)/255.0"
      ]
    },
    {
      "cell_type": "code",
      "execution_count": 7,
      "metadata": {},
      "outputs": [
        {
          "data": {
            "text/plain": [
              "(60000, 1024)"
            ]
          },
          "execution_count": 7,
          "metadata": {},
          "output_type": "execute_result"
        }
      ],
      "source": [
        "data_train_CNN= data_train_padded_array.reshape(data_train_padded_array.shape[0], -1)\n",
        "data_test_CNN= data_test_padded_array.reshape(data_test_padded_array.shape[0], -1)\n",
        "data_train_CNN.shape"
      ]
    },
    {
      "cell_type": "code",
      "execution_count": 8,
      "metadata": {},
      "outputs": [],
      "source": [
        "data_train_CNN_array=data_train_CNN/255.0\n",
        "data_test_CNN_array=data_test_CNN/255.0"
      ]
    },
    {
      "cell_type": "code",
      "execution_count": 9,
      "metadata": {},
      "outputs": [],
      "source": [
        "[x,y,z]=data_train_padded.shape"
      ]
    },
    {
      "cell_type": "code",
      "execution_count": 10,
      "metadata": {},
      "outputs": [],
      "source": [
        "#Adding Channel information (Grayscale)\n",
        "data_train_CNN = tf.expand_dims(data_train_padded, axis=3, name=None)\n",
        "data_test_CNN = tf.expand_dims(data_test_padded, axis=3, name=None)"
      ]
    },
    {
      "cell_type": "code",
      "execution_count": 11,
      "metadata": {},
      "outputs": [],
      "source": [
        "from tensorflow.keras import layers,losses,models"
      ]
    },
    {
      "cell_type": "code",
      "execution_count": 84,
      "metadata": {},
      "outputs": [
        {
          "name": "stdout",
          "output_type": "stream",
          "text": [
            "Model: \"sequential_10\"\n",
            "_________________________________________________________________\n",
            " Layer (type)                Output Shape              Param #   \n",
            "=================================================================\n",
            " conv2d_11 (Conv2D)          (None, 28, 28, 6)         156       \n",
            "                                                                 \n",
            " average_pooling2d_4 (Averag  (None, 14, 14, 6)        0         \n",
            " ePooling2D)                                                     \n",
            "                                                                 \n",
            " activation_4 (Activation)   (None, 14, 14, 6)         0         \n",
            "                                                                 \n",
            " conv2d_12 (Conv2D)          (None, 10, 10, 16)        2416      \n",
            "                                                                 \n",
            " average_pooling2d_5 (Averag  (None, 5, 5, 16)         0         \n",
            " ePooling2D)                                                     \n",
            "                                                                 \n",
            " activation_5 (Activation)   (None, 5, 5, 16)          0         \n",
            "                                                                 \n",
            " conv2d_13 (Conv2D)          (None, 1, 1, 120)         48120     \n",
            "                                                                 \n",
            " flatten_2 (Flatten)         (None, 120)               0         \n",
            "                                                                 \n",
            " dense_4 (Dense)             (None, 84)                10164     \n",
            "                                                                 \n",
            " dense_5 (Dense)             (None, 10)                850       \n",
            "                                                                 \n",
            "=================================================================\n",
            "Total params: 61,706\n",
            "Trainable params: 61,706\n",
            "Non-trainable params: 0\n",
            "_________________________________________________________________\n"
          ]
        }
      ],
      "source": [
        "#Defining LeNet5\n",
        "\n",
        "model = models.Sequential()\n",
        "model.add(layers.Conv2D(6, 5, activation='tanh', input_shape=data_train_CNN.shape[1:]))\n",
        "model.add(layers.AveragePooling2D(2))\n",
        "model.add(layers.Activation('sigmoid'))\n",
        "model.add(layers.Conv2D(16, 5, activation='tanh'))\n",
        "model.add(layers.AveragePooling2D(2))\n",
        "model.add(layers.Activation('sigmoid'))\n",
        "model.add(layers.Conv2D(120, 5, activation='tanh'))\n",
        "model.add(layers.Flatten())\n",
        "model.add(layers.Dense(84, activation='tanh'))\n",
        "model.add(layers.Dense(10, activation='softmax'))\n",
        "model.summary()"
      ]
    },
    {
      "cell_type": "code",
      "execution_count": 85,
      "metadata": {},
      "outputs": [
        {
          "name": "stdout",
          "output_type": "stream",
          "text": [
            "Epoch 1/40\n",
            "938/938 [==============================] - 12s 12ms/step - loss: 1.3438 - accuracy: 0.5166 - val_loss: 0.5144 - val_accuracy: 0.8367\n",
            "Epoch 2/40\n",
            "938/938 [==============================] - 12s 13ms/step - loss: 0.3603 - accuracy: 0.8882 - val_loss: 0.3156 - val_accuracy: 0.9043\n",
            "Epoch 3/40\n",
            "938/938 [==============================] - 12s 13ms/step - loss: 0.2658 - accuracy: 0.9160 - val_loss: 0.2471 - val_accuracy: 0.9235\n",
            "Epoch 4/40\n",
            "938/938 [==============================] - 12s 13ms/step - loss: 0.2156 - accuracy: 0.9316 - val_loss: 0.1704 - val_accuracy: 0.9459\n",
            "Epoch 5/40\n",
            "938/938 [==============================] - 12s 13ms/step - loss: 0.1836 - accuracy: 0.9409 - val_loss: 0.1568 - val_accuracy: 0.9510\n",
            "Epoch 6/40\n",
            "938/938 [==============================] - 12s 12ms/step - loss: 0.1608 - accuracy: 0.9497 - val_loss: 0.1203 - val_accuracy: 0.9627\n",
            "Epoch 7/40\n",
            "938/938 [==============================] - 12s 13ms/step - loss: 0.1397 - accuracy: 0.9565 - val_loss: 0.1193 - val_accuracy: 0.9632\n",
            "Epoch 8/40\n",
            "938/938 [==============================] - 12s 13ms/step - loss: 0.1297 - accuracy: 0.9590 - val_loss: 0.1198 - val_accuracy: 0.9611\n",
            "Epoch 9/40\n",
            "938/938 [==============================] - 12s 13ms/step - loss: 0.1197 - accuracy: 0.9618 - val_loss: 0.1167 - val_accuracy: 0.9624\n",
            "Epoch 10/40\n",
            "938/938 [==============================] - 12s 13ms/step - loss: 0.1147 - accuracy: 0.9646 - val_loss: 0.1085 - val_accuracy: 0.9661\n",
            "Epoch 11/40\n",
            "938/938 [==============================] - 12s 13ms/step - loss: 0.1064 - accuracy: 0.9664 - val_loss: 0.0967 - val_accuracy: 0.9688\n",
            "Epoch 12/40\n",
            "938/938 [==============================] - 12s 13ms/step - loss: 0.0987 - accuracy: 0.9692 - val_loss: 0.0981 - val_accuracy: 0.9684\n",
            "Epoch 13/40\n",
            "938/938 [==============================] - 12s 13ms/step - loss: 0.0922 - accuracy: 0.9709 - val_loss: 0.0898 - val_accuracy: 0.9709\n",
            "Epoch 14/40\n",
            "938/938 [==============================] - 12s 13ms/step - loss: 0.0905 - accuracy: 0.9718 - val_loss: 0.0757 - val_accuracy: 0.9751\n",
            "Epoch 15/40\n",
            "938/938 [==============================] - 12s 13ms/step - loss: 0.0862 - accuracy: 0.9733 - val_loss: 0.0691 - val_accuracy: 0.9776\n",
            "Epoch 16/40\n",
            "938/938 [==============================] - 12s 13ms/step - loss: 0.0820 - accuracy: 0.9742 - val_loss: 0.0837 - val_accuracy: 0.9726\n",
            "Epoch 17/40\n",
            "938/938 [==============================] - 12s 13ms/step - loss: 0.0840 - accuracy: 0.9733 - val_loss: 0.0761 - val_accuracy: 0.9757\n",
            "Epoch 18/40\n",
            "938/938 [==============================] - 12s 13ms/step - loss: 0.0788 - accuracy: 0.9752 - val_loss: 0.0724 - val_accuracy: 0.9776\n",
            "Epoch 19/40\n",
            "938/938 [==============================] - 12s 13ms/step - loss: 0.0734 - accuracy: 0.9766 - val_loss: 0.0801 - val_accuracy: 0.9765\n",
            "Epoch 20/40\n",
            "938/938 [==============================] - 12s 13ms/step - loss: 0.0712 - accuracy: 0.9771 - val_loss: 0.0773 - val_accuracy: 0.9757\n",
            "Epoch 21/40\n",
            "938/938 [==============================] - 12s 13ms/step - loss: 0.0706 - accuracy: 0.9783 - val_loss: 0.0913 - val_accuracy: 0.9702\n",
            "Epoch 22/40\n",
            "938/938 [==============================] - 12s 13ms/step - loss: 0.0688 - accuracy: 0.9785 - val_loss: 0.0839 - val_accuracy: 0.9735\n",
            "Epoch 23/40\n",
            "938/938 [==============================] - 12s 13ms/step - loss: 0.0650 - accuracy: 0.9796 - val_loss: 0.0670 - val_accuracy: 0.9795\n",
            "Epoch 24/40\n",
            "938/938 [==============================] - 12s 13ms/step - loss: 0.0642 - accuracy: 0.9796 - val_loss: 0.0677 - val_accuracy: 0.9792\n",
            "Epoch 25/40\n",
            "938/938 [==============================] - 12s 13ms/step - loss: 0.0634 - accuracy: 0.9801 - val_loss: 0.0644 - val_accuracy: 0.9793\n",
            "Epoch 26/40\n",
            "938/938 [==============================] - 12s 13ms/step - loss: 0.0643 - accuracy: 0.9797 - val_loss: 0.0699 - val_accuracy: 0.9784\n",
            "Epoch 27/40\n",
            "938/938 [==============================] - 12s 13ms/step - loss: 0.0606 - accuracy: 0.9808 - val_loss: 0.0599 - val_accuracy: 0.9799\n",
            "Epoch 28/40\n",
            "938/938 [==============================] - 12s 13ms/step - loss: 0.0597 - accuracy: 0.9813 - val_loss: 0.0552 - val_accuracy: 0.9817\n",
            "Epoch 29/40\n",
            "938/938 [==============================] - 12s 13ms/step - loss: 0.0571 - accuracy: 0.9813 - val_loss: 0.0551 - val_accuracy: 0.9817\n",
            "Epoch 30/40\n",
            "938/938 [==============================] - 12s 13ms/step - loss: 0.0562 - accuracy: 0.9820 - val_loss: 0.0603 - val_accuracy: 0.9816\n",
            "Epoch 31/40\n",
            "938/938 [==============================] - 12s 13ms/step - loss: 0.0572 - accuracy: 0.9817 - val_loss: 0.0623 - val_accuracy: 0.9789\n",
            "Epoch 32/40\n",
            "938/938 [==============================] - 13s 14ms/step - loss: 0.0562 - accuracy: 0.9819 - val_loss: 0.0771 - val_accuracy: 0.9773\n",
            "Epoch 33/40\n",
            "938/938 [==============================] - 12s 13ms/step - loss: 0.0531 - accuracy: 0.9827 - val_loss: 0.0933 - val_accuracy: 0.9695\n",
            "Epoch 34/40\n",
            "938/938 [==============================] - 12s 13ms/step - loss: 0.0495 - accuracy: 0.9840 - val_loss: 0.0617 - val_accuracy: 0.9819\n",
            "Epoch 35/40\n",
            "938/938 [==============================] - 12s 13ms/step - loss: 0.0500 - accuracy: 0.9837 - val_loss: 0.0685 - val_accuracy: 0.9794\n",
            "Epoch 36/40\n",
            "938/938 [==============================] - 12s 13ms/step - loss: 0.0487 - accuracy: 0.9845 - val_loss: 0.0694 - val_accuracy: 0.9775\n",
            "Epoch 37/40\n",
            "938/938 [==============================] - 12s 13ms/step - loss: 0.0489 - accuracy: 0.9844 - val_loss: 0.0666 - val_accuracy: 0.9785\n",
            "Epoch 38/40\n",
            "938/938 [==============================] - 12s 12ms/step - loss: 0.0489 - accuracy: 0.9844 - val_loss: 0.0491 - val_accuracy: 0.9850\n",
            "Epoch 39/40\n",
            "938/938 [==============================] - 13s 14ms/step - loss: 0.0475 - accuracy: 0.9843 - val_loss: 0.0643 - val_accuracy: 0.9801\n",
            "Epoch 40/40\n",
            "938/938 [==============================] - 14s 14ms/step - loss: 0.0469 - accuracy: 0.9848 - val_loss: 0.0525 - val_accuracy: 0.9829\n"
          ]
        }
      ],
      "source": [
        "model.compile(optimizer='adam', loss=losses.sparse_categorical_crossentropy, metrics=['accuracy'])\n",
        "history = model.fit(data_train_CNN, label_train, batch_size=64, epochs=40, validation_data=(data_test_CNN, label_test))"
      ]
    },
    {
      "cell_type": "code",
      "execution_count": 86,
      "metadata": {},
      "outputs": [
        {
          "name": "stdout",
          "output_type": "stream",
          "text": [
            "313/313 [==============================] - 1s 2ms/step - loss: 0.0525 - accuracy: 0.9829\n"
          ]
        },
        {
          "data": {
            "text/plain": [
              "[0.05252949893474579, 0.9829000234603882]"
            ]
          },
          "execution_count": 86,
          "metadata": {},
          "output_type": "execute_result"
        }
      ],
      "source": [
        "model.evaluate(data_test_CNN, label_test)"
      ]
    },
    {
      "cell_type": "markdown",
      "metadata": {},
      "source": [
        "Same Architecture changing activation functions"
      ]
    },
    {
      "cell_type": "code",
      "execution_count": 87,
      "metadata": {},
      "outputs": [
        {
          "name": "stdout",
          "output_type": "stream",
          "text": [
            "Model: \"sequential_11\"\n",
            "_________________________________________________________________\n",
            " Layer (type)                Output Shape              Param #   \n",
            "=================================================================\n",
            " conv2d_14 (Conv2D)          (None, 28, 28, 6)         156       \n",
            "                                                                 \n",
            " average_pooling2d_6 (Averag  (None, 14, 14, 6)        0         \n",
            " ePooling2D)                                                     \n",
            "                                                                 \n",
            " activation_6 (Activation)   (None, 14, 14, 6)         0         \n",
            "                                                                 \n",
            " conv2d_15 (Conv2D)          (None, 10, 10, 16)        2416      \n",
            "                                                                 \n",
            " average_pooling2d_7 (Averag  (None, 5, 5, 16)         0         \n",
            " ePooling2D)                                                     \n",
            "                                                                 \n",
            " activation_7 (Activation)   (None, 5, 5, 16)          0         \n",
            "                                                                 \n",
            " conv2d_16 (Conv2D)          (None, 1, 1, 120)         48120     \n",
            "                                                                 \n",
            " flatten_3 (Flatten)         (None, 120)               0         \n",
            "                                                                 \n",
            " dense_6 (Dense)             (None, 84)                10164     \n",
            "                                                                 \n",
            " dense_7 (Dense)             (None, 10)                850       \n",
            "                                                                 \n",
            "=================================================================\n",
            "Total params: 61,706\n",
            "Trainable params: 61,706\n",
            "Non-trainable params: 0\n",
            "_________________________________________________________________\n"
          ]
        }
      ],
      "source": [
        "model = models.Sequential()\n",
        "model.add(layers.Conv2D(6, 5, activation='relu', input_shape=data_train_CNN.shape[1:]))\n",
        "model.add(layers.AveragePooling2D(2))\n",
        "model.add(layers.Activation('relu'))\n",
        "model.add(layers.Conv2D(16, 5, activation='relu'))\n",
        "model.add(layers.AveragePooling2D(2))\n",
        "model.add(layers.Activation('relu'))\n",
        "model.add(layers.Conv2D(120, 5, activation='relu'))\n",
        "model.add(layers.Flatten())\n",
        "model.add(layers.Dense(84, activation='relu'))\n",
        "model.add(layers.Dense(10, activation='softmax'))\n",
        "model.summary()"
      ]
    },
    {
      "cell_type": "code",
      "execution_count": 88,
      "metadata": {},
      "outputs": [
        {
          "name": "stdout",
          "output_type": "stream",
          "text": [
            "Epoch 1/40\n",
            "938/938 [==============================] - 13s 13ms/step - loss: 0.2815 - accuracy: 0.9160 - val_loss: 0.1144 - val_accuracy: 0.9641\n",
            "Epoch 2/40\n",
            "938/938 [==============================] - 12s 13ms/step - loss: 0.0868 - accuracy: 0.9728 - val_loss: 0.0598 - val_accuracy: 0.9800\n",
            "Epoch 3/40\n",
            "938/938 [==============================] - 11s 12ms/step - loss: 0.0612 - accuracy: 0.9806 - val_loss: 0.0431 - val_accuracy: 0.9869\n",
            "Epoch 4/40\n",
            "938/938 [==============================] - 13s 14ms/step - loss: 0.0472 - accuracy: 0.9853 - val_loss: 0.0489 - val_accuracy: 0.9826\n",
            "Epoch 5/40\n",
            "938/938 [==============================] - 14s 15ms/step - loss: 0.0393 - accuracy: 0.9873 - val_loss: 0.0412 - val_accuracy: 0.9866\n",
            "Epoch 6/40\n",
            "938/938 [==============================] - 13s 14ms/step - loss: 0.0332 - accuracy: 0.9895 - val_loss: 0.0464 - val_accuracy: 0.9841\n",
            "Epoch 7/40\n",
            "938/938 [==============================] - 12s 13ms/step - loss: 0.0298 - accuracy: 0.9906 - val_loss: 0.0361 - val_accuracy: 0.9877\n",
            "Epoch 8/40\n",
            "938/938 [==============================] - 11s 12ms/step - loss: 0.0254 - accuracy: 0.9918 - val_loss: 0.0361 - val_accuracy: 0.9894\n",
            "Epoch 9/40\n",
            "938/938 [==============================] - 11s 12ms/step - loss: 0.0215 - accuracy: 0.9933 - val_loss: 0.0342 - val_accuracy: 0.9885\n",
            "Epoch 10/40\n",
            "938/938 [==============================] - 11s 12ms/step - loss: 0.0195 - accuracy: 0.9935 - val_loss: 0.0341 - val_accuracy: 0.9885\n",
            "Epoch 11/40\n",
            "938/938 [==============================] - 12s 13ms/step - loss: 0.0176 - accuracy: 0.9942 - val_loss: 0.0349 - val_accuracy: 0.9889\n",
            "Epoch 12/40\n",
            "938/938 [==============================] - 11s 12ms/step - loss: 0.0152 - accuracy: 0.9949 - val_loss: 0.0381 - val_accuracy: 0.9883\n",
            "Epoch 13/40\n",
            "938/938 [==============================] - 12s 13ms/step - loss: 0.0132 - accuracy: 0.9959 - val_loss: 0.0340 - val_accuracy: 0.9895\n",
            "Epoch 14/40\n",
            "938/938 [==============================] - 12s 13ms/step - loss: 0.0133 - accuracy: 0.9955 - val_loss: 0.0510 - val_accuracy: 0.9861\n",
            "Epoch 15/40\n",
            "938/938 [==============================] - 12s 12ms/step - loss: 0.0114 - accuracy: 0.9963 - val_loss: 0.0373 - val_accuracy: 0.9895\n",
            "Epoch 16/40\n",
            "938/938 [==============================] - 13s 14ms/step - loss: 0.0099 - accuracy: 0.9969 - val_loss: 0.0413 - val_accuracy: 0.9888\n",
            "Epoch 17/40\n",
            "938/938 [==============================] - 12s 12ms/step - loss: 0.0092 - accuracy: 0.9970 - val_loss: 0.0378 - val_accuracy: 0.9899\n",
            "Epoch 18/40\n",
            "938/938 [==============================] - 10s 11ms/step - loss: 0.0104 - accuracy: 0.9964 - val_loss: 0.0471 - val_accuracy: 0.9873\n",
            "Epoch 19/40\n",
            "938/938 [==============================] - 10s 11ms/step - loss: 0.0074 - accuracy: 0.9976 - val_loss: 0.0351 - val_accuracy: 0.9904\n",
            "Epoch 20/40\n",
            "938/938 [==============================] - 10s 11ms/step - loss: 0.0074 - accuracy: 0.9974 - val_loss: 0.0418 - val_accuracy: 0.9907\n",
            "Epoch 21/40\n",
            "938/938 [==============================] - 10s 11ms/step - loss: 0.0080 - accuracy: 0.9974 - val_loss: 0.0426 - val_accuracy: 0.9884\n",
            "Epoch 22/40\n",
            "938/938 [==============================] - 10s 11ms/step - loss: 0.0064 - accuracy: 0.9980 - val_loss: 0.0538 - val_accuracy: 0.9880\n",
            "Epoch 23/40\n",
            "938/938 [==============================] - 10s 11ms/step - loss: 0.0064 - accuracy: 0.9976 - val_loss: 0.0474 - val_accuracy: 0.9892\n",
            "Epoch 24/40\n",
            "938/938 [==============================] - 11s 11ms/step - loss: 0.0068 - accuracy: 0.9977 - val_loss: 0.0387 - val_accuracy: 0.9898\n",
            "Epoch 25/40\n",
            "938/938 [==============================] - 11s 11ms/step - loss: 0.0043 - accuracy: 0.9985 - val_loss: 0.0401 - val_accuracy: 0.9912\n",
            "Epoch 26/40\n",
            "938/938 [==============================] - 11s 12ms/step - loss: 0.0060 - accuracy: 0.9980 - val_loss: 0.0652 - val_accuracy: 0.9885\n",
            "Epoch 27/40\n",
            "938/938 [==============================] - 11s 12ms/step - loss: 0.0063 - accuracy: 0.9979 - val_loss: 0.0415 - val_accuracy: 0.9897\n",
            "Epoch 28/40\n",
            "938/938 [==============================] - 11s 12ms/step - loss: 0.0035 - accuracy: 0.9989 - val_loss: 0.0521 - val_accuracy: 0.9896\n",
            "Epoch 29/40\n",
            "938/938 [==============================] - 13s 13ms/step - loss: 0.0048 - accuracy: 0.9985 - val_loss: 0.0505 - val_accuracy: 0.9892\n",
            "Epoch 30/40\n",
            "938/938 [==============================] - 11s 12ms/step - loss: 0.0055 - accuracy: 0.9982 - val_loss: 0.0464 - val_accuracy: 0.9907\n",
            "Epoch 31/40\n",
            "938/938 [==============================] - 12s 12ms/step - loss: 0.0025 - accuracy: 0.9992 - val_loss: 0.0498 - val_accuracy: 0.9913\n",
            "Epoch 32/40\n",
            "938/938 [==============================] - 11s 12ms/step - loss: 0.0053 - accuracy: 0.9984 - val_loss: 0.0435 - val_accuracy: 0.9903\n",
            "Epoch 33/40\n",
            "938/938 [==============================] - 11s 12ms/step - loss: 0.0053 - accuracy: 0.9983 - val_loss: 0.0529 - val_accuracy: 0.9902\n",
            "Epoch 34/40\n",
            "938/938 [==============================] - 11s 11ms/step - loss: 0.0031 - accuracy: 0.9989 - val_loss: 0.0540 - val_accuracy: 0.9905\n",
            "Epoch 35/40\n",
            "938/938 [==============================] - 11s 12ms/step - loss: 0.0038 - accuracy: 0.9989 - val_loss: 0.0486 - val_accuracy: 0.9902\n",
            "Epoch 36/40\n",
            "938/938 [==============================] - 11s 12ms/step - loss: 0.0043 - accuracy: 0.9987 - val_loss: 0.0607 - val_accuracy: 0.9881\n",
            "Epoch 37/40\n",
            "938/938 [==============================] - 12s 12ms/step - loss: 0.0041 - accuracy: 0.9987 - val_loss: 0.0495 - val_accuracy: 0.9894\n",
            "Epoch 38/40\n",
            "938/938 [==============================] - 12s 13ms/step - loss: 0.0022 - accuracy: 0.9994 - val_loss: 0.0484 - val_accuracy: 0.9911\n",
            "Epoch 39/40\n",
            "938/938 [==============================] - 12s 13ms/step - loss: 0.0016 - accuracy: 0.9995 - val_loss: 0.0489 - val_accuracy: 0.9913\n",
            "Epoch 40/40\n",
            "938/938 [==============================] - 11s 12ms/step - loss: 0.0069 - accuracy: 0.9979 - val_loss: 0.0550 - val_accuracy: 0.9896\n"
          ]
        }
      ],
      "source": [
        "model.compile(optimizer='adam', loss=losses.sparse_categorical_crossentropy, metrics=['accuracy'])\n",
        "history = model.fit(data_train_CNN, label_train, batch_size=64, epochs=40, validation_data=(data_test_CNN, label_test))"
      ]
    },
    {
      "cell_type": "code",
      "execution_count": 89,
      "metadata": {},
      "outputs": [
        {
          "name": "stdout",
          "output_type": "stream",
          "text": [
            "313/313 [==============================] - 1s 2ms/step - loss: 0.0550 - accuracy: 0.9896\n"
          ]
        },
        {
          "data": {
            "text/plain": [
              "[0.05504418909549713, 0.9896000027656555]"
            ]
          },
          "execution_count": 89,
          "metadata": {},
          "output_type": "execute_result"
        }
      ],
      "source": [
        "model.evaluate(data_test_CNN, label_test)"
      ]
    },
    {
      "cell_type": "markdown",
      "metadata": {},
      "source": [
        "Changing Kernel Size"
      ]
    },
    {
      "cell_type": "code",
      "execution_count": 104,
      "metadata": {},
      "outputs": [
        {
          "name": "stdout",
          "output_type": "stream",
          "text": [
            "Model: \"sequential_25\"\n",
            "_________________________________________________________________\n",
            " Layer (type)                Output Shape              Param #   \n",
            "=================================================================\n",
            " conv2d_64 (Conv2D)          (None, 30, 30, 6)         60        \n",
            "                                                                 \n",
            " conv2d_65 (Conv2D)          (None, 28, 28, 6)         330       \n",
            "                                                                 \n",
            " average_pooling2d_34 (Avera  (None, 14, 14, 6)        0         \n",
            " gePooling2D)                                                    \n",
            "                                                                 \n",
            " activation_34 (Activation)  (None, 14, 14, 6)         0         \n",
            "                                                                 \n",
            " conv2d_66 (Conv2D)          (None, 12, 12, 16)        880       \n",
            "                                                                 \n",
            " conv2d_67 (Conv2D)          (None, 10, 10, 16)        2320      \n",
            "                                                                 \n",
            " average_pooling2d_35 (Avera  (None, 5, 5, 16)         0         \n",
            " gePooling2D)                                                    \n",
            "                                                                 \n",
            " activation_35 (Activation)  (None, 5, 5, 16)          0         \n",
            "                                                                 \n",
            " conv2d_68 (Conv2D)          (None, 3, 3, 120)         17400     \n",
            "                                                                 \n",
            " conv2d_69 (Conv2D)          (None, 1, 1, 120)         129720    \n",
            "                                                                 \n",
            " flatten_10 (Flatten)        (None, 120)               0         \n",
            "                                                                 \n",
            " dense_20 (Dense)            (None, 84)                10164     \n",
            "                                                                 \n",
            " dense_21 (Dense)            (None, 10)                850       \n",
            "                                                                 \n",
            "=================================================================\n",
            "Total params: 161,724\n",
            "Trainable params: 161,724\n",
            "Non-trainable params: 0\n",
            "_________________________________________________________________\n"
          ]
        }
      ],
      "source": [
        "model = models.Sequential()\n",
        "model.add(layers.Conv2D(6, 3, activation='relu', input_shape=data_train_CNN.shape[1:]))\n",
        "model.add(layers.Conv2D(6, 3, activation='relu', input_shape=data_train_CNN.shape[1:]))\n",
        "model.add(layers.AveragePooling2D(2))\n",
        "model.add(layers.Activation('relu'))\n",
        "model.add(layers.Conv2D(16, 3, activation='relu'))\n",
        "model.add(layers.Conv2D(16, 3, activation='relu'))\n",
        "model.add(layers.AveragePooling2D(2))\n",
        "model.add(layers.Activation('relu'))\n",
        "model.add(layers.Conv2D(120, 3, activation='relu'))\n",
        "model.add(layers.Conv2D(120, 3, activation='relu'))\n",
        "model.add(layers.Flatten())\n",
        "model.add(layers.Dense(84, activation='relu'))\n",
        "model.add(layers.Dense(10, activation='softmax'))\n",
        "model.summary()\n"
      ]
    },
    {
      "cell_type": "code",
      "execution_count": 105,
      "metadata": {},
      "outputs": [
        {
          "name": "stdout",
          "output_type": "stream",
          "text": [
            "Epoch 1/40\n",
            "938/938 [==============================] - 27s 28ms/step - loss: 0.2663 - accuracy: 0.9172 - val_loss: 0.0756 - val_accuracy: 0.9761\n",
            "Epoch 2/40\n",
            "938/938 [==============================] - 25s 27ms/step - loss: 0.0681 - accuracy: 0.9787 - val_loss: 0.0463 - val_accuracy: 0.9863\n",
            "Epoch 3/40\n",
            "938/938 [==============================] - 25s 27ms/step - loss: 0.0440 - accuracy: 0.9860 - val_loss: 0.0433 - val_accuracy: 0.9863\n",
            "Epoch 4/40\n",
            "938/938 [==============================] - 25s 27ms/step - loss: 0.0351 - accuracy: 0.9887 - val_loss: 0.0496 - val_accuracy: 0.9840\n",
            "Epoch 5/40\n",
            "938/938 [==============================] - 26s 28ms/step - loss: 0.0276 - accuracy: 0.9913 - val_loss: 0.0440 - val_accuracy: 0.9867\n",
            "Epoch 6/40\n",
            "938/938 [==============================] - 26s 28ms/step - loss: 0.0244 - accuracy: 0.9922 - val_loss: 0.0340 - val_accuracy: 0.9902\n",
            "Epoch 7/40\n",
            "938/938 [==============================] - 24s 26ms/step - loss: 0.0201 - accuracy: 0.9934 - val_loss: 0.0248 - val_accuracy: 0.9920\n",
            "Epoch 8/40\n",
            "938/938 [==============================] - 25s 27ms/step - loss: 0.0174 - accuracy: 0.9943 - val_loss: 0.0384 - val_accuracy: 0.9883\n",
            "Epoch 9/40\n",
            "938/938 [==============================] - 26s 28ms/step - loss: 0.0157 - accuracy: 0.9949 - val_loss: 0.0357 - val_accuracy: 0.9900\n",
            "Epoch 10/40\n",
            "938/938 [==============================] - 27s 29ms/step - loss: 0.0141 - accuracy: 0.9955 - val_loss: 0.0333 - val_accuracy: 0.9901\n",
            "Epoch 11/40\n",
            "938/938 [==============================] - 28s 30ms/step - loss: 0.0138 - accuracy: 0.9954 - val_loss: 0.0347 - val_accuracy: 0.9905\n",
            "Epoch 12/40\n",
            "938/938 [==============================] - 26s 28ms/step - loss: 0.0116 - accuracy: 0.9966 - val_loss: 0.0365 - val_accuracy: 0.9904\n",
            "Epoch 13/40\n",
            "938/938 [==============================] - 26s 28ms/step - loss: 0.0102 - accuracy: 0.9967 - val_loss: 0.0320 - val_accuracy: 0.9910\n",
            "Epoch 14/40\n",
            "938/938 [==============================] - 26s 28ms/step - loss: 0.0100 - accuracy: 0.9967 - val_loss: 0.0350 - val_accuracy: 0.9911\n",
            "Epoch 15/40\n",
            "938/938 [==============================] - 27s 29ms/step - loss: 0.0092 - accuracy: 0.9969 - val_loss: 0.0327 - val_accuracy: 0.9914\n",
            "Epoch 16/40\n",
            "938/938 [==============================] - 26s 28ms/step - loss: 0.0076 - accuracy: 0.9976 - val_loss: 0.0420 - val_accuracy: 0.9889\n",
            "Epoch 17/40\n",
            "938/938 [==============================] - 26s 28ms/step - loss: 0.0073 - accuracy: 0.9978 - val_loss: 0.0311 - val_accuracy: 0.9918\n",
            "Epoch 18/40\n",
            "938/938 [==============================] - 26s 27ms/step - loss: 0.0054 - accuracy: 0.9983 - val_loss: 0.0432 - val_accuracy: 0.9916\n",
            "Epoch 19/40\n",
            "938/938 [==============================] - 26s 27ms/step - loss: 0.0075 - accuracy: 0.9976 - val_loss: 0.0346 - val_accuracy: 0.9920\n",
            "Epoch 20/40\n",
            "938/938 [==============================] - 26s 28ms/step - loss: 0.0062 - accuracy: 0.9980 - val_loss: 0.0295 - val_accuracy: 0.9933\n",
            "Epoch 21/40\n",
            "938/938 [==============================] - 26s 27ms/step - loss: 0.0065 - accuracy: 0.9979 - val_loss: 0.0349 - val_accuracy: 0.9911\n",
            "Epoch 22/40\n",
            "938/938 [==============================] - 26s 27ms/step - loss: 0.0047 - accuracy: 0.9983 - val_loss: 0.0310 - val_accuracy: 0.9916\n",
            "Epoch 23/40\n",
            "938/938 [==============================] - 26s 28ms/step - loss: 0.0070 - accuracy: 0.9977 - val_loss: 0.0473 - val_accuracy: 0.9902\n",
            "Epoch 24/40\n",
            "938/938 [==============================] - 26s 28ms/step - loss: 0.0058 - accuracy: 0.9981 - val_loss: 0.0358 - val_accuracy: 0.9915\n",
            "Epoch 25/40\n",
            "938/938 [==============================] - 26s 27ms/step - loss: 0.0040 - accuracy: 0.9988 - val_loss: 0.0317 - val_accuracy: 0.9919\n",
            "Epoch 26/40\n",
            "938/938 [==============================] - 26s 27ms/step - loss: 0.0054 - accuracy: 0.9983 - val_loss: 0.0453 - val_accuracy: 0.9903\n",
            "Epoch 27/40\n",
            "938/938 [==============================] - 26s 28ms/step - loss: 0.0052 - accuracy: 0.9983 - val_loss: 0.0336 - val_accuracy: 0.9918\n",
            "Epoch 28/40\n",
            "938/938 [==============================] - 25s 27ms/step - loss: 0.0039 - accuracy: 0.9987 - val_loss: 0.0393 - val_accuracy: 0.9918\n",
            "Epoch 29/40\n",
            "938/938 [==============================] - 26s 27ms/step - loss: 0.0053 - accuracy: 0.9982 - val_loss: 0.0379 - val_accuracy: 0.9905\n",
            "Epoch 30/40\n",
            "938/938 [==============================] - 27s 29ms/step - loss: 0.0037 - accuracy: 0.9989 - val_loss: 0.0375 - val_accuracy: 0.9932\n",
            "Epoch 31/40\n",
            "938/938 [==============================] - 28s 29ms/step - loss: 0.0041 - accuracy: 0.9988 - val_loss: 0.0539 - val_accuracy: 0.9902\n",
            "Epoch 32/40\n",
            "938/938 [==============================] - 26s 27ms/step - loss: 0.0044 - accuracy: 0.9986 - val_loss: 0.0415 - val_accuracy: 0.9925\n",
            "Epoch 33/40\n",
            "938/938 [==============================] - 26s 28ms/step - loss: 0.0032 - accuracy: 0.9990 - val_loss: 0.0415 - val_accuracy: 0.9922\n",
            "Epoch 34/40\n",
            "938/938 [==============================] - 26s 28ms/step - loss: 0.0034 - accuracy: 0.9990 - val_loss: 0.0349 - val_accuracy: 0.9915\n",
            "Epoch 35/40\n",
            "938/938 [==============================] - 26s 28ms/step - loss: 0.0043 - accuracy: 0.9986 - val_loss: 0.0409 - val_accuracy: 0.9902\n",
            "Epoch 36/40\n",
            "938/938 [==============================] - 28s 30ms/step - loss: 0.0028 - accuracy: 0.9991 - val_loss: 0.0453 - val_accuracy: 0.9907\n",
            "Epoch 37/40\n",
            "938/938 [==============================] - 26s 27ms/step - loss: 0.0057 - accuracy: 0.9984 - val_loss: 0.0511 - val_accuracy: 0.9892\n",
            "Epoch 38/40\n",
            "938/938 [==============================] - 25s 27ms/step - loss: 0.0037 - accuracy: 0.9989 - val_loss: 0.0356 - val_accuracy: 0.9910\n",
            "Epoch 39/40\n",
            "938/938 [==============================] - 25s 27ms/step - loss: 0.0032 - accuracy: 0.9992 - val_loss: 0.0352 - val_accuracy: 0.9918\n",
            "Epoch 40/40\n",
            "938/938 [==============================] - 25s 27ms/step - loss: 0.0024 - accuracy: 0.9992 - val_loss: 0.0337 - val_accuracy: 0.9930\n"
          ]
        }
      ],
      "source": [
        "model.compile(optimizer='adam', loss=losses.sparse_categorical_crossentropy, metrics=['accuracy'])\n",
        "history = model.fit(data_train_CNN, label_train, batch_size=64, epochs=40, validation_data=(data_test_CNN, label_test))"
      ]
    },
    {
      "cell_type": "code",
      "execution_count": 106,
      "metadata": {},
      "outputs": [
        {
          "name": "stdout",
          "output_type": "stream",
          "text": [
            "313/313 [==============================] - 1s 2ms/step - loss: 0.0337 - accuracy: 0.9930\n"
          ]
        },
        {
          "data": {
            "text/plain": [
              "[0.033708035945892334, 0.9929999709129333]"
            ]
          },
          "execution_count": 106,
          "metadata": {},
          "output_type": "execute_result"
        }
      ],
      "source": [
        "model.evaluate(data_test_CNN, label_test)"
      ]
    },
    {
      "cell_type": "markdown",
      "metadata": {},
      "source": [
        "MSE is not good for classification. Non-convex"
      ]
    },
    {
      "cell_type": "code",
      "execution_count": 15,
      "metadata": {},
      "outputs": [
        {
          "name": "stdout",
          "output_type": "stream",
          "text": [
            "Model: \"sequential\"\n",
            "_________________________________________________________________\n",
            " Layer (type)                Output Shape              Param #   \n",
            "=================================================================\n",
            " conv2d (Conv2D)             (None, 30, 30, 6)         60        \n",
            "                                                                 \n",
            " conv2d_1 (Conv2D)           (None, 28, 28, 6)         330       \n",
            "                                                                 \n",
            " average_pooling2d (AverageP  (None, 14, 14, 6)        0         \n",
            " ooling2D)                                                       \n",
            "                                                                 \n",
            " activation (Activation)     (None, 14, 14, 6)         0         \n",
            "                                                                 \n",
            " conv2d_2 (Conv2D)           (None, 12, 12, 16)        880       \n",
            "                                                                 \n",
            " conv2d_3 (Conv2D)           (None, 10, 10, 16)        2320      \n",
            "                                                                 \n",
            " average_pooling2d_1 (Averag  (None, 5, 5, 16)         0         \n",
            " ePooling2D)                                                     \n",
            "                                                                 \n",
            " activation_1 (Activation)   (None, 5, 5, 16)          0         \n",
            "                                                                 \n",
            " conv2d_4 (Conv2D)           (None, 3, 3, 120)         17400     \n",
            "                                                                 \n",
            " conv2d_5 (Conv2D)           (None, 1, 1, 120)         129720    \n",
            "                                                                 \n",
            " flatten (Flatten)           (None, 120)               0         \n",
            "                                                                 \n",
            " dense (Dense)               (None, 84)                10164     \n",
            "                                                                 \n",
            " dense_1 (Dense)             (None, 10)                850       \n",
            "                                                                 \n",
            "=================================================================\n",
            "Total params: 161,724\n",
            "Trainable params: 161,724\n",
            "Non-trainable params: 0\n",
            "_________________________________________________________________\n"
          ]
        }
      ],
      "source": [
        "model = models.Sequential()\n",
        "model.add(layers.Conv2D(6, 3, activation='relu', input_shape=data_train_CNN.shape[1:]))\n",
        "model.add(layers.Conv2D(6, 3, activation='relu', input_shape=data_train_CNN.shape[1:]))\n",
        "model.add(layers.AveragePooling2D(2))\n",
        "model.add(layers.Activation('relu'))\n",
        "model.add(layers.Conv2D(16, 3, activation='relu'))\n",
        "model.add(layers.Conv2D(16, 3, activation='relu'))\n",
        "model.add(layers.AveragePooling2D(2))\n",
        "model.add(layers.Activation('relu'))\n",
        "model.add(layers.Conv2D(120, 3, activation='relu'))\n",
        "model.add(layers.Conv2D(120, 3, activation='relu'))\n",
        "model.add(layers.Flatten())\n",
        "model.add(layers.Dense(84, activation='relu'))\n",
        "model.add(layers.Dense(10, activation='sigmoid'))\n",
        "model.summary()\n"
      ]
    },
    {
      "cell_type": "code",
      "execution_count": 16,
      "metadata": {},
      "outputs": [
        {
          "name": "stdout",
          "output_type": "stream",
          "text": [
            "Epoch 1/40\n",
            "938/938 [==============================] - 26s 27ms/step - loss: 20.3208 - accuracy: 0.0989 - val_loss: 20.2422 - val_accuracy: 0.0980\n",
            "Epoch 2/40\n",
            "938/938 [==============================] - 25s 26ms/step - loss: 20.2774 - accuracy: 0.0987 - val_loss: 20.2422 - val_accuracy: 0.0980\n",
            "Epoch 3/40\n",
            "938/938 [==============================] - 25s 27ms/step - loss: 20.2774 - accuracy: 0.0987 - val_loss: 20.2422 - val_accuracy: 0.0980\n",
            "Epoch 4/40\n",
            "938/938 [==============================] - 26s 27ms/step - loss: 20.2774 - accuracy: 0.0987 - val_loss: 20.2422 - val_accuracy: 0.0980\n",
            "Epoch 5/40\n",
            "938/938 [==============================] - 27s 28ms/step - loss: 20.2774 - accuracy: 0.0987 - val_loss: 20.2422 - val_accuracy: 0.0980\n",
            "Epoch 6/40\n",
            "938/938 [==============================] - 29s 31ms/step - loss: 20.2774 - accuracy: 0.0987 - val_loss: 20.2422 - val_accuracy: 0.0980\n",
            "Epoch 7/40\n",
            "938/938 [==============================] - 29s 31ms/step - loss: 20.2774 - accuracy: 0.0987 - val_loss: 20.2422 - val_accuracy: 0.0980\n",
            "Epoch 8/40\n",
            "938/938 [==============================] - 26s 27ms/step - loss: 20.2774 - accuracy: 0.0987 - val_loss: 20.2422 - val_accuracy: 0.0980\n",
            "Epoch 9/40\n",
            "938/938 [==============================] - 27s 28ms/step - loss: 20.2774 - accuracy: 0.0987 - val_loss: 20.2422 - val_accuracy: 0.0980\n",
            "Epoch 10/40\n",
            "938/938 [==============================] - 25s 26ms/step - loss: 20.2774 - accuracy: 0.0987 - val_loss: 20.2422 - val_accuracy: 0.0980\n",
            "Epoch 11/40\n",
            "938/938 [==============================] - 24s 26ms/step - loss: 20.2774 - accuracy: 0.0987 - val_loss: 20.2422 - val_accuracy: 0.0980\n",
            "Epoch 12/40\n",
            "938/938 [==============================] - 25s 27ms/step - loss: 20.2774 - accuracy: 0.0987 - val_loss: 20.2422 - val_accuracy: 0.0980\n",
            "Epoch 13/40\n",
            "938/938 [==============================] - 25s 27ms/step - loss: 20.2774 - accuracy: 0.0987 - val_loss: 20.2422 - val_accuracy: 0.0980\n",
            "Epoch 14/40\n",
            "938/938 [==============================] - 27s 28ms/step - loss: 20.2774 - accuracy: 0.0987 - val_loss: 20.2422 - val_accuracy: 0.0980\n",
            "Epoch 15/40\n",
            "938/938 [==============================] - 26s 28ms/step - loss: 20.2774 - accuracy: 0.0987 - val_loss: 20.2422 - val_accuracy: 0.0980\n",
            "Epoch 16/40\n",
            "938/938 [==============================] - 24s 25ms/step - loss: 20.2774 - accuracy: 0.0987 - val_loss: 20.2422 - val_accuracy: 0.0980\n",
            "Epoch 17/40\n",
            "938/938 [==============================] - 26s 28ms/step - loss: 20.2774 - accuracy: 0.0987 - val_loss: 20.2422 - val_accuracy: 0.0980\n",
            "Epoch 18/40\n",
            "938/938 [==============================] - 25s 27ms/step - loss: 20.2774 - accuracy: 0.0987 - val_loss: 20.2422 - val_accuracy: 0.0980\n",
            "Epoch 19/40\n",
            "938/938 [==============================] - 25s 27ms/step - loss: 20.2774 - accuracy: 0.0987 - val_loss: 20.2422 - val_accuracy: 0.0980\n",
            "Epoch 20/40\n",
            "938/938 [==============================] - 26s 28ms/step - loss: 20.2774 - accuracy: 0.0987 - val_loss: 20.2422 - val_accuracy: 0.0980\n",
            "Epoch 21/40\n",
            "938/938 [==============================] - 26s 27ms/step - loss: 20.2774 - accuracy: 0.0987 - val_loss: 20.2422 - val_accuracy: 0.0980\n",
            "Epoch 22/40\n",
            "938/938 [==============================] - 28s 30ms/step - loss: 20.2774 - accuracy: 0.0987 - val_loss: 20.2422 - val_accuracy: 0.0980\n",
            "Epoch 23/40\n",
            "938/938 [==============================] - 26s 28ms/step - loss: 20.2774 - accuracy: 0.0987 - val_loss: 20.2422 - val_accuracy: 0.0980\n",
            "Epoch 24/40\n",
            "938/938 [==============================] - 27s 29ms/step - loss: 20.2774 - accuracy: 0.0987 - val_loss: 20.2422 - val_accuracy: 0.0980\n",
            "Epoch 25/40\n",
            "938/938 [==============================] - 25s 26ms/step - loss: 20.2774 - accuracy: 0.0987 - val_loss: 20.2422 - val_accuracy: 0.0980\n",
            "Epoch 26/40\n",
            "938/938 [==============================] - 25s 27ms/step - loss: 20.2774 - accuracy: 0.0987 - val_loss: 20.2422 - val_accuracy: 0.0980\n",
            "Epoch 27/40\n",
            "938/938 [==============================] - 26s 28ms/step - loss: 20.2774 - accuracy: 0.0987 - val_loss: 20.2422 - val_accuracy: 0.0980\n",
            "Epoch 28/40\n",
            "938/938 [==============================] - 27s 28ms/step - loss: 20.2774 - accuracy: 0.0987 - val_loss: 20.2422 - val_accuracy: 0.0980\n",
            "Epoch 29/40\n",
            "938/938 [==============================] - 29s 31ms/step - loss: 20.2774 - accuracy: 0.0987 - val_loss: 20.2422 - val_accuracy: 0.0980\n",
            "Epoch 30/40\n",
            "938/938 [==============================] - 27s 29ms/step - loss: 20.2774 - accuracy: 0.0987 - val_loss: 20.2422 - val_accuracy: 0.0980\n",
            "Epoch 31/40\n",
            "938/938 [==============================] - 27s 28ms/step - loss: 20.2774 - accuracy: 0.0987 - val_loss: 20.2422 - val_accuracy: 0.0980\n",
            "Epoch 32/40\n",
            "938/938 [==============================] - 27s 28ms/step - loss: 20.2774 - accuracy: 0.0987 - val_loss: 20.2422 - val_accuracy: 0.0980\n",
            "Epoch 33/40\n",
            "938/938 [==============================] - 27s 29ms/step - loss: 20.2774 - accuracy: 0.0987 - val_loss: 20.2422 - val_accuracy: 0.0980\n",
            "Epoch 34/40\n",
            "938/938 [==============================] - 26s 28ms/step - loss: 20.2774 - accuracy: 0.0987 - val_loss: 20.2422 - val_accuracy: 0.0980\n",
            "Epoch 35/40\n",
            "938/938 [==============================] - 27s 29ms/step - loss: 20.2774 - accuracy: 0.0987 - val_loss: 20.2422 - val_accuracy: 0.0980\n",
            "Epoch 36/40\n",
            "938/938 [==============================] - 25s 27ms/step - loss: 20.2774 - accuracy: 0.0987 - val_loss: 20.2422 - val_accuracy: 0.0980\n",
            "Epoch 37/40\n",
            "938/938 [==============================] - 25s 27ms/step - loss: 20.2774 - accuracy: 0.0987 - val_loss: 20.2422 - val_accuracy: 0.0980\n",
            "Epoch 38/40\n",
            "938/938 [==============================] - 27s 29ms/step - loss: 20.2774 - accuracy: 0.0987 - val_loss: 20.2422 - val_accuracy: 0.0980\n",
            "Epoch 39/40\n",
            "938/938 [==============================] - 23s 25ms/step - loss: 20.2774 - accuracy: 0.0987 - val_loss: 20.2422 - val_accuracy: 0.0980\n",
            "Epoch 40/40\n",
            "938/938 [==============================] - 25s 26ms/step - loss: 20.2774 - accuracy: 0.0987 - val_loss: 20.2422 - val_accuracy: 0.0980\n"
          ]
        }
      ],
      "source": [
        "model.compile(loss='mse',optimizer='adam', metrics=['accuracy'])\n",
        "history = model.fit(data_train_CNN, label_train, batch_size=64, epochs=40, validation_data=(data_test_CNN, label_test))"
      ]
    },
    {
      "cell_type": "code",
      "execution_count": 17,
      "metadata": {},
      "outputs": [
        {
          "name": "stdout",
          "output_type": "stream",
          "text": [
            "313/313 [==============================] - 1s 2ms/step - loss: 20.2422 - accuracy: 0.0980\n"
          ]
        },
        {
          "data": {
            "text/plain": [
              "[20.24220085144043, 0.09799999743700027]"
            ]
          },
          "execution_count": 17,
          "metadata": {},
          "output_type": "execute_result"
        }
      ],
      "source": [
        "model.evaluate(data_test_CNN, label_test)"
      ]
    },
    {
      "cell_type": "markdown",
      "metadata": {},
      "source": [
        "More tuning"
      ]
    },
    {
      "cell_type": "code",
      "execution_count": 12,
      "metadata": {},
      "outputs": [
        {
          "name": "stdout",
          "output_type": "stream",
          "text": [
            "Model: \"sequential\"\n",
            "_________________________________________________________________\n",
            " Layer (type)                Output Shape              Param #   \n",
            "=================================================================\n",
            " conv2d (Conv2D)             (None, 30, 30, 32)        320       \n",
            "                                                                 \n",
            " max_pooling2d (MaxPooling2D  (None, 15, 15, 32)       0         \n",
            " )                                                               \n",
            "                                                                 \n",
            " conv2d_1 (Conv2D)           (None, 13, 13, 64)        18496     \n",
            "                                                                 \n",
            " max_pooling2d_1 (MaxPooling  (None, 6, 6, 64)         0         \n",
            " 2D)                                                             \n",
            "                                                                 \n",
            " flatten (Flatten)           (None, 2304)              0         \n",
            "                                                                 \n",
            " dense (Dense)               (None, 128)               295040    \n",
            "                                                                 \n",
            " dense_1 (Dense)             (None, 10)                1290      \n",
            "                                                                 \n",
            "=================================================================\n",
            "Total params: 315,146\n",
            "Trainable params: 315,146\n",
            "Non-trainable params: 0\n",
            "_________________________________________________________________\n"
          ]
        }
      ],
      "source": [
        "model = models.Sequential()\n",
        "model.add(layers.Conv2D(32,3, activation='relu', input_shape=data_train_CNN.shape[1:]))\n",
        "model.add(layers.MaxPooling2D(2,strides=(2,2)))\n",
        "model.add(layers.Conv2D(64, 3, activation='relu'))\n",
        "model.add(layers.MaxPooling2D(2,strides=(2,2)))\n",
        "model.add(layers.Flatten())\n",
        "model.add(layers.Dense(128,input_shape=(3136,), activation=None))\n",
        "model.add(layers.Dense(10, input_shape=(128,), activation=None))\n",
        "model.summary()\n"
      ]
    },
    {
      "cell_type": "code",
      "execution_count": 13,
      "metadata": {},
      "outputs": [
        {
          "name": "stdout",
          "output_type": "stream",
          "text": [
            "Epoch 1/40\n",
            "938/938 [==============================] - 29s 31ms/step - loss: 2.4661 - accuracy: 0.2295 - val_loss: 2.3026 - val_accuracy: 0.1254\n",
            "Epoch 2/40\n",
            "938/938 [==============================] - 28s 29ms/step - loss: 2.3026 - accuracy: 0.1251 - val_loss: 2.3026 - val_accuracy: 0.1254\n",
            "Epoch 3/40\n",
            "938/938 [==============================] - 25s 27ms/step - loss: 2.3026 - accuracy: 0.1251 - val_loss: 2.3026 - val_accuracy: 0.1254\n",
            "Epoch 4/40\n",
            "938/938 [==============================] - 24s 26ms/step - loss: 2.3026 - accuracy: 0.1251 - val_loss: 2.3026 - val_accuracy: 0.1254\n",
            "Epoch 5/40\n",
            "938/938 [==============================] - 23s 25ms/step - loss: 2.3026 - accuracy: 0.1251 - val_loss: 2.3026 - val_accuracy: 0.1254\n",
            "Epoch 6/40\n",
            "682/938 [====================>.........] - ETA: 6s - loss: 2.3026 - accuracy: 0.1245"
          ]
        }
      ],
      "source": [
        "model.compile(optimizer='adam', loss=losses.sparse_categorical_crossentropy, metrics=['accuracy'])\n",
        "history = model.fit(data_train_CNN, label_train, batch_size=64, epochs=40, validation_data=(data_test_CNN, label_test))"
      ]
    },
    {
      "cell_type": "code",
      "execution_count": null,
      "metadata": {},
      "outputs": [
        {
          "name": "stdout",
          "output_type": "stream",
          "text": [
            "313/313 [==============================] - 1s 2ms/step - loss: 20.2422 - accuracy: 0.0980\n"
          ]
        },
        {
          "data": {
            "text/plain": [
              "[20.24220085144043, 0.09799999743700027]"
            ]
          },
          "metadata": {},
          "output_type": "display_data"
        }
      ],
      "source": [
        "model.evaluate(data_test_CNN, label_test)"
      ]
    }
  ],
  "metadata": {
    "accelerator": "GPU",
    "colab": {
      "collapsed_sections": [
        "SKN8sA9lkZo0",
        "56mMmV5QBoeJ",
        "QsAtoAC_kglY"
      ],
      "name": "633Project2.ipynb",
      "provenance": []
    },
    "kernelspec": {
      "display_name": "Python 3",
      "name": "python3"
    },
    "language_info": {
      "codemirror_mode": {
        "name": "ipython",
        "version": 3
      },
      "file_extension": ".py",
      "mimetype": "text/x-python",
      "name": "python",
      "nbconvert_exporter": "python",
      "pygments_lexer": "ipython3",
      "version": "3.8.12"
    }
  },
  "nbformat": 4,
  "nbformat_minor": 0
}
