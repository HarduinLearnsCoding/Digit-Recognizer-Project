{
  "cells": [
    {
      "cell_type": "markdown",
      "metadata": {
        "id": "NMgtAL1C7ZrZ"
      },
      "source": [
        "### Dependencies "
      ]
    },
    {
      "cell_type": "code",
      "execution_count": null,
      "metadata": {
        "colab": {
          "base_uri": "https://localhost:8080/"
        },
        "id": "MrEMVTxR7Tjn",
        "outputId": "0dae959e-acce-45f9-d352-df3572563a65"
      },
      "outputs": [],
      "source": [
        "!pip install tensorflow\n",
        "!pip install scikit.learn\n",
        "!pip install pandas\n",
        "!pip install numpy\n",
        "!pip install seaborn"
      ]
    },
    {
      "cell_type": "code",
      "execution_count": 1,
      "metadata": {
        "id": "rguT99qb5IEb"
      },
      "outputs": [],
      "source": [
        "%matplotlib inline \n",
        "import os\n",
        "import tensorflow as tf\n",
        "import tensorflow_datasets as tfds\n",
        "import numpy as np\n",
        "import pandas as pd\n",
        "import matplotlib.pylab as plt\n",
        "from sklearn import svm\n",
        "from sklearn.preprocessing import StandardScaler\n",
        "from sklearn.decomposition import PCA\n",
        "from sklearn.model_selection import GridSearchCV\n",
        "from sklearn.svm import SVC\n",
        "from keras.datasets import mnist\n",
        "from sklearn.preprocessing import scale\n",
        "from sklearn.discriminant_analysis import LinearDiscriminantAnalysis as LDA\n",
        "from sklearn.linear_model import LogisticRegression\n",
        "from sklearn.linear_model import LogisticRegressionCV\n",
        "from tensorflow.keras import layers,losses,models\n",
        "from sklearn import metrics\n",
        "from sklearn.metrics import confusion_matrix\n",
        "import seaborn as sns\n",
        "from keras.preprocessing.image import ImageDataGenerator,load_img\n",
        "from keras.applications.imagenet_utils import preprocess_input as zero_mean\n",
        "from keras.callbacks import EarlyStopping"
      ]
    },
    {
      "cell_type": "code",
      "execution_count": null,
      "metadata": {
        "colab": {
          "base_uri": "https://localhost:8080/"
        },
        "id": "tObVFjck9a4D",
        "outputId": "4698046a-c461-4d95-fe55-712bfc159f5a"
      },
      "outputs": [],
      "source": [
        "device_name = tf.test.gpu_device_name()\n",
        "print(device_name)"
      ]
    },
    {
      "cell_type": "markdown",
      "metadata": {
        "id": "5E8X50s8U2Bp"
      },
      "source": [
        "### Data Preprocessing "
      ]
    },
    {
      "cell_type": "code",
      "execution_count": 2,
      "metadata": {
        "id": "HUWXFddl6Gg7"
      },
      "outputs": [],
      "source": [
        "(data_train,label_train),(data_test,label_test)=mnist.load_data()\n",
        "data_train_reshaped= data_train.reshape(data_train.shape[0], -1)\n",
        "data_test_reshaped= data_test.reshape(data_test.shape[0], -1)"
      ]
    },
    {
      "cell_type": "code",
      "execution_count": null,
      "metadata": {
        "id": "stwlY5T1Ps6V"
      },
      "outputs": [],
      "source": [
        "data_train_reshaped=data_train_reshaped/255\n",
        "data_test_reshaped=data_test_reshaped/255\n",
        "data_train_reshaped=scale(data_train_reshaped)\n",
        "data_test_reshaped=scale(data_test_reshaped)"
      ]
    },
    {
      "cell_type": "code",
      "execution_count": null,
      "metadata": {
        "id": "HKM82s0AdSiK"
      },
      "outputs": [],
      "source": [
        "data_complete=np.concatenate((data_train_reshaped,data_test_reshaped))\n",
        "data_complete=data_complete/255.0\n",
        "data_complete=scale(data_complete)\n",
        "label_complete=np.concatenate((label_train,label_test))\n",
        "data_complete=data_complete.tolist()\n",
        "label_complete=label_complete.tolist()"
      ]
    },
    {
      "cell_type": "markdown",
      "metadata": {
        "id": "WArP_o84Jpk6"
      },
      "source": [
        "\n",
        "#### Visualising Data \n",
        "\n"
      ]
    },
    {
      "cell_type": "code",
      "execution_count": null,
      "metadata": {
        "id": "YhSdC1r2J9nu"
      },
      "outputs": [],
      "source": [
        "dictdata={'Image': [],'Label':[]}\n",
        "for i in range(6):\n",
        "  dictdata['Image'].append(data_train[i][:])\n",
        "  dictdata['Label'].append(label_train[i])"
      ]
    },
    {
      "cell_type": "code",
      "execution_count": null,
      "metadata": {
        "id": "jjCoYCO6Lj0s"
      },
      "outputs": [],
      "source": [
        "displaydf=pd.DataFrame(dictdata)"
      ]
    },
    {
      "cell_type": "code",
      "execution_count": null,
      "metadata": {
        "colab": {
          "base_uri": "https://localhost:8080/",
          "height": 267
        },
        "id": "E5JdETdHPSdo",
        "outputId": "11bedf19-4f96-44c6-f1f8-cf44ace0b4a3"
      },
      "outputs": [],
      "source": [
        "f, axarr = plt.subplots(2,3)\n",
        "for i in range(6):\n",
        "  axarr[int(i/3),i%3].imshow(displaydf['Image'][i],cmap='gray')"
      ]
    },
    {
      "cell_type": "code",
      "execution_count": null,
      "metadata": {
        "id": "OXAJdNJfkQY0"
      },
      "outputs": [],
      "source": [
        "dictdatatest={'Image': [],'Label':[]}\n",
        "for i in range(6):\n",
        "  dictdatatest['Image'].append(data_test[i][:])\n",
        "  dictdatatest['Label'].append(label_test[i])\n",
        "\n",
        "displaydftest=pd.DataFrame(dictdatatest)"
      ]
    },
    {
      "cell_type": "code",
      "execution_count": null,
      "metadata": {
        "colab": {
          "base_uri": "https://localhost:8080/",
          "height": 1000
        },
        "id": "5rrU1r5nLstX",
        "outputId": "758b0787-7fc8-458c-dd70-73d8a4e15f0e"
      },
      "outputs": [],
      "source": [
        "#Test Samples\n",
        "\n",
        "for i in range(6):\n",
        "  plt.figure()\n",
        "  plt.title('True Label is %i'%displaydftest['Label'][i])\n",
        "  plt.imshow(displaydftest['Image'][i],cmap='gray')"
      ]
    },
    {
      "cell_type": "code",
      "execution_count": null,
      "metadata": {
        "colab": {
          "base_uri": "https://localhost:8080/",
          "height": 267
        },
        "id": "IrvUAR60uSsM",
        "outputId": "2d3feb71-8a15-47b3-be7b-5df87cdfea45"
      },
      "outputs": [],
      "source": [
        "f, axarr = plt.subplots(2,3)\n",
        "for i in range(6):\n",
        "  axarr[int(i/3),i%3].imshow(displaydftest['Image'][i],cmap='gray')"
      ]
    },
    {
      "cell_type": "code",
      "execution_count": null,
      "metadata": {
        "colab": {
          "base_uri": "https://localhost:8080/",
          "height": 320
        },
        "id": "SuCH84xBkMQ-",
        "outputId": "4b0dac26-985c-486f-8d3b-7520b8a99fed"
      },
      "outputs": [],
      "source": [
        "# Complete Dataset Histogram\n",
        "sns.countplot(label_complete);"
      ]
    },
    {
      "cell_type": "markdown",
      "metadata": {
        "id": "yz3A2GMLU9zB"
      },
      "source": [
        "### Dimensionality Reduction Need to Visualise"
      ]
    },
    {
      "cell_type": "markdown",
      "metadata": {
        "id": "gSWg5_MnSfHN"
      },
      "source": [
        "PCA"
      ]
    },
    {
      "cell_type": "code",
      "execution_count": null,
      "metadata": {
        "id": "RVwfaMjGOl6O"
      },
      "outputs": [],
      "source": [
        "# pca=PCA(n_components=459)\n",
        "pca=PCA(n_components=20)\n",
        "data_PCA_train_actual=pca.fit_transform(data_train_reshaped)\n",
        "data_PCA_test_actual=pca.transform(data_test_reshaped)"
      ]
    },
    {
      "cell_type": "markdown",
      "metadata": {
        "id": "AQsGqWpMSfz-"
      },
      "source": [
        "MDA"
      ]
    },
    {
      "cell_type": "code",
      "execution_count": null,
      "metadata": {
        "id": "kUJ4P_WUXxsZ"
      },
      "outputs": [],
      "source": [
        "dim_redn_LDA=9\n",
        "lda=LDA(n_components=dim_redn_LDA)\n",
        "data_LDA_train_actual=lda.fit_transform(data_train_reshaped,label_train)\n",
        "data_LDA_test_actual=lda.transform(data_test_reshaped)"
      ]
    },
    {
      "cell_type": "markdown",
      "metadata": {
        "id": "lzViB1a6dSiJ"
      },
      "source": [
        "### SVM "
      ]
    },
    {
      "cell_type": "markdown",
      "metadata": {
        "id": "4Tgaw0oDQ5zM"
      },
      "source": [
        "Without Dimn Redn (Time Consuming)"
      ]
    },
    {
      "cell_type": "code",
      "execution_count": null,
      "metadata": {
        "id": "vhDBOkAx76Sc"
      },
      "outputs": [],
      "source": [
        "model_svm_linear=SVC(kernel='linear').fit(data_train_reshaped,label_train)\n",
        "model_svm_linear.score(data_test_reshaped,label_test)"
      ]
    },
    {
      "cell_type": "code",
      "execution_count": null,
      "metadata": {
        "id": "DDfgh4edDC-Z"
      },
      "outputs": [],
      "source": [
        "model_svm_linear.score(data_train_reshaped,label_train )"
      ]
    },
    {
      "cell_type": "markdown",
      "metadata": {
        "id": "-huhhw_IdSiL"
      },
      "source": [
        "####Linear Kernel"
      ]
    },
    {
      "cell_type": "markdown",
      "metadata": {
        "id": "4LP-h3icdSiM"
      },
      "source": [
        "With PCA"
      ]
    },
    {
      "cell_type": "code",
      "execution_count": null,
      "metadata": {
        "colab": {
          "base_uri": "https://localhost:8080/"
        },
        "id": "7ceyUgD0dSiM",
        "outputId": "d7e5a1ef-7437-4de8-b02c-19cce534b61f"
      },
      "outputs": [],
      "source": [
        "model_svm_linear=SVC(kernel='linear').fit(data_PCA_train_actual,label_train)\n",
        "model_svm_linear.score(data_PCA_test_actual,label_test)"
      ]
    },
    {
      "cell_type": "code",
      "execution_count": null,
      "metadata": {
        "colab": {
          "base_uri": "https://localhost:8080/"
        },
        "id": "271iCMxPW3-0",
        "outputId": "1bb6c77e-b122-4198-94bd-fa8052aeb2a3"
      },
      "outputs": [],
      "source": [
        "#How well it is fit on the training data\n",
        "\n",
        "model_svm_linear.score(data_PCA_train_actual,label_train)"
      ]
    },
    {
      "cell_type": "code",
      "execution_count": null,
      "metadata": {
        "colab": {
          "base_uri": "https://localhost:8080/",
          "height": 483
        },
        "id": "iOFz53QqR6SS",
        "outputId": "0f767abf-68f5-47f5-e305-41a50d86fee3"
      },
      "outputs": [],
      "source": [
        "y_pred=model_svm_linear.predict(data_PCA_test_actual)\n",
        "cm=metrics.confusion_matrix(y_true=label_test, y_pred=y_pred)\n",
        "plt.figure(figsize = (16,8))\n",
        "sns.heatmap(cm, annot=True);"
      ]
    },
    {
      "cell_type": "markdown",
      "metadata": {
        "id": "3prKlhiSQ9RR"
      },
      "source": [
        "With LDA"
      ]
    },
    {
      "cell_type": "code",
      "execution_count": null,
      "metadata": {
        "colab": {
          "base_uri": "https://localhost:8080/"
        },
        "id": "9np7LGNtRAA7",
        "outputId": "b8ed73ce-71f9-455b-c9c1-6b94027469f7"
      },
      "outputs": [],
      "source": [
        "model_svm_linear=SVC(kernel='linear').fit(data_LDA_train_actual,label_train)\n",
        "model_svm_linear.score(data_LDA_test_actual,label_test)"
      ]
    },
    {
      "cell_type": "code",
      "execution_count": null,
      "metadata": {
        "colab": {
          "base_uri": "https://localhost:8080/",
          "height": 265
        },
        "id": "NEXXdvBkVd3l",
        "outputId": "35a83db3-2f5e-4b20-8f38-6d93b1e2b05b"
      },
      "outputs": [],
      "source": [
        "y_pred=model_svm_linear.predict(data_LDA_test_actual)\n",
        "cm=metrics.confusion_matrix(y_true=label_test, y_pred=y_pred)\n",
        "plt.figure(figsize = (16,8))\n",
        "sns.heatmap(cm, annot=True);"
      ]
    },
    {
      "cell_type": "markdown",
      "metadata": {
        "id": "UOufEFXkdSiM"
      },
      "source": [
        "#### RBF Kernel"
      ]
    },
    {
      "cell_type": "markdown",
      "metadata": {
        "id": "0DggBxaxdSiM"
      },
      "source": [
        "With PCA"
      ]
    },
    {
      "cell_type": "code",
      "execution_count": null,
      "metadata": {
        "id": "zqOlMjuUdSiN"
      },
      "outputs": [],
      "source": [
        "#Searching for optimal parameters\n",
        "\n",
        "# param_grid = { \"C\" : [0.1]\n",
        "#               , \"gamma\" : [0.1]}\n",
        "# rf = SVC()\n",
        "# gs = GridSearchCV(estimator=rf, param_grid=param_grid, scoring='accuracy', cv=2, n_jobs=-1, verbose=1)\n",
        "# gs = gs.fit(data_PCA_train, label_train)\n",
        "# bp = gs.best_params_"
      ]
    },
    {
      "cell_type": "code",
      "execution_count": null,
      "metadata": {
        "colab": {
          "base_uri": "https://localhost:8080/",
          "height": 346
        },
        "id": "XAofJxtLdSiN",
        "outputId": "ac390dd4-f499-4c76-f4b0-6eff286fa282"
      },
      "outputs": [],
      "source": [
        "# model_svm_linear=SVC(C=bp['C'], kernel='rbf', gamma=bp['gamma']).fit(data_PCA_train,label_train)\n",
        "model_svm_rbf=SVC( kernel='rbf' ).fit(data_PCA_train_actual,label_train)\n",
        "model_svm_rbf.score(data_PCA_test_actual,label_test)"
      ]
    },
    {
      "cell_type": "code",
      "execution_count": null,
      "metadata": {
        "id": "UlweJSxSVhmK"
      },
      "outputs": [],
      "source": [
        "y_pred=model_svm_rbf.predict(data_PCA_test_actual)\n",
        "cm=metrics.confusion_matrix(y_true=label_test, y_pred=y_pred)\n",
        "plt.figure(figsize = (16,8))\n",
        "sns.heatmap(cm, annot=True);"
      ]
    },
    {
      "cell_type": "markdown",
      "metadata": {
        "id": "0tfGjuEblVXE"
      },
      "source": [
        "With LDA"
      ]
    },
    {
      "cell_type": "code",
      "execution_count": null,
      "metadata": {
        "id": "eOxLbyt7lWb7"
      },
      "outputs": [],
      "source": [
        "model_svm_rbf=SVC( kernel='rbf' ).fit(data_LDA_train_actual,label_train)\n",
        "model_svm_rbf.score(data_LDA_test_actual,label_test)"
      ]
    },
    {
      "cell_type": "code",
      "execution_count": null,
      "metadata": {
        "id": "EiPHD-N0Vkma"
      },
      "outputs": [],
      "source": [
        "y_pred=model_svm_rbf.predict(data_LDA_test_actual)\n",
        "cm=metrics.confusion_matrix(y_true=label_test, y_pred=y_pred)\n",
        "plt.figure(figsize = (16,8))\n",
        "sns.heatmap(cm, annot=True);"
      ]
    },
    {
      "cell_type": "markdown",
      "metadata": {
        "id": "LiIgb7LVdSiN"
      },
      "source": [
        "####Polynomial Kernel"
      ]
    },
    {
      "cell_type": "markdown",
      "metadata": {
        "id": "ojmJ6R_rdSiN"
      },
      "source": [
        "With PCA"
      ]
    },
    {
      "cell_type": "code",
      "execution_count": null,
      "metadata": {
        "id": "y3eektScdSiN"
      },
      "outputs": [],
      "source": [
        "model_svm_poly=SVC(kernel='poly').fit(data_PCA_train_actual,label_train)\n",
        "model_svm_poly.score(data_PCA_test_actual,label_test)"
      ]
    },
    {
      "cell_type": "code",
      "execution_count": null,
      "metadata": {
        "id": "UklqrlLLV2ds"
      },
      "outputs": [],
      "source": [
        "y_pred=model_svm_poly.predict(data_PCA_test_actual)\n",
        "cm=metrics.confusion_matrix(y_true=label_test, y_pred=y_pred)\n",
        "plt.figure(figsize = (16,8))\n",
        "sns.heatmap(cm, annot=True);"
      ]
    },
    {
      "cell_type": "markdown",
      "metadata": {
        "id": "hkMjbiTUlfQe"
      },
      "source": [
        "With LDA"
      ]
    },
    {
      "cell_type": "code",
      "execution_count": null,
      "metadata": {
        "id": "zMUzp3GglgtD"
      },
      "outputs": [],
      "source": [
        "model_svm_poly=SVC(kernel='poly').fit(data_LDA_train_actual,label_train)\n",
        "model_svm_poly.score(data_LDA_test_actual,label_test)"
      ]
    },
    {
      "cell_type": "code",
      "execution_count": null,
      "metadata": {
        "id": "gT1zqZorVze0"
      },
      "outputs": [],
      "source": [
        "y_pred=model_svm_poly.predict(data_LDA_test_actual)\n",
        "cm=metrics.confusion_matrix(y_true=label_test, y_pred=y_pred)\n",
        "plt.figure(figsize = (16,8))\n",
        "sns.heatmap(cm, annot=True);"
      ]
    },
    {
      "cell_type": "markdown",
      "metadata": {
        "id": "KWt7bzXZfLQC"
      },
      "source": [
        "### Logistic Regression Need to experiment a bit more"
      ]
    },
    {
      "cell_type": "code",
      "execution_count": null,
      "metadata": {
        "id": "G6hudHmUASq3"
      },
      "outputs": [],
      "source": [
        "data_train_LR=scale(data_train_reshaped)\n",
        "data_test_LR=scale(data_test_reshaped)"
      ]
    },
    {
      "cell_type": "markdown",
      "metadata": {
        "id": "a_nKk4o4m0MI"
      },
      "source": [
        "With PCA"
      ]
    },
    {
      "cell_type": "code",
      "execution_count": null,
      "metadata": {
        "id": "PNwtV4rS_9jh"
      },
      "outputs": [],
      "source": [
        "clf = LogisticRegression(random_state=0,max_iter=2000).fit(data_PCA_train_actual, label_train)\n",
        "clf.score(data_PCA_test_actual,label_test)"
      ]
    },
    {
      "cell_type": "markdown",
      "metadata": {
        "id": "XLZK00Rbm2ru"
      },
      "source": [
        "With MDA"
      ]
    },
    {
      "cell_type": "code",
      "execution_count": null,
      "metadata": {
        "colab": {
          "base_uri": "https://localhost:8080/"
        },
        "id": "DiRpF-Ypm4Bj",
        "outputId": "5ebb708c-3a07-4f68-fc0b-4b0eb6b7d4af"
      },
      "outputs": [],
      "source": [
        "clf = LogisticRegression(random_state=0,max_iter=2000).fit(data_LDA_train_actual, label_train)\n",
        "clf.score(data_LDA_test_actual,label_test)"
      ]
    },
    {
      "cell_type": "markdown",
      "metadata": {
        "id": "xeGkrrZXjQlA"
      },
      "source": [
        "With Cross Validation on PCA"
      ]
    },
    {
      "cell_type": "code",
      "execution_count": null,
      "metadata": {
        "colab": {
          "base_uri": "https://localhost:8080/"
        },
        "id": "fyVgVyxkjTCY",
        "outputId": "01c71b85-67cc-489e-a056-bf588d609994"
      },
      "outputs": [],
      "source": [
        "clfnew=LogisticRegressionCV(max_iter=1000,cv=5).fit(data_PCA_train_actual,label_train)\n",
        "clfnew.score(data_PCA_test_actual,label_test)"
      ]
    },
    {
      "cell_type": "markdown",
      "metadata": {
        "id": "XhjU2PhSowXP"
      },
      "source": [
        "With Cross Validation on MDA"
      ]
    },
    {
      "cell_type": "code",
      "execution_count": null,
      "metadata": {
        "id": "4H6QPsgzoxWF"
      },
      "outputs": [],
      "source": [
        "clfnew=LogisticRegressionCV(max_iter=1000,cv=5).fit(data_LDA_train_actual,label_train)\n",
        "clfnew.score(data_LDA_test_actual,label_test)"
      ]
    },
    {
      "cell_type": "markdown",
      "metadata": {
        "id": "AmewYZzao2Cd"
      },
      "source": [
        "Balanced class weights"
      ]
    },
    {
      "cell_type": "code",
      "execution_count": null,
      "metadata": {
        "colab": {
          "base_uri": "https://localhost:8080/"
        },
        "id": "RzxkKkq_jw4S",
        "outputId": "4fae74c7-c80a-4f4d-afb0-7d0120058343"
      },
      "outputs": [],
      "source": [
        "clfbal=LogisticRegression(class_weight='balanced',max_iter=2000).fit(data_PCA_train_actual,label_train)\n",
        "clfbal.score(data_PCA_test_actual,label_test)"
      ]
    },
    {
      "cell_type": "markdown",
      "metadata": {
        "id": "s7c-XDXZpGq2"
      },
      "source": [
        "L1 penalty"
      ]
    },
    {
      "cell_type": "markdown",
      "metadata": {
        "id": "yDXgpWtkpKo-"
      },
      "source": [
        "PCA"
      ]
    },
    {
      "cell_type": "code",
      "execution_count": null,
      "metadata": {
        "colab": {
          "base_uri": "https://localhost:8080/"
        },
        "id": "XaQF-8k3pLoI",
        "outputId": "462219ec-7140-4e69-bf05-e983bc6a41b1"
      },
      "outputs": [],
      "source": [
        "clf = LogisticRegression(random_state=0,max_iter=2000,penalty='l1',solver='liblinear').fit(data_PCA_train_actual, label_train)\n",
        "clf.score(data_PCA_test_actual,label_test)"
      ]
    },
    {
      "cell_type": "markdown",
      "metadata": {
        "id": "vjYhYLnJpJ7S"
      },
      "source": [
        "MDA"
      ]
    },
    {
      "cell_type": "code",
      "execution_count": null,
      "metadata": {
        "id": "QzHlgHWOpH7I"
      },
      "outputs": [],
      "source": [
        "clf = LogisticRegression(random_state=0,max_iter=2000,penalty='l1',solver='liblinear').fit(data_LDA_train_actual, label_train)\n",
        "clf.score(data_LDA_test_actual,label_test)"
      ]
    },
    {
      "cell_type": "markdown",
      "metadata": {
        "id": "8d_i_UikrXiL"
      },
      "source": [
        "Changing Solvers"
      ]
    },
    {
      "cell_type": "code",
      "execution_count": null,
      "metadata": {
        "colab": {
          "base_uri": "https://localhost:8080/"
        },
        "id": "pDcAkkpgrfrK",
        "outputId": "936273cb-6bf9-4987-9a12-5857eda23e7e"
      },
      "outputs": [],
      "source": [
        "clf = LogisticRegression(random_state=0,max_iter=2000,solver='saga').fit(data_PCA_train_actual, label_train)\n",
        "clf.score(data_PCA_test_actual,label_test)"
      ]
    },
    {
      "cell_type": "code",
      "execution_count": null,
      "metadata": {
        "colab": {
          "base_uri": "https://localhost:8080/"
        },
        "id": "GyeTLlwOrlrX",
        "outputId": "fc5961c4-4fd3-4c8a-8070-1c7b27f4b646"
      },
      "outputs": [],
      "source": [
        "clf = LogisticRegression(random_state=0,max_iter=2000,solver='newton-cg').fit(data_PCA_train_actual, label_train)\n",
        "clf.score(data_PCA_test_actual,label_test)"
      ]
    },
    {
      "cell_type": "code",
      "execution_count": null,
      "metadata": {
        "colab": {
          "base_uri": "https://localhost:8080/"
        },
        "id": "l88jZBO6rrTI",
        "outputId": "1bec440a-dcff-4cb5-d9d2-ba9c9510f7f8"
      },
      "outputs": [],
      "source": [
        "clf = LogisticRegression(random_state=0,max_iter=2000,solver='liblinear').fit(data_PCA_train_actual, label_train)\n",
        "clf.score(data_PCA_test_actual,label_test)"
      ]
    },
    {
      "cell_type": "markdown",
      "metadata": {
        "id": "ciJYMp1OdSiN"
      },
      "source": [
        "### CNN Implementation Investigate Dropout See early stop conditions\n"
      ]
    },
    {
      "cell_type": "code",
      "execution_count": null,
      "metadata": {
        "colab": {
          "base_uri": "https://localhost:8080/"
        },
        "id": "yD1Z6z2wdSiN",
        "outputId": "fbb4e9aa-6635-4af7-b27e-7d5016cc4bcd"
      },
      "outputs": [],
      "source": [
        "paddings=tf.constant([[0,0],[2,2],[2,2]])\n",
        "data_train_padded=tf.pad(data_train,paddings,\"CONSTANT\")\n",
        "data_train_padded.shape\n",
        "data_test_padded=tf.pad(data_test,paddings,\"CONSTANT\")\n",
        "data_test_padded.shape"
      ]
    },
    {
      "cell_type": "code",
      "execution_count": null,
      "metadata": {
        "id": "UdiDY_LAdSiN"
      },
      "outputs": [],
      "source": [
        "data_train_padded=data_train_padded/255\n",
        "data_test_padded=data_test_padded/255"
      ]
    },
    {
      "cell_type": "code",
      "execution_count": null,
      "metadata": {
        "id": "uZGDVhdidSiO"
      },
      "outputs": [],
      "source": [
        "data_train_padded_array=np.array(data_train_padded)/255.0\n",
        "data_test_padded_array=np.array(data_test_padded)/255.0"
      ]
    },
    {
      "cell_type": "code",
      "execution_count": null,
      "metadata": {
        "colab": {
          "base_uri": "https://localhost:8080/"
        },
        "id": "7WoEdSnidSiO",
        "outputId": "c7bc728c-f165-4ece-c2ee-4d88b1eb10e5"
      },
      "outputs": [],
      "source": [
        "data_train_CNN= data_train_padded_array.reshape(data_train_padded_array.shape[0], -1)\n",
        "data_test_CNN= data_test_padded_array.reshape(data_test_padded_array.shape[0], -1)\n",
        "data_train_CNN.shape"
      ]
    },
    {
      "cell_type": "code",
      "execution_count": null,
      "metadata": {
        "id": "xHoqOGuEdSiO"
      },
      "outputs": [],
      "source": [
        "data_train_CNN_array=data_train_CNN/255.0\n",
        "data_test_CNN_array=data_test_CNN/255.0"
      ]
    },
    {
      "cell_type": "code",
      "execution_count": null,
      "metadata": {
        "id": "134RJyl2dSiO"
      },
      "outputs": [],
      "source": [
        "[x,y,z]=data_train_padded.shape"
      ]
    },
    {
      "cell_type": "code",
      "execution_count": null,
      "metadata": {
        "id": "d-PPLnZ7dSiO"
      },
      "outputs": [],
      "source": [
        "#Adding Channel information (Grayscale)\n",
        "data_train_CNN = tf.expand_dims(data_train_padded, axis=3, name=None)\n",
        "data_test_CNN = tf.expand_dims(data_test_padded, axis=3, name=None)"
      ]
    },
    {
      "cell_type": "code",
      "execution_count": null,
      "metadata": {
        "colab": {
          "base_uri": "https://localhost:8080/"
        },
        "id": "HWVStob8dSiO",
        "outputId": "ffde0113-0dc1-41a0-daca-c82b160a7b3c"
      },
      "outputs": [],
      "source": [
        "#Defining LeNet5\n",
        "\n",
        "model = models.Sequential()\n",
        "model.add(layers.Conv2D(6, 5, activation='tanh', input_shape=data_train_CNN.shape[1:]))\n",
        "model.add(layers.AveragePooling2D(2))\n",
        "model.add(layers.Activation('sigmoid'))\n",
        "model.add(layers.Conv2D(16, 5, activation='tanh'))\n",
        "model.add(layers.AveragePooling2D(2))\n",
        "model.add(layers.Activation('sigmoid'))\n",
        "model.add(layers.Conv2D(120, 5, activation='tanh'))\n",
        "model.add(layers.Flatten())\n",
        "model.add(layers.Dense(84, activation='tanh'))\n",
        "model.add(layers.Dense(10, activation='softmax'))\n",
        "model.summary()"
      ]
    },
    {
      "cell_type": "code",
      "execution_count": null,
      "metadata": {
        "colab": {
          "base_uri": "https://localhost:8080/"
        },
        "id": "urvx39trdSiP",
        "outputId": "718bb971-2795-4009-e49b-5b6641a5510f"
      },
      "outputs": [],
      "source": [
        "model.compile(optimizer='adam', loss=losses.sparse_categorical_crossentropy, metrics=['accuracy'])\n",
        "history = model.fit(data_train_CNN, label_train, batch_size=64, epochs=40, validation_data=(data_test_CNN, label_test))"
      ]
    },
    {
      "cell_type": "code",
      "execution_count": null,
      "metadata": {
        "colab": {
          "base_uri": "https://localhost:8080/"
        },
        "id": "61P3J8dpQWOs",
        "outputId": "39433ac5-4622-4835-ed37-68c748ce3552"
      },
      "outputs": [],
      "source": [
        "fig, axs = plt.subplots(2, 1, figsize=(15,15))\n",
        "\n",
        "axs[0].plot(history.history['loss'])\n",
        "axs[0].plot(history.history['val_loss'])\n",
        "axs[0].title.set_text('Training Loss vs Validation Loss')\n",
        "axs[0].legend(['Train', 'Val'])\n",
        "\n",
        "axs[1].plot(history.history['accuracy'])\n",
        "axs[1].plot(history.history['val_accuracy'])\n",
        "axs[1].title.set_text('Training Accuracy vs Validation Accuracy')\n",
        "axs[1].legend(['Train', 'Val'])"
      ]
    },
    {
      "cell_type": "code",
      "execution_count": null,
      "metadata": {
        "colab": {
          "base_uri": "https://localhost:8080/"
        },
        "id": "_7tnJbJgdSiP",
        "outputId": "4662eecb-f5e7-4478-92cb-ba3cd7a7da2c"
      },
      "outputs": [],
      "source": [
        "model.evaluate(data_test_CNN, label_test)"
      ]
    },
    {
      "cell_type": "markdown",
      "metadata": {
        "id": "OZv4lTGbdSiP"
      },
      "source": [
        "Same Architecture changing activation functions"
      ]
    },
    {
      "cell_type": "code",
      "execution_count": null,
      "metadata": {
        "id": "vrWloWEzdSiP",
        "outputId": "adeb27fa-7dda-4481-9bc7-0dd51bcf2d81"
      },
      "outputs": [],
      "source": [
        "model = models.Sequential()\n",
        "model.add(layers.Conv2D(6, 5, activation='relu', input_shape=data_train_CNN.shape[1:]))\n",
        "model.add(layers.AveragePooling2D(2))\n",
        "model.add(layers.Activation('relu'))\n",
        "model.add(layers.Conv2D(16, 5, activation='relu'))\n",
        "model.add(layers.AveragePooling2D(2))\n",
        "model.add(layers.Activation('relu'))\n",
        "model.add(layers.Conv2D(120, 5, activation='relu'))\n",
        "model.add(layers.Flatten())\n",
        "model.add(layers.Dense(84, activation='relu'))\n",
        "model.add(layers.Dense(10, activation='softmax'))\n",
        "model.summary()"
      ]
    },
    {
      "cell_type": "code",
      "execution_count": null,
      "metadata": {
        "id": "vMEIHnIUdSiP",
        "outputId": "5a45c040-29b7-41ba-fba5-c99882732f29"
      },
      "outputs": [],
      "source": [
        "model.compile(optimizer='adam', loss=losses.sparse_categorical_crossentropy, metrics=['accuracy'])\n",
        "history = model.fit(data_train_CNN, label_train, batch_size=64, epochs=40, validation_data=(data_test_CNN, label_test))"
      ]
    },
    {
      "cell_type": "code",
      "execution_count": null,
      "metadata": {
        "id": "sAqgH_JSdSiQ",
        "outputId": "2d824167-d0a6-4c4c-d148-1b0fe50903ea"
      },
      "outputs": [],
      "source": [
        "model.evaluate(data_test_CNN, label_test)"
      ]
    },
    {
      "cell_type": "code",
      "execution_count": null,
      "metadata": {
        "colab": {
          "base_uri": "https://localhost:8080/"
        },
        "id": "ge5vC94BnhNI",
        "outputId": "39433ac5-4622-4835-ed37-68c748ce3552"
      },
      "outputs": [],
      "source": [
        "fig, axs = plt.subplots(2, 1, figsize=(15,15))\n",
        "\n",
        "axs[0].plot(history.history['loss'])\n",
        "axs[0].plot(history.history['val_loss'])\n",
        "axs[0].title.set_text('Training Loss vs Validation Loss')\n",
        "axs[0].legend(['Train', 'Val'])\n",
        "\n",
        "axs[1].plot(history.history['accuracy'])\n",
        "axs[1].plot(history.history['val_accuracy'])\n",
        "axs[1].title.set_text('Training Accuracy vs Validation Accuracy')\n",
        "axs[1].legend(['Train', 'Val'])"
      ]
    },
    {
      "cell_type": "markdown",
      "metadata": {
        "id": "9qbSxhuVdSiQ"
      },
      "source": [
        "Changing Kernel Size"
      ]
    },
    {
      "cell_type": "code",
      "execution_count": null,
      "metadata": {
        "id": "FqtzNJu4dSiQ",
        "outputId": "77643dd9-46ff-4d7f-e98b-45e90fd0b431"
      },
      "outputs": [],
      "source": [
        "model = models.Sequential()\n",
        "model.add(layers.Conv2D(6, 3, activation='relu', input_shape=data_train_CNN.shape[1:]))\n",
        "model.add(layers.Conv2D(6, 3, activation='relu', input_shape=data_train_CNN.shape[1:]))\n",
        "model.add(layers.AveragePooling2D(2))\n",
        "model.add(layers.Activation('relu'))\n",
        "model.add(layers.Conv2D(16, 3, activation='relu'))\n",
        "model.add(layers.Conv2D(16, 3, activation='relu'))\n",
        "model.add(layers.AveragePooling2D(2))\n",
        "model.add(layers.Activation('relu'))\n",
        "model.add(layers.Conv2D(120, 3, activation='relu'))\n",
        "model.add(layers.Conv2D(120, 3, activation='relu'))\n",
        "model.add(layers.Flatten())\n",
        "model.add(layers.Dense(84, activation='relu'))\n",
        "model.add(layers.Dense(10, activation='softmax'))\n",
        "model.summary()\n"
      ]
    },
    {
      "cell_type": "code",
      "execution_count": null,
      "metadata": {
        "id": "-hGuoZ5BdSiQ",
        "outputId": "b233fe07-dedd-4c71-da10-a55aadbd81e3"
      },
      "outputs": [],
      "source": [
        "model.compile(optimizer='adam', loss=losses.sparse_categorical_crossentropy, metrics=['accuracy'])\n",
        "history = model.fit(data_train_CNN, label_train, batch_size=64, epochs=40, validation_data=(data_test_CNN, label_test))"
      ]
    },
    {
      "cell_type": "code",
      "execution_count": null,
      "metadata": {
        "id": "NPqpFifQdSiQ",
        "outputId": "44ea9ccd-22df-42fc-c1b6-f9b32450c184"
      },
      "outputs": [],
      "source": [
        "model.evaluate(data_test_CNN, label_test)"
      ]
    },
    {
      "cell_type": "code",
      "execution_count": null,
      "metadata": {
        "colab": {
          "base_uri": "https://localhost:8080/"
        },
        "id": "G7FdERbCni44",
        "outputId": "39433ac5-4622-4835-ed37-68c748ce3552"
      },
      "outputs": [],
      "source": [
        "fig, axs = plt.subplots(2, 1, figsize=(15,15))\n",
        "\n",
        "axs[0].plot(history.history['loss'])\n",
        "axs[0].plot(history.history['val_loss'])\n",
        "axs[0].title.set_text('Training Loss vs Validation Loss')\n",
        "axs[0].legend(['Train', 'Val'])\n",
        "\n",
        "axs[1].plot(history.history['accuracy'])\n",
        "axs[1].plot(history.history['val_accuracy'])\n",
        "axs[1].title.set_text('Training Accuracy vs Validation Accuracy')\n",
        "axs[1].legend(['Train', 'Val'])"
      ]
    },
    {
      "cell_type": "markdown",
      "metadata": {
        "id": "7fmglxBCdSiR"
      },
      "source": [
        "MSE is not good for classification. Non-convex"
      ]
    },
    {
      "cell_type": "code",
      "execution_count": null,
      "metadata": {
        "id": "WowMgrJGdSiR",
        "outputId": "76aea4bb-084a-4273-99d4-d54f47a88565"
      },
      "outputs": [],
      "source": [
        "model = models.Sequential()\n",
        "model.add(layers.Conv2D(6, 3, activation='relu', input_shape=data_train_CNN.shape[1:]))\n",
        "model.add(layers.Conv2D(6, 3, activation='relu', input_shape=data_train_CNN.shape[1:]))\n",
        "model.add(layers.AveragePooling2D(2))\n",
        "model.add(layers.Activation('relu'))\n",
        "model.add(layers.Conv2D(16, 3, activation='relu'))\n",
        "model.add(layers.Conv2D(16, 3, activation='relu'))\n",
        "model.add(layers.AveragePooling2D(2))\n",
        "model.add(layers.Activation('relu'))\n",
        "model.add(layers.Conv2D(120, 3, activation='relu'))\n",
        "model.add(layers.Conv2D(120, 3, activation='relu'))\n",
        "model.add(layers.Flatten())\n",
        "model.add(layers.Dense(84, activation='relu'))\n",
        "model.add(layers.Dense(10, activation='sigmoid'))\n",
        "model.summary()\n"
      ]
    },
    {
      "cell_type": "code",
      "execution_count": null,
      "metadata": {
        "id": "NcVaE5GFdSiR",
        "outputId": "71be9187-1e14-49c6-94ee-cf1313dc765b"
      },
      "outputs": [],
      "source": [
        "model.compile(loss='mse',optimizer='adam', metrics=['accuracy'])\n",
        "history = model.fit(data_train_CNN, label_train, batch_size=64, epochs=40, validation_data=(data_test_CNN, label_test))"
      ]
    },
    {
      "cell_type": "code",
      "execution_count": null,
      "metadata": {
        "id": "rhSyHQqjdSiR",
        "outputId": "f16ebe19-e6d2-47d2-fa28-ecdec75e3f81"
      },
      "outputs": [],
      "source": [
        "model.evaluate(data_test_CNN, label_test)"
      ]
    },
    {
      "cell_type": "code",
      "execution_count": null,
      "metadata": {
        "colab": {
          "base_uri": "https://localhost:8080/"
        },
        "id": "F24kFgyTnkGq",
        "outputId": "39433ac5-4622-4835-ed37-68c748ce3552"
      },
      "outputs": [],
      "source": [
        "fig, axs = plt.subplots(2, 1, figsize=(15,15))\n",
        "\n",
        "axs[0].plot(history.history['loss'])\n",
        "axs[0].plot(history.history['val_loss'])\n",
        "axs[0].title.set_text('Training Loss vs Validation Loss')\n",
        "axs[0].legend(['Train', 'Val'])\n",
        "\n",
        "axs[1].plot(history.history['accuracy'])\n",
        "axs[1].plot(history.history['val_accuracy'])\n",
        "axs[1].title.set_text('Training Accuracy vs Validation Accuracy')\n",
        "axs[1].legend(['Train', 'Val'])"
      ]
    },
    {
      "cell_type": "markdown",
      "metadata": {
        "id": "cJeKgtBEdSiR"
      },
      "source": [
        "More tuning"
      ]
    },
    {
      "cell_type": "code",
      "execution_count": null,
      "metadata": {
        "id": "_jDXpi6wdSiR",
        "outputId": "32b3a40c-6a39-48ef-986c-5cc9661f02ef"
      },
      "outputs": [],
      "source": [
        "model = models.Sequential()\n",
        "model.add(layers.Conv2D(32,3, activation='relu', input_shape=data_train_CNN.shape[1:]))\n",
        "model.add(layers.MaxPooling2D(2,strides=(2,2)))\n",
        "model.add(layers.Conv2D(64, 3, activation='relu'))\n",
        "model.add(layers.MaxPooling2D(2,strides=(2,2)))\n",
        "model.add(layers.Flatten())\n",
        "model.add(layers.Dense(128,input_shape=(3136,), activation=None))\n",
        "model.add(layers.Dense(10, input_shape=(128,), activation=None))\n",
        "model.summary()\n"
      ]
    },
    {
      "cell_type": "code",
      "execution_count": null,
      "metadata": {
        "id": "NaBOJsivdSiS",
        "outputId": "6f659c49-a422-49a6-b173-51421b0862d1"
      },
      "outputs": [],
      "source": [
        "model.compile(optimizer='adam', loss=losses.sparse_categorical_crossentropy, metrics=['accuracy'])\n",
        "history = model.fit(data_train_CNN, label_train, batch_size=64, epochs=40, validation_data=(data_test_CNN, label_test))"
      ]
    },
    {
      "cell_type": "code",
      "execution_count": null,
      "metadata": {
        "id": "aFnWTuyVdSiS",
        "outputId": "222ca459-789e-4b50-fb01-f67321d2533e"
      },
      "outputs": [],
      "source": [
        "model.evaluate(data_test_CNN, label_test)"
      ]
    },
    {
      "cell_type": "code",
      "execution_count": null,
      "metadata": {
        "colab": {
          "base_uri": "https://localhost:8080/"
        },
        "id": "JOEpvOPEnnXO",
        "outputId": "39433ac5-4622-4835-ed37-68c748ce3552"
      },
      "outputs": [],
      "source": [
        "fig, axs = plt.subplots(2, 1, figsize=(15,15))\n",
        "\n",
        "axs[0].plot(history.history['loss'])\n",
        "axs[0].plot(history.history['val_loss'])\n",
        "axs[0].title.set_text('Training Loss vs Validation Loss')\n",
        "axs[0].legend(['Train', 'Val'])\n",
        "\n",
        "axs[1].plot(history.history['accuracy'])\n",
        "axs[1].plot(history.history['val_accuracy'])\n",
        "axs[1].title.set_text('Training Accuracy vs Validation Accuracy')\n",
        "axs[1].legend(['Train', 'Val'])"
      ]
    },
    {
      "cell_type": "code",
      "execution_count": null,
      "metadata": {
        "id": "ciKvgbaVFkV4"
      },
      "outputs": [],
      "source": [
        "data_train_unpadded=(data_train/255)\n",
        "data_test_unpadded=(data_test/255)"
      ]
    },
    {
      "cell_type": "code",
      "execution_count": null,
      "metadata": {
        "id": "isPkjqT7GGYd"
      },
      "outputs": [],
      "source": [
        "data_train_CNN_Le1 = tf.expand_dims(data_train_unpadded, axis=3, name=None)\n",
        "data_test_CNN_Le1 = tf.expand_dims(data_test_unpadded, axis=3, name=None)"
      ]
    },
    {
      "cell_type": "code",
      "execution_count": null,
      "metadata": {
        "colab": {
          "base_uri": "https://localhost:8080/"
        },
        "id": "_KuLydhZEjNx",
        "outputId": "3bb464eb-f244-41b1-8371-d3bf4f219ee3"
      },
      "outputs": [],
      "source": [
        "#Lenet 1\n",
        "model = models.Sequential()\n",
        "model.add(layers.Conv2D(4, 5, activation='tanh', input_shape=data_train_CNN_Le1.shape[1:]))\n",
        "model.add(layers.AveragePooling2D(2))\n",
        "model.add(layers.Activation('sigmoid'))\n",
        "model.add(layers.Conv2D(12, 5, activation='tanh'))\n",
        "model.add(layers.AveragePooling2D(2))\n",
        "model.add(layers.Activation('sigmoid'))\n",
        "model.add(layers.Flatten())\n",
        "model.add(layers.Dense(10, activation='softmax'))\n",
        "model.summary()"
      ]
    },
    {
      "cell_type": "code",
      "execution_count": null,
      "metadata": {
        "colab": {
          "base_uri": "https://localhost:8080/"
        },
        "id": "rrNDdphLHHKF",
        "outputId": "3d092e51-a717-4ec1-af80-a58b66656d06"
      },
      "outputs": [],
      "source": [
        "model.compile(optimizer='adam', loss=losses.sparse_categorical_crossentropy, metrics=['accuracy'])\n",
        "history = model.fit(data_train_CNN_Le1, label_train, batch_size=64, epochs=40, validation_data=(data_test_CNN_Le1, label_test))"
      ]
    },
    {
      "cell_type": "code",
      "execution_count": null,
      "metadata": {
        "id": "Xm8G41YAHYnd"
      },
      "outputs": [],
      "source": [
        "model.evaluate(data_test_CNN_Le1, label_test)"
      ]
    },
    {
      "cell_type": "code",
      "execution_count": null,
      "metadata": {
        "colab": {
          "base_uri": "https://localhost:8080/"
        },
        "id": "tHZiXn5anqmb",
        "outputId": "39433ac5-4622-4835-ed37-68c748ce3552"
      },
      "outputs": [],
      "source": [
        "fig, axs = plt.subplots(2, 1, figsize=(15,15))\n",
        "\n",
        "axs[0].plot(history.history['loss'])\n",
        "axs[0].plot(history.history['val_loss'])\n",
        "axs[0].title.set_text('Training Loss vs Validation Loss')\n",
        "axs[0].legend(['Train', 'Val'])\n",
        "\n",
        "axs[1].plot(history.history['accuracy'])\n",
        "axs[1].plot(history.history['val_accuracy'])\n",
        "axs[1].title.set_text('Training Accuracy vs Validation Accuracy')\n",
        "axs[1].legend(['Train', 'Val'])"
      ]
    },
    {
      "cell_type": "markdown",
      "metadata": {
        "id": "Yjf8YKJbsXMi"
      },
      "source": [
        "Dropout in architecture"
      ]
    },
    {
      "cell_type": "code",
      "execution_count": null,
      "metadata": {
        "id": "vpXX1pUAsY80"
      },
      "outputs": [],
      "source": [
        "# Lenet 5\n",
        "\n",
        "model = models.Sequential()\n",
        "model.add(layers.Conv2D(6, 5, activation='tanh', input_shape=data_train_CNN.shape[1:]))\n",
        "model.add(layers.AveragePooling2D(2))\n",
        "model.add(layers.Activation('sigmoid'))\n",
        "model.add(layers.Conv2D(16, 5, activation='tanh'))\n",
        "model.add(layers.AveragePooling2D(2))\n",
        "model.add(layers.Activation('sigmoid'))\n",
        "model.add(layers.Conv2D(120, 5, activation='tanh'))\n",
        "model.add(layers.Flatten())\n",
        "model.add(layers.Dense(84, activation='tanh'))\n",
        "model.add(layers.Dense(10, activation='softmax'))\n",
        "model.summary()"
      ]
    },
    {
      "cell_type": "markdown",
      "metadata": {
        "id": "Y26G1tqffN1f"
      },
      "source": [
        "### Transfer Learning"
      ]
    },
    {
      "cell_type": "markdown",
      "metadata": {},
      "source": [
        "#### Data Loading and Preprocessing"
      ]
    },
    {
      "cell_type": "code",
      "execution_count": 3,
      "metadata": {
        "id": "PCQaTl63_-UU"
      },
      "outputs": [],
      "source": [
        "# Importing Dataset\n",
        "\n",
        "TRAIN_DIR = 'Transfer_Learning_Dataset/training/training'\n",
        "VAL_DIR = 'Transfer_Learning_Dataset/validation/validation'\n"
      ]
    },
    {
      "cell_type": "code",
      "execution_count": null,
      "metadata": {},
      "outputs": [],
      "source": [
        "img_width = 224 # determined by the pre-trained model\n",
        "img_height = 224 # determined by the pre-trained model\n",
        "batch_size = 32 # we could try other values if we were concerned about the training speed\n",
        "train_dataset_size = 1098\n",
        "val_dataset_size = 272\n",
        "number_classes = 10 # the dataset contains 10 different species"
      ]
    },
    {
      "cell_type": "code",
      "execution_count": null,
      "metadata": {},
      "outputs": [],
      "source": [
        "cols = ['Label','Latin Name', 'Common Name','Train Images', 'Validation Images']\n",
        "label_df = pd.read_csv(\"Transfer_Learning_Dataset/monkey_labels.txt\", names=cols, skiprows=1)\n",
        "label_df"
      ]
    },
    {
      "cell_type": "code",
      "execution_count": null,
      "metadata": {},
      "outputs": [],
      "source": [
        "labels = label_df['Common Name']\n",
        "labels"
      ]
    },
    {
      "cell_type": "code",
      "execution_count": 4,
      "metadata": {},
      "outputs": [
        {
          "name": "stdout",
          "output_type": "stream",
          "text": [
            "Found 1098 images belonging to 10 classes.\n",
            "Found 272 images belonging to 10 classes.\n"
          ]
        }
      ],
      "source": [
        "generate_train_data = ImageDataGenerator(rescale=1./255)\n",
        "train_generator = generate_train_data.flow_from_directory(TRAIN_DIR,target_size=(120,120),batch_size=32,class_mode='categorical') \n",
        "\n",
        "\n",
        "generate_test_data = ImageDataGenerator(rescale=1./255)\n",
        "test_generator = generate_test_data.flow_from_directory(VAL_DIR,target_size=(120,120),batch_size=32,class_mode='categorical') "
      ]
    },
    {
      "cell_type": "markdown",
      "metadata": {},
      "source": [
        "TASK 1"
      ]
    },
    {
      "cell_type": "code",
      "execution_count": 5,
      "metadata": {},
      "outputs": [],
      "source": [
        "early_stop = EarlyStopping(monitor='val_loss',patience=4)"
      ]
    },
    {
      "cell_type": "code",
      "execution_count": 6,
      "metadata": {},
      "outputs": [
        {
          "name": "stdout",
          "output_type": "stream",
          "text": [
            "Model: \"sequential\"\n",
            "_________________________________________________________________\n",
            " Layer (type)                Output Shape              Param #   \n",
            "=================================================================\n",
            " conv2d (Conv2D)             (None, 117, 117, 32)      1568      \n",
            "                                                                 \n",
            " max_pooling2d (MaxPooling2D  (None, 58, 58, 32)       0         \n",
            " )                                                               \n",
            "                                                                 \n",
            " conv2d_1 (Conv2D)           (None, 55, 55, 32)        16416     \n",
            "                                                                 \n",
            " max_pooling2d_1 (MaxPooling  (None, 27, 27, 32)       0         \n",
            " 2D)                                                             \n",
            "                                                                 \n",
            " flatten (Flatten)           (None, 23328)             0         \n",
            "                                                                 \n",
            " dense (Dense)               (None, 128)               2986112   \n",
            "                                                                 \n",
            " dense_1 (Dense)             (None, 10)                1290      \n",
            "                                                                 \n",
            "=================================================================\n",
            "Total params: 3,005,386\n",
            "Trainable params: 3,005,386\n",
            "Non-trainable params: 0\n",
            "_________________________________________________________________\n"
          ]
        },
        {
          "name": "stderr",
          "output_type": "stream",
          "text": [
            "2021-12-02 18:00:08.546537: I tensorflow/core/platform/cpu_feature_guard.cc:151] This TensorFlow binary is optimized with oneAPI Deep Neural Network Library (oneDNN) to use the following CPU instructions in performance-critical operations:  AVX2 FMA\n",
            "To enable them in other operations, rebuild TensorFlow with the appropriate compiler flags.\n"
          ]
        }
      ],
      "source": [
        "model =models.Sequential()\n",
        "model.add(layers.Conv2D(filters=32,kernel_size=(4,4),input_shape=(120,120,3),activation='relu'))\n",
        "model.add(layers.MaxPool2D(pool_size=(2,2)))\n",
        "model.add(layers.Conv2D(filters=32,kernel_size=(4,4),input_shape=(120,120,3),activation='relu'))\n",
        "model.add(layers.MaxPool2D(pool_size=(2,2)))\n",
        "model.add(layers.Flatten())\n",
        "model.add(layers.Dense(128,activation='relu'))\n",
        "model.add(layers.Dense(10,activation='softmax'))\n",
        "model.summary()"
      ]
    },
    {
      "cell_type": "code",
      "execution_count": 9,
      "metadata": {},
      "outputs": [
        {
          "name": "stdout",
          "output_type": "stream",
          "text": [
            "Epoch 1/10\n",
            "35/35 [==============================] - 35s 978ms/step - loss: 0.3962 - accuracy: 0.9144 - val_loss: 1.6656 - val_accuracy: 0.5735\n",
            "Epoch 2/10\n",
            "35/35 [==============================] - 32s 921ms/step - loss: 0.0457 - accuracy: 0.9863 - val_loss: 1.7840 - val_accuracy: 0.6140\n",
            "Epoch 3/10\n",
            "35/35 [==============================] - 34s 974ms/step - loss: 0.0107 - accuracy: 0.9991 - val_loss: 1.7888 - val_accuracy: 0.6213\n",
            "Epoch 4/10\n",
            "35/35 [==============================] - 36s 1s/step - loss: 0.0040 - accuracy: 1.0000 - val_loss: 1.8786 - val_accuracy: 0.6287\n",
            "Epoch 5/10\n",
            "35/35 [==============================] - 34s 972ms/step - loss: 0.0123 - accuracy: 0.9964 - val_loss: 1.8712 - val_accuracy: 0.6324\n",
            "Epoch 6/10\n",
            "35/35 [==============================] - 36s 1s/step - loss: 0.0540 - accuracy: 0.9909 - val_loss: 1.7944 - val_accuracy: 0.5956\n",
            "Epoch 7/10\n",
            "35/35 [==============================] - 36s 1s/step - loss: 0.0301 - accuracy: 0.9936 - val_loss: 1.9570 - val_accuracy: 0.5919\n",
            "Epoch 8/10\n",
            "35/35 [==============================] - 36s 1s/step - loss: 0.0088 - accuracy: 1.0000 - val_loss: 1.9759 - val_accuracy: 0.5919\n",
            "Epoch 9/10\n",
            "35/35 [==============================] - 37s 1s/step - loss: 0.0043 - accuracy: 1.0000 - val_loss: 2.0414 - val_accuracy: 0.6287\n",
            "Epoch 10/10\n",
            "35/35 [==============================] - 37s 1s/step - loss: 0.0010 - accuracy: 1.0000 - val_loss: 2.0991 - val_accuracy: 0.6213\n"
          ]
        },
        {
          "data": {
            "text/plain": [
              "<keras.callbacks.History at 0x7fd9e17a11c0>"
            ]
          },
          "execution_count": 9,
          "metadata": {},
          "output_type": "execute_result"
        }
      ],
      "source": [
        "model.compile(optimizer='adam', loss=losses.categorical_crossentropy, metrics=['accuracy'])\n",
        "model.fit(train_generator,validation_data=test_generator,epochs=10)"
      ]
    },
    {
      "cell_type": "code",
      "execution_count": 8,
      "metadata": {},
      "outputs": [
        {
          "name": "stdout",
          "output_type": "stream",
          "text": [
            "9/9 [==============================] - 6s 582ms/step - loss: 1.6275 - accuracy: 0.6250\n"
          ]
        },
        {
          "data": {
            "text/plain": [
              "[1.6275296211242676, 0.625]"
            ]
          },
          "execution_count": 8,
          "metadata": {},
          "output_type": "execute_result"
        }
      ],
      "source": [
        "model.evaluate(test_generator)"
      ]
    },
    {
      "cell_type": "code",
      "execution_count": null,
      "metadata": {},
      "outputs": [],
      "source": [
        "LABEL = 'n0'\n",
        "IMAGE = 'n0021.jpg'\n",
        "img = load_img(TRAIN_DIR+'/'+LABEL+'/'+IMAGE) # image loaded as PIL object\n",
        "_ = plt.imshow(img)"
      ]
    },
    {
      "cell_type": "markdown",
      "metadata": {},
      "source": [
        "TASK 2"
      ]
    },
    {
      "cell_type": "code",
      "execution_count": 75,
      "metadata": {},
      "outputs": [],
      "source": [
        "# If on MACOSX please refer to https://github.com/ageron/handson-ml/issues/46#issuecomment-311323613 to workaround the bug\n",
        "\n",
        "from keras.applications.inception_v3 import InceptionV3\n",
        "model=InceptionV3(weights='imagenet',include_top=False,input_shape=(299,299,3))"
      ]
    },
    {
      "cell_type": "code",
      "execution_count": 73,
      "metadata": {},
      "outputs": [
        {
          "name": "stdout",
          "output_type": "stream",
          "text": [
            "Found 1098 images belonging to 10 classes.\n",
            "Found 272 images belonging to 10 classes.\n"
          ]
        }
      ],
      "source": [
        "generate_train_data = ImageDataGenerator(rescale=1./255)\n",
        "train_generator = generate_train_data.flow_from_directory(TRAIN_DIR,target_size=(299,299),batch_size=32,class_mode='categorical') \n",
        "\n",
        "\n",
        "generate_test_data = ImageDataGenerator(rescale=1./255)\n",
        "test_generator = generate_test_data.flow_from_directory(VAL_DIR,target_size=(299,299),batch_size=32,class_mode='categorical') "
      ]
    },
    {
      "cell_type": "code",
      "execution_count": 76,
      "metadata": {},
      "outputs": [
        {
          "name": "stdout",
          "output_type": "stream",
          "text": [
            "Model: \"inception_v3\"\n",
            "__________________________________________________________________________________________________\n",
            " Layer (type)                   Output Shape         Param #     Connected to                     \n",
            "==================================================================================================\n",
            " input_25 (InputLayer)          [(None, 299, 299, 3  0           []                               \n",
            "                                )]                                                                \n",
            "                                                                                                  \n",
            " conv2d_754 (Conv2D)            (None, 149, 149, 32  864         ['input_25[0][0]']               \n",
            "                                )                                                                 \n",
            "                                                                                                  \n",
            " batch_normalization_752 (Batch  (None, 149, 149, 32  96         ['conv2d_754[0][0]']             \n",
            " Normalization)                 )                                                                 \n",
            "                                                                                                  \n",
            " activation_752 (Activation)    (None, 149, 149, 32  0           ['batch_normalization_752[0][0]']\n",
            "                                )                                                                 \n",
            "                                                                                                  \n",
            " conv2d_755 (Conv2D)            (None, 147, 147, 32  9216        ['activation_752[0][0]']         \n",
            "                                )                                                                 \n",
            "                                                                                                  \n",
            " batch_normalization_753 (Batch  (None, 147, 147, 32  96         ['conv2d_755[0][0]']             \n",
            " Normalization)                 )                                                                 \n",
            "                                                                                                  \n",
            " activation_753 (Activation)    (None, 147, 147, 32  0           ['batch_normalization_753[0][0]']\n",
            "                                )                                                                 \n",
            "                                                                                                  \n",
            " conv2d_756 (Conv2D)            (None, 147, 147, 64  18432       ['activation_753[0][0]']         \n",
            "                                )                                                                 \n",
            "                                                                                                  \n",
            " batch_normalization_754 (Batch  (None, 147, 147, 64  192        ['conv2d_756[0][0]']             \n",
            " Normalization)                 )                                                                 \n",
            "                                                                                                  \n",
            " activation_754 (Activation)    (None, 147, 147, 64  0           ['batch_normalization_754[0][0]']\n",
            "                                )                                                                 \n",
            "                                                                                                  \n",
            " max_pooling2d_34 (MaxPooling2D  (None, 73, 73, 64)  0           ['activation_754[0][0]']         \n",
            " )                                                                                                \n",
            "                                                                                                  \n",
            " conv2d_757 (Conv2D)            (None, 73, 73, 80)   5120        ['max_pooling2d_34[0][0]']       \n",
            "                                                                                                  \n",
            " batch_normalization_755 (Batch  (None, 73, 73, 80)  240         ['conv2d_757[0][0]']             \n",
            " Normalization)                                                                                   \n",
            "                                                                                                  \n",
            " activation_755 (Activation)    (None, 73, 73, 80)   0           ['batch_normalization_755[0][0]']\n",
            "                                                                                                  \n",
            " conv2d_758 (Conv2D)            (None, 71, 71, 192)  138240      ['activation_755[0][0]']         \n",
            "                                                                                                  \n",
            " batch_normalization_756 (Batch  (None, 71, 71, 192)  576        ['conv2d_758[0][0]']             \n",
            " Normalization)                                                                                   \n",
            "                                                                                                  \n",
            " activation_756 (Activation)    (None, 71, 71, 192)  0           ['batch_normalization_756[0][0]']\n",
            "                                                                                                  \n",
            " max_pooling2d_35 (MaxPooling2D  (None, 35, 35, 192)  0          ['activation_756[0][0]']         \n",
            " )                                                                                                \n",
            "                                                                                                  \n",
            " conv2d_762 (Conv2D)            (None, 35, 35, 64)   12288       ['max_pooling2d_35[0][0]']       \n",
            "                                                                                                  \n",
            " batch_normalization_760 (Batch  (None, 35, 35, 64)  192         ['conv2d_762[0][0]']             \n",
            " Normalization)                                                                                   \n",
            "                                                                                                  \n",
            " activation_760 (Activation)    (None, 35, 35, 64)   0           ['batch_normalization_760[0][0]']\n",
            "                                                                                                  \n",
            " conv2d_760 (Conv2D)            (None, 35, 35, 48)   9216        ['max_pooling2d_35[0][0]']       \n",
            "                                                                                                  \n",
            " conv2d_763 (Conv2D)            (None, 35, 35, 96)   55296       ['activation_760[0][0]']         \n",
            "                                                                                                  \n",
            " batch_normalization_758 (Batch  (None, 35, 35, 48)  144         ['conv2d_760[0][0]']             \n",
            " Normalization)                                                                                   \n",
            "                                                                                                  \n",
            " batch_normalization_761 (Batch  (None, 35, 35, 96)  288         ['conv2d_763[0][0]']             \n",
            " Normalization)                                                                                   \n",
            "                                                                                                  \n",
            " activation_758 (Activation)    (None, 35, 35, 48)   0           ['batch_normalization_758[0][0]']\n",
            "                                                                                                  \n",
            " activation_761 (Activation)    (None, 35, 35, 96)   0           ['batch_normalization_761[0][0]']\n",
            "                                                                                                  \n",
            " average_pooling2d_72 (AverageP  (None, 35, 35, 192)  0          ['max_pooling2d_35[0][0]']       \n",
            " ooling2D)                                                                                        \n",
            "                                                                                                  \n",
            " conv2d_759 (Conv2D)            (None, 35, 35, 64)   12288       ['max_pooling2d_35[0][0]']       \n",
            "                                                                                                  \n",
            " conv2d_761 (Conv2D)            (None, 35, 35, 64)   76800       ['activation_758[0][0]']         \n",
            "                                                                                                  \n",
            " conv2d_764 (Conv2D)            (None, 35, 35, 96)   82944       ['activation_761[0][0]']         \n",
            "                                                                                                  \n",
            " conv2d_765 (Conv2D)            (None, 35, 35, 32)   6144        ['average_pooling2d_72[0][0]']   \n",
            "                                                                                                  \n",
            " batch_normalization_757 (Batch  (None, 35, 35, 64)  192         ['conv2d_759[0][0]']             \n",
            " Normalization)                                                                                   \n",
            "                                                                                                  \n",
            " batch_normalization_759 (Batch  (None, 35, 35, 64)  192         ['conv2d_761[0][0]']             \n",
            " Normalization)                                                                                   \n",
            "                                                                                                  \n",
            " batch_normalization_762 (Batch  (None, 35, 35, 96)  288         ['conv2d_764[0][0]']             \n",
            " Normalization)                                                                                   \n",
            "                                                                                                  \n",
            " batch_normalization_763 (Batch  (None, 35, 35, 32)  96          ['conv2d_765[0][0]']             \n",
            " Normalization)                                                                                   \n",
            "                                                                                                  \n",
            " activation_757 (Activation)    (None, 35, 35, 64)   0           ['batch_normalization_757[0][0]']\n",
            "                                                                                                  \n",
            " activation_759 (Activation)    (None, 35, 35, 64)   0           ['batch_normalization_759[0][0]']\n",
            "                                                                                                  \n",
            " activation_762 (Activation)    (None, 35, 35, 96)   0           ['batch_normalization_762[0][0]']\n",
            "                                                                                                  \n",
            " activation_763 (Activation)    (None, 35, 35, 32)   0           ['batch_normalization_763[0][0]']\n",
            "                                                                                                  \n",
            " mixed0 (Concatenate)           (None, 35, 35, 256)  0           ['activation_757[0][0]',         \n",
            "                                                                  'activation_759[0][0]',         \n",
            "                                                                  'activation_762[0][0]',         \n",
            "                                                                  'activation_763[0][0]']         \n",
            "                                                                                                  \n",
            " conv2d_769 (Conv2D)            (None, 35, 35, 64)   16384       ['mixed0[0][0]']                 \n",
            "                                                                                                  \n",
            " batch_normalization_767 (Batch  (None, 35, 35, 64)  192         ['conv2d_769[0][0]']             \n",
            " Normalization)                                                                                   \n",
            "                                                                                                  \n",
            " activation_767 (Activation)    (None, 35, 35, 64)   0           ['batch_normalization_767[0][0]']\n",
            "                                                                                                  \n",
            " conv2d_767 (Conv2D)            (None, 35, 35, 48)   12288       ['mixed0[0][0]']                 \n",
            "                                                                                                  \n",
            " conv2d_770 (Conv2D)            (None, 35, 35, 96)   55296       ['activation_767[0][0]']         \n",
            "                                                                                                  \n",
            " batch_normalization_765 (Batch  (None, 35, 35, 48)  144         ['conv2d_767[0][0]']             \n",
            " Normalization)                                                                                   \n",
            "                                                                                                  \n",
            " batch_normalization_768 (Batch  (None, 35, 35, 96)  288         ['conv2d_770[0][0]']             \n",
            " Normalization)                                                                                   \n",
            "                                                                                                  \n",
            " activation_765 (Activation)    (None, 35, 35, 48)   0           ['batch_normalization_765[0][0]']\n",
            "                                                                                                  \n",
            " activation_768 (Activation)    (None, 35, 35, 96)   0           ['batch_normalization_768[0][0]']\n",
            "                                                                                                  \n",
            " average_pooling2d_73 (AverageP  (None, 35, 35, 256)  0          ['mixed0[0][0]']                 \n",
            " ooling2D)                                                                                        \n",
            "                                                                                                  \n",
            " conv2d_766 (Conv2D)            (None, 35, 35, 64)   16384       ['mixed0[0][0]']                 \n",
            "                                                                                                  \n",
            " conv2d_768 (Conv2D)            (None, 35, 35, 64)   76800       ['activation_765[0][0]']         \n",
            "                                                                                                  \n",
            " conv2d_771 (Conv2D)            (None, 35, 35, 96)   82944       ['activation_768[0][0]']         \n",
            "                                                                                                  \n",
            " conv2d_772 (Conv2D)            (None, 35, 35, 64)   16384       ['average_pooling2d_73[0][0]']   \n",
            "                                                                                                  \n",
            " batch_normalization_764 (Batch  (None, 35, 35, 64)  192         ['conv2d_766[0][0]']             \n",
            " Normalization)                                                                                   \n",
            "                                                                                                  \n",
            " batch_normalization_766 (Batch  (None, 35, 35, 64)  192         ['conv2d_768[0][0]']             \n",
            " Normalization)                                                                                   \n",
            "                                                                                                  \n",
            " batch_normalization_769 (Batch  (None, 35, 35, 96)  288         ['conv2d_771[0][0]']             \n",
            " Normalization)                                                                                   \n",
            "                                                                                                  \n",
            " batch_normalization_770 (Batch  (None, 35, 35, 64)  192         ['conv2d_772[0][0]']             \n",
            " Normalization)                                                                                   \n",
            "                                                                                                  \n",
            " activation_764 (Activation)    (None, 35, 35, 64)   0           ['batch_normalization_764[0][0]']\n",
            "                                                                                                  \n",
            " activation_766 (Activation)    (None, 35, 35, 64)   0           ['batch_normalization_766[0][0]']\n",
            "                                                                                                  \n",
            " activation_769 (Activation)    (None, 35, 35, 96)   0           ['batch_normalization_769[0][0]']\n",
            "                                                                                                  \n",
            " activation_770 (Activation)    (None, 35, 35, 64)   0           ['batch_normalization_770[0][0]']\n",
            "                                                                                                  \n",
            " mixed1 (Concatenate)           (None, 35, 35, 288)  0           ['activation_764[0][0]',         \n",
            "                                                                  'activation_766[0][0]',         \n",
            "                                                                  'activation_769[0][0]',         \n",
            "                                                                  'activation_770[0][0]']         \n",
            "                                                                                                  \n",
            " conv2d_776 (Conv2D)            (None, 35, 35, 64)   18432       ['mixed1[0][0]']                 \n",
            "                                                                                                  \n",
            " batch_normalization_774 (Batch  (None, 35, 35, 64)  192         ['conv2d_776[0][0]']             \n",
            " Normalization)                                                                                   \n",
            "                                                                                                  \n",
            " activation_774 (Activation)    (None, 35, 35, 64)   0           ['batch_normalization_774[0][0]']\n",
            "                                                                                                  \n",
            " conv2d_774 (Conv2D)            (None, 35, 35, 48)   13824       ['mixed1[0][0]']                 \n",
            "                                                                                                  \n",
            " conv2d_777 (Conv2D)            (None, 35, 35, 96)   55296       ['activation_774[0][0]']         \n",
            "                                                                                                  \n",
            " batch_normalization_772 (Batch  (None, 35, 35, 48)  144         ['conv2d_774[0][0]']             \n",
            " Normalization)                                                                                   \n",
            "                                                                                                  \n",
            " batch_normalization_775 (Batch  (None, 35, 35, 96)  288         ['conv2d_777[0][0]']             \n",
            " Normalization)                                                                                   \n",
            "                                                                                                  \n",
            " activation_772 (Activation)    (None, 35, 35, 48)   0           ['batch_normalization_772[0][0]']\n",
            "                                                                                                  \n",
            " activation_775 (Activation)    (None, 35, 35, 96)   0           ['batch_normalization_775[0][0]']\n",
            "                                                                                                  \n",
            " average_pooling2d_74 (AverageP  (None, 35, 35, 288)  0          ['mixed1[0][0]']                 \n",
            " ooling2D)                                                                                        \n",
            "                                                                                                  \n",
            " conv2d_773 (Conv2D)            (None, 35, 35, 64)   18432       ['mixed1[0][0]']                 \n",
            "                                                                                                  \n",
            " conv2d_775 (Conv2D)            (None, 35, 35, 64)   76800       ['activation_772[0][0]']         \n",
            "                                                                                                  \n",
            " conv2d_778 (Conv2D)            (None, 35, 35, 96)   82944       ['activation_775[0][0]']         \n",
            "                                                                                                  \n",
            " conv2d_779 (Conv2D)            (None, 35, 35, 64)   18432       ['average_pooling2d_74[0][0]']   \n",
            "                                                                                                  \n",
            " batch_normalization_771 (Batch  (None, 35, 35, 64)  192         ['conv2d_773[0][0]']             \n",
            " Normalization)                                                                                   \n",
            "                                                                                                  \n",
            " batch_normalization_773 (Batch  (None, 35, 35, 64)  192         ['conv2d_775[0][0]']             \n",
            " Normalization)                                                                                   \n",
            "                                                                                                  \n",
            " batch_normalization_776 (Batch  (None, 35, 35, 96)  288         ['conv2d_778[0][0]']             \n",
            " Normalization)                                                                                   \n",
            "                                                                                                  \n",
            " batch_normalization_777 (Batch  (None, 35, 35, 64)  192         ['conv2d_779[0][0]']             \n",
            " Normalization)                                                                                   \n",
            "                                                                                                  \n",
            " activation_771 (Activation)    (None, 35, 35, 64)   0           ['batch_normalization_771[0][0]']\n",
            "                                                                                                  \n",
            " activation_773 (Activation)    (None, 35, 35, 64)   0           ['batch_normalization_773[0][0]']\n",
            "                                                                                                  \n",
            " activation_776 (Activation)    (None, 35, 35, 96)   0           ['batch_normalization_776[0][0]']\n",
            "                                                                                                  \n",
            " activation_777 (Activation)    (None, 35, 35, 64)   0           ['batch_normalization_777[0][0]']\n",
            "                                                                                                  \n",
            " mixed2 (Concatenate)           (None, 35, 35, 288)  0           ['activation_771[0][0]',         \n",
            "                                                                  'activation_773[0][0]',         \n",
            "                                                                  'activation_776[0][0]',         \n",
            "                                                                  'activation_777[0][0]']         \n",
            "                                                                                                  \n",
            " conv2d_781 (Conv2D)            (None, 35, 35, 64)   18432       ['mixed2[0][0]']                 \n",
            "                                                                                                  \n",
            " batch_normalization_779 (Batch  (None, 35, 35, 64)  192         ['conv2d_781[0][0]']             \n",
            " Normalization)                                                                                   \n",
            "                                                                                                  \n",
            " activation_779 (Activation)    (None, 35, 35, 64)   0           ['batch_normalization_779[0][0]']\n",
            "                                                                                                  \n",
            " conv2d_782 (Conv2D)            (None, 35, 35, 96)   55296       ['activation_779[0][0]']         \n",
            "                                                                                                  \n",
            " batch_normalization_780 (Batch  (None, 35, 35, 96)  288         ['conv2d_782[0][0]']             \n",
            " Normalization)                                                                                   \n",
            "                                                                                                  \n",
            " activation_780 (Activation)    (None, 35, 35, 96)   0           ['batch_normalization_780[0][0]']\n",
            "                                                                                                  \n",
            " conv2d_780 (Conv2D)            (None, 17, 17, 384)  995328      ['mixed2[0][0]']                 \n",
            "                                                                                                  \n",
            " conv2d_783 (Conv2D)            (None, 17, 17, 96)   82944       ['activation_780[0][0]']         \n",
            "                                                                                                  \n",
            " batch_normalization_778 (Batch  (None, 17, 17, 384)  1152       ['conv2d_780[0][0]']             \n",
            " Normalization)                                                                                   \n",
            "                                                                                                  \n",
            " batch_normalization_781 (Batch  (None, 17, 17, 96)  288         ['conv2d_783[0][0]']             \n",
            " Normalization)                                                                                   \n",
            "                                                                                                  \n",
            " activation_778 (Activation)    (None, 17, 17, 384)  0           ['batch_normalization_778[0][0]']\n",
            "                                                                                                  \n",
            " activation_781 (Activation)    (None, 17, 17, 96)   0           ['batch_normalization_781[0][0]']\n",
            "                                                                                                  \n",
            " max_pooling2d_36 (MaxPooling2D  (None, 17, 17, 288)  0          ['mixed2[0][0]']                 \n",
            " )                                                                                                \n",
            "                                                                                                  \n",
            " mixed3 (Concatenate)           (None, 17, 17, 768)  0           ['activation_778[0][0]',         \n",
            "                                                                  'activation_781[0][0]',         \n",
            "                                                                  'max_pooling2d_36[0][0]']       \n",
            "                                                                                                  \n",
            " conv2d_788 (Conv2D)            (None, 17, 17, 128)  98304       ['mixed3[0][0]']                 \n",
            "                                                                                                  \n",
            " batch_normalization_786 (Batch  (None, 17, 17, 128)  384        ['conv2d_788[0][0]']             \n",
            " Normalization)                                                                                   \n",
            "                                                                                                  \n",
            " activation_786 (Activation)    (None, 17, 17, 128)  0           ['batch_normalization_786[0][0]']\n",
            "                                                                                                  \n",
            " conv2d_789 (Conv2D)            (None, 17, 17, 128)  114688      ['activation_786[0][0]']         \n",
            "                                                                                                  \n",
            " batch_normalization_787 (Batch  (None, 17, 17, 128)  384        ['conv2d_789[0][0]']             \n",
            " Normalization)                                                                                   \n",
            "                                                                                                  \n",
            " activation_787 (Activation)    (None, 17, 17, 128)  0           ['batch_normalization_787[0][0]']\n",
            "                                                                                                  \n",
            " conv2d_785 (Conv2D)            (None, 17, 17, 128)  98304       ['mixed3[0][0]']                 \n",
            "                                                                                                  \n",
            " conv2d_790 (Conv2D)            (None, 17, 17, 128)  114688      ['activation_787[0][0]']         \n",
            "                                                                                                  \n",
            " batch_normalization_783 (Batch  (None, 17, 17, 128)  384        ['conv2d_785[0][0]']             \n",
            " Normalization)                                                                                   \n",
            "                                                                                                  \n",
            " batch_normalization_788 (Batch  (None, 17, 17, 128)  384        ['conv2d_790[0][0]']             \n",
            " Normalization)                                                                                   \n",
            "                                                                                                  \n",
            " activation_783 (Activation)    (None, 17, 17, 128)  0           ['batch_normalization_783[0][0]']\n",
            "                                                                                                  \n",
            " activation_788 (Activation)    (None, 17, 17, 128)  0           ['batch_normalization_788[0][0]']\n",
            "                                                                                                  \n",
            " conv2d_786 (Conv2D)            (None, 17, 17, 128)  114688      ['activation_783[0][0]']         \n",
            "                                                                                                  \n",
            " conv2d_791 (Conv2D)            (None, 17, 17, 128)  114688      ['activation_788[0][0]']         \n",
            "                                                                                                  \n",
            " batch_normalization_784 (Batch  (None, 17, 17, 128)  384        ['conv2d_786[0][0]']             \n",
            " Normalization)                                                                                   \n",
            "                                                                                                  \n",
            " batch_normalization_789 (Batch  (None, 17, 17, 128)  384        ['conv2d_791[0][0]']             \n",
            " Normalization)                                                                                   \n",
            "                                                                                                  \n",
            " activation_784 (Activation)    (None, 17, 17, 128)  0           ['batch_normalization_784[0][0]']\n",
            "                                                                                                  \n",
            " activation_789 (Activation)    (None, 17, 17, 128)  0           ['batch_normalization_789[0][0]']\n",
            "                                                                                                  \n",
            " average_pooling2d_75 (AverageP  (None, 17, 17, 768)  0          ['mixed3[0][0]']                 \n",
            " ooling2D)                                                                                        \n",
            "                                                                                                  \n",
            " conv2d_784 (Conv2D)            (None, 17, 17, 192)  147456      ['mixed3[0][0]']                 \n",
            "                                                                                                  \n",
            " conv2d_787 (Conv2D)            (None, 17, 17, 192)  172032      ['activation_784[0][0]']         \n",
            "                                                                                                  \n",
            " conv2d_792 (Conv2D)            (None, 17, 17, 192)  172032      ['activation_789[0][0]']         \n",
            "                                                                                                  \n",
            " conv2d_793 (Conv2D)            (None, 17, 17, 192)  147456      ['average_pooling2d_75[0][0]']   \n",
            "                                                                                                  \n",
            " batch_normalization_782 (Batch  (None, 17, 17, 192)  576        ['conv2d_784[0][0]']             \n",
            " Normalization)                                                                                   \n",
            "                                                                                                  \n",
            " batch_normalization_785 (Batch  (None, 17, 17, 192)  576        ['conv2d_787[0][0]']             \n",
            " Normalization)                                                                                   \n",
            "                                                                                                  \n",
            " batch_normalization_790 (Batch  (None, 17, 17, 192)  576        ['conv2d_792[0][0]']             \n",
            " Normalization)                                                                                   \n",
            "                                                                                                  \n",
            " batch_normalization_791 (Batch  (None, 17, 17, 192)  576        ['conv2d_793[0][0]']             \n",
            " Normalization)                                                                                   \n",
            "                                                                                                  \n",
            " activation_782 (Activation)    (None, 17, 17, 192)  0           ['batch_normalization_782[0][0]']\n",
            "                                                                                                  \n",
            " activation_785 (Activation)    (None, 17, 17, 192)  0           ['batch_normalization_785[0][0]']\n",
            "                                                                                                  \n",
            " activation_790 (Activation)    (None, 17, 17, 192)  0           ['batch_normalization_790[0][0]']\n",
            "                                                                                                  \n",
            " activation_791 (Activation)    (None, 17, 17, 192)  0           ['batch_normalization_791[0][0]']\n",
            "                                                                                                  \n",
            " mixed4 (Concatenate)           (None, 17, 17, 768)  0           ['activation_782[0][0]',         \n",
            "                                                                  'activation_785[0][0]',         \n",
            "                                                                  'activation_790[0][0]',         \n",
            "                                                                  'activation_791[0][0]']         \n",
            "                                                                                                  \n",
            " conv2d_798 (Conv2D)            (None, 17, 17, 160)  122880      ['mixed4[0][0]']                 \n",
            "                                                                                                  \n",
            " batch_normalization_796 (Batch  (None, 17, 17, 160)  480        ['conv2d_798[0][0]']             \n",
            " Normalization)                                                                                   \n",
            "                                                                                                  \n",
            " activation_796 (Activation)    (None, 17, 17, 160)  0           ['batch_normalization_796[0][0]']\n",
            "                                                                                                  \n",
            " conv2d_799 (Conv2D)            (None, 17, 17, 160)  179200      ['activation_796[0][0]']         \n",
            "                                                                                                  \n",
            " batch_normalization_797 (Batch  (None, 17, 17, 160)  480        ['conv2d_799[0][0]']             \n",
            " Normalization)                                                                                   \n",
            "                                                                                                  \n",
            " activation_797 (Activation)    (None, 17, 17, 160)  0           ['batch_normalization_797[0][0]']\n",
            "                                                                                                  \n",
            " conv2d_795 (Conv2D)            (None, 17, 17, 160)  122880      ['mixed4[0][0]']                 \n",
            "                                                                                                  \n",
            " conv2d_800 (Conv2D)            (None, 17, 17, 160)  179200      ['activation_797[0][0]']         \n",
            "                                                                                                  \n",
            " batch_normalization_793 (Batch  (None, 17, 17, 160)  480        ['conv2d_795[0][0]']             \n",
            " Normalization)                                                                                   \n",
            "                                                                                                  \n",
            " batch_normalization_798 (Batch  (None, 17, 17, 160)  480        ['conv2d_800[0][0]']             \n",
            " Normalization)                                                                                   \n",
            "                                                                                                  \n",
            " activation_793 (Activation)    (None, 17, 17, 160)  0           ['batch_normalization_793[0][0]']\n",
            "                                                                                                  \n",
            " activation_798 (Activation)    (None, 17, 17, 160)  0           ['batch_normalization_798[0][0]']\n",
            "                                                                                                  \n",
            " conv2d_796 (Conv2D)            (None, 17, 17, 160)  179200      ['activation_793[0][0]']         \n",
            "                                                                                                  \n",
            " conv2d_801 (Conv2D)            (None, 17, 17, 160)  179200      ['activation_798[0][0]']         \n",
            "                                                                                                  \n",
            " batch_normalization_794 (Batch  (None, 17, 17, 160)  480        ['conv2d_796[0][0]']             \n",
            " Normalization)                                                                                   \n",
            "                                                                                                  \n",
            " batch_normalization_799 (Batch  (None, 17, 17, 160)  480        ['conv2d_801[0][0]']             \n",
            " Normalization)                                                                                   \n",
            "                                                                                                  \n",
            " activation_794 (Activation)    (None, 17, 17, 160)  0           ['batch_normalization_794[0][0]']\n",
            "                                                                                                  \n",
            " activation_799 (Activation)    (None, 17, 17, 160)  0           ['batch_normalization_799[0][0]']\n",
            "                                                                                                  \n",
            " average_pooling2d_76 (AverageP  (None, 17, 17, 768)  0          ['mixed4[0][0]']                 \n",
            " ooling2D)                                                                                        \n",
            "                                                                                                  \n",
            " conv2d_794 (Conv2D)            (None, 17, 17, 192)  147456      ['mixed4[0][0]']                 \n",
            "                                                                                                  \n",
            " conv2d_797 (Conv2D)            (None, 17, 17, 192)  215040      ['activation_794[0][0]']         \n",
            "                                                                                                  \n",
            " conv2d_802 (Conv2D)            (None, 17, 17, 192)  215040      ['activation_799[0][0]']         \n",
            "                                                                                                  \n",
            " conv2d_803 (Conv2D)            (None, 17, 17, 192)  147456      ['average_pooling2d_76[0][0]']   \n",
            "                                                                                                  \n",
            " batch_normalization_792 (Batch  (None, 17, 17, 192)  576        ['conv2d_794[0][0]']             \n",
            " Normalization)                                                                                   \n",
            "                                                                                                  \n",
            " batch_normalization_795 (Batch  (None, 17, 17, 192)  576        ['conv2d_797[0][0]']             \n",
            " Normalization)                                                                                   \n",
            "                                                                                                  \n",
            " batch_normalization_800 (Batch  (None, 17, 17, 192)  576        ['conv2d_802[0][0]']             \n",
            " Normalization)                                                                                   \n",
            "                                                                                                  \n",
            " batch_normalization_801 (Batch  (None, 17, 17, 192)  576        ['conv2d_803[0][0]']             \n",
            " Normalization)                                                                                   \n",
            "                                                                                                  \n",
            " activation_792 (Activation)    (None, 17, 17, 192)  0           ['batch_normalization_792[0][0]']\n",
            "                                                                                                  \n",
            " activation_795 (Activation)    (None, 17, 17, 192)  0           ['batch_normalization_795[0][0]']\n",
            "                                                                                                  \n",
            " activation_800 (Activation)    (None, 17, 17, 192)  0           ['batch_normalization_800[0][0]']\n",
            "                                                                                                  \n",
            " activation_801 (Activation)    (None, 17, 17, 192)  0           ['batch_normalization_801[0][0]']\n",
            "                                                                                                  \n",
            " mixed5 (Concatenate)           (None, 17, 17, 768)  0           ['activation_792[0][0]',         \n",
            "                                                                  'activation_795[0][0]',         \n",
            "                                                                  'activation_800[0][0]',         \n",
            "                                                                  'activation_801[0][0]']         \n",
            "                                                                                                  \n",
            " conv2d_808 (Conv2D)            (None, 17, 17, 160)  122880      ['mixed5[0][0]']                 \n",
            "                                                                                                  \n",
            " batch_normalization_806 (Batch  (None, 17, 17, 160)  480        ['conv2d_808[0][0]']             \n",
            " Normalization)                                                                                   \n",
            "                                                                                                  \n",
            " activation_806 (Activation)    (None, 17, 17, 160)  0           ['batch_normalization_806[0][0]']\n",
            "                                                                                                  \n",
            " conv2d_809 (Conv2D)            (None, 17, 17, 160)  179200      ['activation_806[0][0]']         \n",
            "                                                                                                  \n",
            " batch_normalization_807 (Batch  (None, 17, 17, 160)  480        ['conv2d_809[0][0]']             \n",
            " Normalization)                                                                                   \n",
            "                                                                                                  \n",
            " activation_807 (Activation)    (None, 17, 17, 160)  0           ['batch_normalization_807[0][0]']\n",
            "                                                                                                  \n",
            " conv2d_805 (Conv2D)            (None, 17, 17, 160)  122880      ['mixed5[0][0]']                 \n",
            "                                                                                                  \n",
            " conv2d_810 (Conv2D)            (None, 17, 17, 160)  179200      ['activation_807[0][0]']         \n",
            "                                                                                                  \n",
            " batch_normalization_803 (Batch  (None, 17, 17, 160)  480        ['conv2d_805[0][0]']             \n",
            " Normalization)                                                                                   \n",
            "                                                                                                  \n",
            " batch_normalization_808 (Batch  (None, 17, 17, 160)  480        ['conv2d_810[0][0]']             \n",
            " Normalization)                                                                                   \n",
            "                                                                                                  \n",
            " activation_803 (Activation)    (None, 17, 17, 160)  0           ['batch_normalization_803[0][0]']\n",
            "                                                                                                  \n",
            " activation_808 (Activation)    (None, 17, 17, 160)  0           ['batch_normalization_808[0][0]']\n",
            "                                                                                                  \n",
            " conv2d_806 (Conv2D)            (None, 17, 17, 160)  179200      ['activation_803[0][0]']         \n",
            "                                                                                                  \n",
            " conv2d_811 (Conv2D)            (None, 17, 17, 160)  179200      ['activation_808[0][0]']         \n",
            "                                                                                                  \n",
            " batch_normalization_804 (Batch  (None, 17, 17, 160)  480        ['conv2d_806[0][0]']             \n",
            " Normalization)                                                                                   \n",
            "                                                                                                  \n",
            " batch_normalization_809 (Batch  (None, 17, 17, 160)  480        ['conv2d_811[0][0]']             \n",
            " Normalization)                                                                                   \n",
            "                                                                                                  \n",
            " activation_804 (Activation)    (None, 17, 17, 160)  0           ['batch_normalization_804[0][0]']\n",
            "                                                                                                  \n",
            " activation_809 (Activation)    (None, 17, 17, 160)  0           ['batch_normalization_809[0][0]']\n",
            "                                                                                                  \n",
            " average_pooling2d_77 (AverageP  (None, 17, 17, 768)  0          ['mixed5[0][0]']                 \n",
            " ooling2D)                                                                                        \n",
            "                                                                                                  \n",
            " conv2d_804 (Conv2D)            (None, 17, 17, 192)  147456      ['mixed5[0][0]']                 \n",
            "                                                                                                  \n",
            " conv2d_807 (Conv2D)            (None, 17, 17, 192)  215040      ['activation_804[0][0]']         \n",
            "                                                                                                  \n",
            " conv2d_812 (Conv2D)            (None, 17, 17, 192)  215040      ['activation_809[0][0]']         \n",
            "                                                                                                  \n",
            " conv2d_813 (Conv2D)            (None, 17, 17, 192)  147456      ['average_pooling2d_77[0][0]']   \n",
            "                                                                                                  \n",
            " batch_normalization_802 (Batch  (None, 17, 17, 192)  576        ['conv2d_804[0][0]']             \n",
            " Normalization)                                                                                   \n",
            "                                                                                                  \n",
            " batch_normalization_805 (Batch  (None, 17, 17, 192)  576        ['conv2d_807[0][0]']             \n",
            " Normalization)                                                                                   \n",
            "                                                                                                  \n",
            " batch_normalization_810 (Batch  (None, 17, 17, 192)  576        ['conv2d_812[0][0]']             \n",
            " Normalization)                                                                                   \n",
            "                                                                                                  \n",
            " batch_normalization_811 (Batch  (None, 17, 17, 192)  576        ['conv2d_813[0][0]']             \n",
            " Normalization)                                                                                   \n",
            "                                                                                                  \n",
            " activation_802 (Activation)    (None, 17, 17, 192)  0           ['batch_normalization_802[0][0]']\n",
            "                                                                                                  \n",
            " activation_805 (Activation)    (None, 17, 17, 192)  0           ['batch_normalization_805[0][0]']\n",
            "                                                                                                  \n",
            " activation_810 (Activation)    (None, 17, 17, 192)  0           ['batch_normalization_810[0][0]']\n",
            "                                                                                                  \n",
            " activation_811 (Activation)    (None, 17, 17, 192)  0           ['batch_normalization_811[0][0]']\n",
            "                                                                                                  \n",
            " mixed6 (Concatenate)           (None, 17, 17, 768)  0           ['activation_802[0][0]',         \n",
            "                                                                  'activation_805[0][0]',         \n",
            "                                                                  'activation_810[0][0]',         \n",
            "                                                                  'activation_811[0][0]']         \n",
            "                                                                                                  \n",
            " conv2d_818 (Conv2D)            (None, 17, 17, 192)  147456      ['mixed6[0][0]']                 \n",
            "                                                                                                  \n",
            " batch_normalization_816 (Batch  (None, 17, 17, 192)  576        ['conv2d_818[0][0]']             \n",
            " Normalization)                                                                                   \n",
            "                                                                                                  \n",
            " activation_816 (Activation)    (None, 17, 17, 192)  0           ['batch_normalization_816[0][0]']\n",
            "                                                                                                  \n",
            " conv2d_819 (Conv2D)            (None, 17, 17, 192)  258048      ['activation_816[0][0]']         \n",
            "                                                                                                  \n",
            " batch_normalization_817 (Batch  (None, 17, 17, 192)  576        ['conv2d_819[0][0]']             \n",
            " Normalization)                                                                                   \n",
            "                                                                                                  \n",
            " activation_817 (Activation)    (None, 17, 17, 192)  0           ['batch_normalization_817[0][0]']\n",
            "                                                                                                  \n",
            " conv2d_815 (Conv2D)            (None, 17, 17, 192)  147456      ['mixed6[0][0]']                 \n",
            "                                                                                                  \n",
            " conv2d_820 (Conv2D)            (None, 17, 17, 192)  258048      ['activation_817[0][0]']         \n",
            "                                                                                                  \n",
            " batch_normalization_813 (Batch  (None, 17, 17, 192)  576        ['conv2d_815[0][0]']             \n",
            " Normalization)                                                                                   \n",
            "                                                                                                  \n",
            " batch_normalization_818 (Batch  (None, 17, 17, 192)  576        ['conv2d_820[0][0]']             \n",
            " Normalization)                                                                                   \n",
            "                                                                                                  \n",
            " activation_813 (Activation)    (None, 17, 17, 192)  0           ['batch_normalization_813[0][0]']\n",
            "                                                                                                  \n",
            " activation_818 (Activation)    (None, 17, 17, 192)  0           ['batch_normalization_818[0][0]']\n",
            "                                                                                                  \n",
            " conv2d_816 (Conv2D)            (None, 17, 17, 192)  258048      ['activation_813[0][0]']         \n",
            "                                                                                                  \n",
            " conv2d_821 (Conv2D)            (None, 17, 17, 192)  258048      ['activation_818[0][0]']         \n",
            "                                                                                                  \n",
            " batch_normalization_814 (Batch  (None, 17, 17, 192)  576        ['conv2d_816[0][0]']             \n",
            " Normalization)                                                                                   \n",
            "                                                                                                  \n",
            " batch_normalization_819 (Batch  (None, 17, 17, 192)  576        ['conv2d_821[0][0]']             \n",
            " Normalization)                                                                                   \n",
            "                                                                                                  \n",
            " activation_814 (Activation)    (None, 17, 17, 192)  0           ['batch_normalization_814[0][0]']\n",
            "                                                                                                  \n",
            " activation_819 (Activation)    (None, 17, 17, 192)  0           ['batch_normalization_819[0][0]']\n",
            "                                                                                                  \n",
            " average_pooling2d_78 (AverageP  (None, 17, 17, 768)  0          ['mixed6[0][0]']                 \n",
            " ooling2D)                                                                                        \n",
            "                                                                                                  \n",
            " conv2d_814 (Conv2D)            (None, 17, 17, 192)  147456      ['mixed6[0][0]']                 \n",
            "                                                                                                  \n",
            " conv2d_817 (Conv2D)            (None, 17, 17, 192)  258048      ['activation_814[0][0]']         \n",
            "                                                                                                  \n",
            " conv2d_822 (Conv2D)            (None, 17, 17, 192)  258048      ['activation_819[0][0]']         \n",
            "                                                                                                  \n",
            " conv2d_823 (Conv2D)            (None, 17, 17, 192)  147456      ['average_pooling2d_78[0][0]']   \n",
            "                                                                                                  \n",
            " batch_normalization_812 (Batch  (None, 17, 17, 192)  576        ['conv2d_814[0][0]']             \n",
            " Normalization)                                                                                   \n",
            "                                                                                                  \n",
            " batch_normalization_815 (Batch  (None, 17, 17, 192)  576        ['conv2d_817[0][0]']             \n",
            " Normalization)                                                                                   \n",
            "                                                                                                  \n",
            " batch_normalization_820 (Batch  (None, 17, 17, 192)  576        ['conv2d_822[0][0]']             \n",
            " Normalization)                                                                                   \n",
            "                                                                                                  \n",
            " batch_normalization_821 (Batch  (None, 17, 17, 192)  576        ['conv2d_823[0][0]']             \n",
            " Normalization)                                                                                   \n",
            "                                                                                                  \n",
            " activation_812 (Activation)    (None, 17, 17, 192)  0           ['batch_normalization_812[0][0]']\n",
            "                                                                                                  \n",
            " activation_815 (Activation)    (None, 17, 17, 192)  0           ['batch_normalization_815[0][0]']\n",
            "                                                                                                  \n",
            " activation_820 (Activation)    (None, 17, 17, 192)  0           ['batch_normalization_820[0][0]']\n",
            "                                                                                                  \n",
            " activation_821 (Activation)    (None, 17, 17, 192)  0           ['batch_normalization_821[0][0]']\n",
            "                                                                                                  \n",
            " mixed7 (Concatenate)           (None, 17, 17, 768)  0           ['activation_812[0][0]',         \n",
            "                                                                  'activation_815[0][0]',         \n",
            "                                                                  'activation_820[0][0]',         \n",
            "                                                                  'activation_821[0][0]']         \n",
            "                                                                                                  \n",
            " conv2d_826 (Conv2D)            (None, 17, 17, 192)  147456      ['mixed7[0][0]']                 \n",
            "                                                                                                  \n",
            " batch_normalization_824 (Batch  (None, 17, 17, 192)  576        ['conv2d_826[0][0]']             \n",
            " Normalization)                                                                                   \n",
            "                                                                                                  \n",
            " activation_824 (Activation)    (None, 17, 17, 192)  0           ['batch_normalization_824[0][0]']\n",
            "                                                                                                  \n",
            " conv2d_827 (Conv2D)            (None, 17, 17, 192)  258048      ['activation_824[0][0]']         \n",
            "                                                                                                  \n",
            " batch_normalization_825 (Batch  (None, 17, 17, 192)  576        ['conv2d_827[0][0]']             \n",
            " Normalization)                                                                                   \n",
            "                                                                                                  \n",
            " activation_825 (Activation)    (None, 17, 17, 192)  0           ['batch_normalization_825[0][0]']\n",
            "                                                                                                  \n",
            " conv2d_824 (Conv2D)            (None, 17, 17, 192)  147456      ['mixed7[0][0]']                 \n",
            "                                                                                                  \n",
            " conv2d_828 (Conv2D)            (None, 17, 17, 192)  258048      ['activation_825[0][0]']         \n",
            "                                                                                                  \n",
            " batch_normalization_822 (Batch  (None, 17, 17, 192)  576        ['conv2d_824[0][0]']             \n",
            " Normalization)                                                                                   \n",
            "                                                                                                  \n",
            " batch_normalization_826 (Batch  (None, 17, 17, 192)  576        ['conv2d_828[0][0]']             \n",
            " Normalization)                                                                                   \n",
            "                                                                                                  \n",
            " activation_822 (Activation)    (None, 17, 17, 192)  0           ['batch_normalization_822[0][0]']\n",
            "                                                                                                  \n",
            " activation_826 (Activation)    (None, 17, 17, 192)  0           ['batch_normalization_826[0][0]']\n",
            "                                                                                                  \n",
            " conv2d_825 (Conv2D)            (None, 8, 8, 320)    552960      ['activation_822[0][0]']         \n",
            "                                                                                                  \n",
            " conv2d_829 (Conv2D)            (None, 8, 8, 192)    331776      ['activation_826[0][0]']         \n",
            "                                                                                                  \n",
            " batch_normalization_823 (Batch  (None, 8, 8, 320)   960         ['conv2d_825[0][0]']             \n",
            " Normalization)                                                                                   \n",
            "                                                                                                  \n",
            " batch_normalization_827 (Batch  (None, 8, 8, 192)   576         ['conv2d_829[0][0]']             \n",
            " Normalization)                                                                                   \n",
            "                                                                                                  \n",
            " activation_823 (Activation)    (None, 8, 8, 320)    0           ['batch_normalization_823[0][0]']\n",
            "                                                                                                  \n",
            " activation_827 (Activation)    (None, 8, 8, 192)    0           ['batch_normalization_827[0][0]']\n",
            "                                                                                                  \n",
            " max_pooling2d_37 (MaxPooling2D  (None, 8, 8, 768)   0           ['mixed7[0][0]']                 \n",
            " )                                                                                                \n",
            "                                                                                                  \n",
            " mixed8 (Concatenate)           (None, 8, 8, 1280)   0           ['activation_823[0][0]',         \n",
            "                                                                  'activation_827[0][0]',         \n",
            "                                                                  'max_pooling2d_37[0][0]']       \n",
            "                                                                                                  \n",
            " conv2d_834 (Conv2D)            (None, 8, 8, 448)    573440      ['mixed8[0][0]']                 \n",
            "                                                                                                  \n",
            " batch_normalization_832 (Batch  (None, 8, 8, 448)   1344        ['conv2d_834[0][0]']             \n",
            " Normalization)                                                                                   \n",
            "                                                                                                  \n",
            " activation_832 (Activation)    (None, 8, 8, 448)    0           ['batch_normalization_832[0][0]']\n",
            "                                                                                                  \n",
            " conv2d_831 (Conv2D)            (None, 8, 8, 384)    491520      ['mixed8[0][0]']                 \n",
            "                                                                                                  \n",
            " conv2d_835 (Conv2D)            (None, 8, 8, 384)    1548288     ['activation_832[0][0]']         \n",
            "                                                                                                  \n",
            " batch_normalization_829 (Batch  (None, 8, 8, 384)   1152        ['conv2d_831[0][0]']             \n",
            " Normalization)                                                                                   \n",
            "                                                                                                  \n",
            " batch_normalization_833 (Batch  (None, 8, 8, 384)   1152        ['conv2d_835[0][0]']             \n",
            " Normalization)                                                                                   \n",
            "                                                                                                  \n",
            " activation_829 (Activation)    (None, 8, 8, 384)    0           ['batch_normalization_829[0][0]']\n",
            "                                                                                                  \n",
            " activation_833 (Activation)    (None, 8, 8, 384)    0           ['batch_normalization_833[0][0]']\n",
            "                                                                                                  \n",
            " conv2d_832 (Conv2D)            (None, 8, 8, 384)    442368      ['activation_829[0][0]']         \n",
            "                                                                                                  \n",
            " conv2d_833 (Conv2D)            (None, 8, 8, 384)    442368      ['activation_829[0][0]']         \n",
            "                                                                                                  \n",
            " conv2d_836 (Conv2D)            (None, 8, 8, 384)    442368      ['activation_833[0][0]']         \n",
            "                                                                                                  \n",
            " conv2d_837 (Conv2D)            (None, 8, 8, 384)    442368      ['activation_833[0][0]']         \n",
            "                                                                                                  \n",
            " average_pooling2d_79 (AverageP  (None, 8, 8, 1280)  0           ['mixed8[0][0]']                 \n",
            " ooling2D)                                                                                        \n",
            "                                                                                                  \n",
            " conv2d_830 (Conv2D)            (None, 8, 8, 320)    409600      ['mixed8[0][0]']                 \n",
            "                                                                                                  \n",
            " batch_normalization_830 (Batch  (None, 8, 8, 384)   1152        ['conv2d_832[0][0]']             \n",
            " Normalization)                                                                                   \n",
            "                                                                                                  \n",
            " batch_normalization_831 (Batch  (None, 8, 8, 384)   1152        ['conv2d_833[0][0]']             \n",
            " Normalization)                                                                                   \n",
            "                                                                                                  \n",
            " batch_normalization_834 (Batch  (None, 8, 8, 384)   1152        ['conv2d_836[0][0]']             \n",
            " Normalization)                                                                                   \n",
            "                                                                                                  \n",
            " batch_normalization_835 (Batch  (None, 8, 8, 384)   1152        ['conv2d_837[0][0]']             \n",
            " Normalization)                                                                                   \n",
            "                                                                                                  \n",
            " conv2d_838 (Conv2D)            (None, 8, 8, 192)    245760      ['average_pooling2d_79[0][0]']   \n",
            "                                                                                                  \n",
            " batch_normalization_828 (Batch  (None, 8, 8, 320)   960         ['conv2d_830[0][0]']             \n",
            " Normalization)                                                                                   \n",
            "                                                                                                  \n",
            " activation_830 (Activation)    (None, 8, 8, 384)    0           ['batch_normalization_830[0][0]']\n",
            "                                                                                                  \n",
            " activation_831 (Activation)    (None, 8, 8, 384)    0           ['batch_normalization_831[0][0]']\n",
            "                                                                                                  \n",
            " activation_834 (Activation)    (None, 8, 8, 384)    0           ['batch_normalization_834[0][0]']\n",
            "                                                                                                  \n",
            " activation_835 (Activation)    (None, 8, 8, 384)    0           ['batch_normalization_835[0][0]']\n",
            "                                                                                                  \n",
            " batch_normalization_836 (Batch  (None, 8, 8, 192)   576         ['conv2d_838[0][0]']             \n",
            " Normalization)                                                                                   \n",
            "                                                                                                  \n",
            " activation_828 (Activation)    (None, 8, 8, 320)    0           ['batch_normalization_828[0][0]']\n",
            "                                                                                                  \n",
            " mixed9_0 (Concatenate)         (None, 8, 8, 768)    0           ['activation_830[0][0]',         \n",
            "                                                                  'activation_831[0][0]']         \n",
            "                                                                                                  \n",
            " concatenate_16 (Concatenate)   (None, 8, 8, 768)    0           ['activation_834[0][0]',         \n",
            "                                                                  'activation_835[0][0]']         \n",
            "                                                                                                  \n",
            " activation_836 (Activation)    (None, 8, 8, 192)    0           ['batch_normalization_836[0][0]']\n",
            "                                                                                                  \n",
            " mixed9 (Concatenate)           (None, 8, 8, 2048)   0           ['activation_828[0][0]',         \n",
            "                                                                  'mixed9_0[0][0]',               \n",
            "                                                                  'concatenate_16[0][0]',         \n",
            "                                                                  'activation_836[0][0]']         \n",
            "                                                                                                  \n",
            " conv2d_843 (Conv2D)            (None, 8, 8, 448)    917504      ['mixed9[0][0]']                 \n",
            "                                                                                                  \n",
            " batch_normalization_841 (Batch  (None, 8, 8, 448)   1344        ['conv2d_843[0][0]']             \n",
            " Normalization)                                                                                   \n",
            "                                                                                                  \n",
            " activation_841 (Activation)    (None, 8, 8, 448)    0           ['batch_normalization_841[0][0]']\n",
            "                                                                                                  \n",
            " conv2d_840 (Conv2D)            (None, 8, 8, 384)    786432      ['mixed9[0][0]']                 \n",
            "                                                                                                  \n",
            " conv2d_844 (Conv2D)            (None, 8, 8, 384)    1548288     ['activation_841[0][0]']         \n",
            "                                                                                                  \n",
            " batch_normalization_838 (Batch  (None, 8, 8, 384)   1152        ['conv2d_840[0][0]']             \n",
            " Normalization)                                                                                   \n",
            "                                                                                                  \n",
            " batch_normalization_842 (Batch  (None, 8, 8, 384)   1152        ['conv2d_844[0][0]']             \n",
            " Normalization)                                                                                   \n",
            "                                                                                                  \n",
            " activation_838 (Activation)    (None, 8, 8, 384)    0           ['batch_normalization_838[0][0]']\n",
            "                                                                                                  \n",
            " activation_842 (Activation)    (None, 8, 8, 384)    0           ['batch_normalization_842[0][0]']\n",
            "                                                                                                  \n",
            " conv2d_841 (Conv2D)            (None, 8, 8, 384)    442368      ['activation_838[0][0]']         \n",
            "                                                                                                  \n",
            " conv2d_842 (Conv2D)            (None, 8, 8, 384)    442368      ['activation_838[0][0]']         \n",
            "                                                                                                  \n",
            " conv2d_845 (Conv2D)            (None, 8, 8, 384)    442368      ['activation_842[0][0]']         \n",
            "                                                                                                  \n",
            " conv2d_846 (Conv2D)            (None, 8, 8, 384)    442368      ['activation_842[0][0]']         \n",
            "                                                                                                  \n",
            " average_pooling2d_80 (AverageP  (None, 8, 8, 2048)  0           ['mixed9[0][0]']                 \n",
            " ooling2D)                                                                                        \n",
            "                                                                                                  \n",
            " conv2d_839 (Conv2D)            (None, 8, 8, 320)    655360      ['mixed9[0][0]']                 \n",
            "                                                                                                  \n",
            " batch_normalization_839 (Batch  (None, 8, 8, 384)   1152        ['conv2d_841[0][0]']             \n",
            " Normalization)                                                                                   \n",
            "                                                                                                  \n",
            " batch_normalization_840 (Batch  (None, 8, 8, 384)   1152        ['conv2d_842[0][0]']             \n",
            " Normalization)                                                                                   \n",
            "                                                                                                  \n",
            " batch_normalization_843 (Batch  (None, 8, 8, 384)   1152        ['conv2d_845[0][0]']             \n",
            " Normalization)                                                                                   \n",
            "                                                                                                  \n",
            " batch_normalization_844 (Batch  (None, 8, 8, 384)   1152        ['conv2d_846[0][0]']             \n",
            " Normalization)                                                                                   \n",
            "                                                                                                  \n",
            " conv2d_847 (Conv2D)            (None, 8, 8, 192)    393216      ['average_pooling2d_80[0][0]']   \n",
            "                                                                                                  \n",
            " batch_normalization_837 (Batch  (None, 8, 8, 320)   960         ['conv2d_839[0][0]']             \n",
            " Normalization)                                                                                   \n",
            "                                                                                                  \n",
            " activation_839 (Activation)    (None, 8, 8, 384)    0           ['batch_normalization_839[0][0]']\n",
            "                                                                                                  \n",
            " activation_840 (Activation)    (None, 8, 8, 384)    0           ['batch_normalization_840[0][0]']\n",
            "                                                                                                  \n",
            " activation_843 (Activation)    (None, 8, 8, 384)    0           ['batch_normalization_843[0][0]']\n",
            "                                                                                                  \n",
            " activation_844 (Activation)    (None, 8, 8, 384)    0           ['batch_normalization_844[0][0]']\n",
            "                                                                                                  \n",
            " batch_normalization_845 (Batch  (None, 8, 8, 192)   576         ['conv2d_847[0][0]']             \n",
            " Normalization)                                                                                   \n",
            "                                                                                                  \n",
            " activation_837 (Activation)    (None, 8, 8, 320)    0           ['batch_normalization_837[0][0]']\n",
            "                                                                                                  \n",
            " mixed9_1 (Concatenate)         (None, 8, 8, 768)    0           ['activation_839[0][0]',         \n",
            "                                                                  'activation_840[0][0]']         \n",
            "                                                                                                  \n",
            " concatenate_17 (Concatenate)   (None, 8, 8, 768)    0           ['activation_843[0][0]',         \n",
            "                                                                  'activation_844[0][0]']         \n",
            "                                                                                                  \n",
            " activation_845 (Activation)    (None, 8, 8, 192)    0           ['batch_normalization_845[0][0]']\n",
            "                                                                                                  \n",
            " mixed10 (Concatenate)          (None, 8, 8, 2048)   0           ['activation_837[0][0]',         \n",
            "                                                                  'mixed9_1[0][0]',               \n",
            "                                                                  'concatenate_17[0][0]',         \n",
            "                                                                  'activation_845[0][0]']         \n",
            "                                                                                                  \n",
            "==================================================================================================\n",
            "Total params: 21,802,784\n",
            "Trainable params: 21,768,352\n",
            "Non-trainable params: 34,432\n",
            "__________________________________________________________________________________________________\n"
          ]
        }
      ],
      "source": [
        "model.summary()\n",
        "model.trainable=False"
      ]
    },
    {
      "cell_type": "code",
      "execution_count": 61,
      "metadata": {},
      "outputs": [],
      "source": [
        "from keras.models import Model"
      ]
    },
    {
      "cell_type": "code",
      "execution_count": 77,
      "metadata": {},
      "outputs": [],
      "source": [
        "prediction_layer = layers.Dense(10)\n",
        "global_average_layer = layers.GlobalAveragePooling2D()\n",
        "data_augmentation = tf.keras.Sequential([\n",
        "  layers.RandomFlip('horizontal'),\n",
        "  layers.RandomRotation(0.2),\n",
        "])\n",
        "rescale = tf.keras.layers.Rescaling(1./127.5, offset=-1)"
      ]
    },
    {
      "cell_type": "code",
      "execution_count": 78,
      "metadata": {},
      "outputs": [],
      "source": [
        "inputs = tf.keras.Input(shape=(299, 299, 3))\n",
        "x = data_augmentation(inputs)\n",
        "x = rescale(x)\n",
        "x = model(x, training=False)\n",
        "x = global_average_layer(x)\n",
        "x = tf.keras.layers.Dropout(0.2)(x)\n",
        "outputs = prediction_layer(x)\n",
        "model = tf.keras.Model(inputs, outputs)"
      ]
    },
    {
      "cell_type": "code",
      "execution_count": 79,
      "metadata": {},
      "outputs": [
        {
          "name": "stdout",
          "output_type": "stream",
          "text": [
            "Model: \"model_6\"\n",
            "_________________________________________________________________\n",
            " Layer (type)                Output Shape              Param #   \n",
            "=================================================================\n",
            " input_26 (InputLayer)       [(None, 299, 299, 3)]     0         \n",
            "                                                                 \n",
            " sequential_8 (Sequential)   (None, 299, 299, 3)       0         \n",
            "                                                                 \n",
            " rescaling_6 (Rescaling)     (None, 299, 299, 3)       0         \n",
            "                                                                 \n",
            " inception_v3 (Functional)   (None, 8, 8, 2048)        21802784  \n",
            "                                                                 \n",
            " global_average_pooling2d_11  (None, 2048)             0         \n",
            "  (GlobalAveragePooling2D)                                       \n",
            "                                                                 \n",
            " dropout_5 (Dropout)         (None, 2048)              0         \n",
            "                                                                 \n",
            " dense_9 (Dense)             (None, 10)                20490     \n",
            "                                                                 \n",
            "=================================================================\n",
            "Total params: 21,823,274\n",
            "Trainable params: 20,490\n",
            "Non-trainable params: 21,802,784\n",
            "_________________________________________________________________\n"
          ]
        }
      ],
      "source": [
        "model.summary()"
      ]
    },
    {
      "cell_type": "code",
      "execution_count": 81,
      "metadata": {},
      "outputs": [],
      "source": [
        "base_learning_rate = 0.0001\n",
        "intial_epochs=10\n",
        "model.compile(optimizer=tf.keras.optimizers.Adam(learning_rate=base_learning_rate),\n",
        "              loss=losses.CategoricalCrossentropy(from_logits=True),\n",
        "              metrics=['accuracy'])"
      ]
    },
    {
      "cell_type": "code",
      "execution_count": 82,
      "metadata": {},
      "outputs": [
        {
          "name": "stdout",
          "output_type": "stream",
          "text": [
            "Epoch 1/10\n",
            "35/35 [==============================] - 65s 2s/step - loss: 2.3396 - accuracy: 0.1011 - val_loss: 2.3028 - val_accuracy: 0.0956\n",
            "Epoch 2/10\n",
            "33/35 [===========================>..] - ETA: 3s - loss: 2.3260 - accuracy: 0.0928"
          ]
        }
      ],
      "source": [
        "history = model.fit(train_generator,\n",
        "                    epochs=10,\n",
        "                    validation_data=test_generator)\n",
        "history.evaluate(test_generator)"
      ]
    }
  ],
  "metadata": {
    "accelerator": "GPU",
    "colab": {
      "collapsed_sections": [
        "NMgtAL1C7ZrZ",
        "5E8X50s8U2Bp",
        "WArP_o84Jpk6",
        "yz3A2GMLU9zB",
        "lzViB1a6dSiJ",
        "-huhhw_IdSiL",
        "UOufEFXkdSiM",
        "LiIgb7LVdSiN",
        "KWt7bzXZfLQC",
        "ciJYMp1OdSiN",
        "Y26G1tqffN1f"
      ],
      "name": "anakra_Proj2.ipynb",
      "provenance": []
    },
    "kernelspec": {
      "display_name": "Python 3",
      "name": "python3"
    },
    "language_info": {
      "codemirror_mode": {
        "name": "ipython",
        "version": 3
      },
      "file_extension": ".py",
      "mimetype": "text/x-python",
      "name": "python",
      "nbconvert_exporter": "python",
      "pygments_lexer": "ipython3",
      "version": "3.9.4"
    }
  },
  "nbformat": 4,
  "nbformat_minor": 0
}
